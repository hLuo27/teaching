{
 "cells": [
  {
   "cell_type": "markdown",
   "metadata": {},
   "source": [
    "# Data 8: Lab 3 Discussion\n",
    "\n",
    "## Data Types"
   ]
  },
  {
   "cell_type": "code",
   "execution_count": 2,
   "metadata": {},
   "outputs": [
    {
     "data": {
      "text/plain": [
       "2"
      ]
     },
     "execution_count": 2,
     "metadata": {},
     "output_type": "execute_result"
    }
   ],
   "source": [
    "min([2,3])"
   ]
  },
  {
   "cell_type": "code",
   "execution_count": 3,
   "metadata": {},
   "outputs": [
    {
     "data": {
      "text/plain": [
       "builtin_function_or_method"
      ]
     },
     "execution_count": 3,
     "metadata": {},
     "output_type": "execute_result"
    }
   ],
   "source": [
    "type(min)"
   ]
  },
  {
   "cell_type": "code",
   "execution_count": 4,
   "metadata": {},
   "outputs": [
    {
     "data": {
      "text/plain": [
       "2"
      ]
     },
     "execution_count": 4,
     "metadata": {},
     "output_type": "execute_result"
    }
   ],
   "source": [
    "2"
   ]
  },
  {
   "cell_type": "code",
   "execution_count": 5,
   "metadata": {},
   "outputs": [
    {
     "data": {
      "text/plain": [
       "int"
      ]
     },
     "execution_count": 5,
     "metadata": {},
     "output_type": "execute_result"
    }
   ],
   "source": [
    "type(2)"
   ]
  },
  {
   "cell_type": "code",
   "execution_count": 6,
   "metadata": {},
   "outputs": [
    {
     "data": {
      "text/plain": [
       "float"
      ]
     },
     "execution_count": 6,
     "metadata": {},
     "output_type": "execute_result"
    }
   ],
   "source": [
    "type(2.0)"
   ]
  },
  {
   "cell_type": "code",
   "execution_count": 7,
   "metadata": {},
   "outputs": [
    {
     "data": {
      "text/plain": [
       "900.0"
      ]
     },
     "execution_count": 7,
     "metadata": {},
     "output_type": "execute_result"
    }
   ],
   "source": [
    "# Scientific notation: 9 x 10^2\n",
    "9e2"
   ]
  },
  {
   "cell_type": "code",
   "execution_count": 8,
   "metadata": {},
   "outputs": [
    {
     "data": {
      "text/plain": [
       "float"
      ]
     },
     "execution_count": 8,
     "metadata": {},
     "output_type": "execute_result"
    }
   ],
   "source": [
    "type(9e2)"
   ]
  },
  {
   "cell_type": "code",
   "execution_count": 9,
   "metadata": {},
   "outputs": [
    {
     "data": {
      "text/plain": [
       "str"
      ]
     },
     "execution_count": 9,
     "metadata": {},
     "output_type": "execute_result"
    }
   ],
   "source": [
    "type(\"data\")"
   ]
  },
  {
   "cell_type": "code",
   "execution_count": 10,
   "metadata": {},
   "outputs": [
    {
     "data": {
      "text/plain": [
       "str"
      ]
     },
     "execution_count": 10,
     "metadata": {},
     "output_type": "execute_result"
    }
   ],
   "source": [
    "type('science')"
   ]
  },
  {
   "cell_type": "code",
   "execution_count": 11,
   "metadata": {},
   "outputs": [
    {
     "data": {
      "text/plain": [
       "'datascience'"
      ]
     },
     "execution_count": 11,
     "metadata": {},
     "output_type": "execute_result"
    }
   ],
   "source": [
    "\"data\" + 'science'"
   ]
  },
  {
   "cell_type": "code",
   "execution_count": 12,
   "metadata": {},
   "outputs": [
    {
     "data": {
      "text/plain": [
       "'data'"
      ]
     },
     "execution_count": 12,
     "metadata": {},
     "output_type": "execute_result"
    }
   ],
   "source": [
    "\"DATA\".lower()"
   ]
  },
  {
   "cell_type": "code",
   "execution_count": 13,
   "metadata": {},
   "outputs": [
    {
     "data": {
      "text/plain": [
       "'Data Science is great'"
      ]
     },
     "execution_count": 13,
     "metadata": {},
     "output_type": "execute_result"
    }
   ],
   "source": [
    "'Data Science is good'.replace('good','great')"
   ]
  },
  {
   "cell_type": "code",
   "execution_count": 14,
   "metadata": {},
   "outputs": [
    {
     "data": {
      "text/plain": [
       "\"Tom's taking Data 8 this semester\""
      ]
     },
     "execution_count": 14,
     "metadata": {},
     "output_type": "execute_result"
    }
   ],
   "source": [
    "\"Tom's taking Data 8 this semester\""
   ]
  },
  {
   "cell_type": "code",
   "execution_count": 15,
   "metadata": {},
   "outputs": [
    {
     "data": {
      "text/plain": [
       "True"
      ]
     },
     "execution_count": 15,
     "metadata": {},
     "output_type": "execute_result"
    }
   ],
   "source": [
    "2 < 3"
   ]
  },
  {
   "cell_type": "code",
   "execution_count": 16,
   "metadata": {
    "scrolled": true
   },
   "outputs": [
    {
     "data": {
      "text/plain": [
       "bool"
      ]
     },
     "execution_count": 16,
     "metadata": {},
     "output_type": "execute_result"
    }
   ],
   "source": [
    "type(True)"
   ]
  },
  {
   "cell_type": "code",
   "execution_count": 17,
   "metadata": {},
   "outputs": [
    {
     "data": {
      "text/plain": [
       "1"
      ]
     },
     "execution_count": 17,
     "metadata": {},
     "output_type": "execute_result"
    }
   ],
   "source": [
    "min([1,2,3])"
   ]
  },
  {
   "cell_type": "code",
   "execution_count": 18,
   "metadata": {},
   "outputs": [
    {
     "data": {
      "text/plain": [
       "3"
      ]
     },
     "execution_count": 18,
     "metadata": {},
     "output_type": "execute_result"
    }
   ],
   "source": [
    "len([1,2,3])"
   ]
  },
  {
   "cell_type": "code",
   "execution_count": 19,
   "metadata": {},
   "outputs": [
    {
     "data": {
      "text/plain": [
       "3.0"
      ]
     },
     "execution_count": 19,
     "metadata": {},
     "output_type": "execute_result"
    }
   ],
   "source": [
    "max([1.0,2.0,3.0])"
   ]
  },
  {
   "cell_type": "markdown",
   "metadata": {},
   "source": [
    "### Converting between Data Types"
   ]
  },
  {
   "cell_type": "markdown",
   "metadata": {},
   "source": [
    "To convert a string to an integer, the string must be literally the integer - see the errors below!"
   ]
  },
  {
   "cell_type": "code",
   "execution_count": 38,
   "metadata": {},
   "outputs": [
    {
     "data": {
      "text/plain": [
       "2"
      ]
     },
     "execution_count": 38,
     "metadata": {},
     "output_type": "execute_result"
    }
   ],
   "source": [
    "int('2')"
   ]
  },
  {
   "cell_type": "code",
   "execution_count": 39,
   "metadata": {},
   "outputs": [
    {
     "ename": "ValueError",
     "evalue": "invalid literal for int() with base 10: '2.0'",
     "output_type": "error",
     "traceback": [
      "\u001b[1;31m---------------------------------------------------------------------------\u001b[0m",
      "\u001b[1;31mValueError\u001b[0m                                Traceback (most recent call last)",
      "\u001b[1;32m<ipython-input-39-27ade5403981>\u001b[0m in \u001b[0;36m<module>\u001b[1;34m\u001b[0m\n\u001b[1;32m----> 1\u001b[1;33m \u001b[0mint\u001b[0m\u001b[1;33m(\u001b[0m\u001b[1;34m'2.0'\u001b[0m\u001b[1;33m)\u001b[0m\u001b[1;33m\u001b[0m\u001b[1;33m\u001b[0m\u001b[0m\n\u001b[0m",
      "\u001b[1;31mValueError\u001b[0m: invalid literal for int() with base 10: '2.0'"
     ]
    }
   ],
   "source": [
    "int('2.0')"
   ]
  },
  {
   "cell_type": "code",
   "execution_count": 40,
   "metadata": {},
   "outputs": [
    {
     "ename": "ValueError",
     "evalue": "invalid literal for int() with base 10: '2.7'",
     "output_type": "error",
     "traceback": [
      "\u001b[1;31m---------------------------------------------------------------------------\u001b[0m",
      "\u001b[1;31mValueError\u001b[0m                                Traceback (most recent call last)",
      "\u001b[1;32m<ipython-input-40-ed04ee534288>\u001b[0m in \u001b[0;36m<module>\u001b[1;34m\u001b[0m\n\u001b[1;32m----> 1\u001b[1;33m \u001b[0mint\u001b[0m\u001b[1;33m(\u001b[0m\u001b[1;34m'2.7'\u001b[0m\u001b[1;33m)\u001b[0m\u001b[1;33m\u001b[0m\u001b[1;33m\u001b[0m\u001b[0m\n\u001b[0m",
      "\u001b[1;31mValueError\u001b[0m: invalid literal for int() with base 10: '2.7'"
     ]
    }
   ],
   "source": [
    "int('2.7')"
   ]
  },
  {
   "cell_type": "code",
   "execution_count": 41,
   "metadata": {},
   "outputs": [
    {
     "ename": "ValueError",
     "evalue": "invalid literal for int() with base 10: 'two'",
     "output_type": "error",
     "traceback": [
      "\u001b[1;31m---------------------------------------------------------------------------\u001b[0m",
      "\u001b[1;31mValueError\u001b[0m                                Traceback (most recent call last)",
      "\u001b[1;32m<ipython-input-41-7201513051c4>\u001b[0m in \u001b[0;36m<module>\u001b[1;34m\u001b[0m\n\u001b[1;32m----> 1\u001b[1;33m \u001b[0mint\u001b[0m\u001b[1;33m(\u001b[0m\u001b[1;34m'two'\u001b[0m\u001b[1;33m)\u001b[0m\u001b[1;33m\u001b[0m\u001b[1;33m\u001b[0m\u001b[0m\n\u001b[0m",
      "\u001b[1;31mValueError\u001b[0m: invalid literal for int() with base 10: 'two'"
     ]
    }
   ],
   "source": [
    "int('two')"
   ]
  },
  {
   "cell_type": "markdown",
   "metadata": {},
   "source": [
    "int takes the floor of a float: it rounds to the largest possible integer less than the float given"
   ]
  },
  {
   "cell_type": "code",
   "execution_count": 42,
   "metadata": {},
   "outputs": [
    {
     "data": {
      "text/plain": [
       "2"
      ]
     },
     "execution_count": 42,
     "metadata": {},
     "output_type": "execute_result"
    }
   ],
   "source": [
    "int(2.7)"
   ]
  },
  {
   "cell_type": "code",
   "execution_count": 43,
   "metadata": {},
   "outputs": [
    {
     "data": {
      "text/plain": [
       "2.0"
      ]
     },
     "execution_count": 43,
     "metadata": {},
     "output_type": "execute_result"
    }
   ],
   "source": [
    "float('2')"
   ]
  },
  {
   "cell_type": "code",
   "execution_count": 44,
   "metadata": {},
   "outputs": [
    {
     "data": {
      "text/plain": [
       "2.7"
      ]
     },
     "execution_count": 44,
     "metadata": {},
     "output_type": "execute_result"
    }
   ],
   "source": [
    "float('2.7')"
   ]
  },
  {
   "cell_type": "code",
   "execution_count": 45,
   "metadata": {},
   "outputs": [
    {
     "data": {
      "text/plain": [
       "3.0"
      ]
     },
     "execution_count": 45,
     "metadata": {},
     "output_type": "execute_result"
    }
   ],
   "source": [
    "float(3)"
   ]
  },
  {
   "cell_type": "code",
   "execution_count": 46,
   "metadata": {},
   "outputs": [
    {
     "data": {
      "text/plain": [
       "'2'"
      ]
     },
     "execution_count": 46,
     "metadata": {},
     "output_type": "execute_result"
    }
   ],
   "source": [
    "str(2)"
   ]
  },
  {
   "cell_type": "code",
   "execution_count": 47,
   "metadata": {},
   "outputs": [
    {
     "data": {
      "text/plain": [
       "'2.0'"
      ]
     },
     "execution_count": 47,
     "metadata": {},
     "output_type": "execute_result"
    }
   ],
   "source": [
    "str(2.0)"
   ]
  },
  {
   "cell_type": "markdown",
   "metadata": {},
   "source": [
    "Anything except 0 will return True when bool is called"
   ]
  },
  {
   "cell_type": "code",
   "execution_count": 48,
   "metadata": {},
   "outputs": [
    {
     "data": {
      "text/plain": [
       "True"
      ]
     },
     "execution_count": 48,
     "metadata": {},
     "output_type": "execute_result"
    }
   ],
   "source": [
    "bool(2)"
   ]
  },
  {
   "cell_type": "code",
   "execution_count": 49,
   "metadata": {},
   "outputs": [
    {
     "data": {
      "text/plain": [
       "False"
      ]
     },
     "execution_count": 49,
     "metadata": {},
     "output_type": "execute_result"
    }
   ],
   "source": [
    "bool(0)"
   ]
  },
  {
   "cell_type": "code",
   "execution_count": 50,
   "metadata": {},
   "outputs": [
    {
     "data": {
      "text/plain": [
       "True"
      ]
     },
     "execution_count": 50,
     "metadata": {},
     "output_type": "execute_result"
    }
   ],
   "source": [
    "bool('test')"
   ]
  },
  {
   "cell_type": "markdown",
   "metadata": {},
   "source": [
    "## Sequences\n",
    "\n",
    "### Arrays"
   ]
  },
  {
   "cell_type": "code",
   "execution_count": 1,
   "metadata": {},
   "outputs": [],
   "source": [
    "from datascience import *\n",
    "import numpy as np"
   ]
  },
  {
   "cell_type": "code",
   "execution_count": 97,
   "metadata": {},
   "outputs": [
    {
     "data": {
      "text/plain": [
       "array([1, 1, 1, 1, 1, 1, 1, 2, 2, 2, 3], dtype=int64)"
      ]
     },
     "execution_count": 97,
     "metadata": {},
     "output_type": "execute_result"
    }
   ],
   "source": [
    "years = make_array(1,1,1,1,1,1,1,2,2,2,3)\n",
    "years"
   ]
  },
  {
   "cell_type": "code",
   "execution_count": 98,
   "metadata": {},
   "outputs": [
    {
     "data": {
      "text/plain": [
       "1"
      ]
     },
     "execution_count": 98,
     "metadata": {},
     "output_type": "execute_result"
    }
   ],
   "source": [
    "min(years)"
   ]
  },
  {
   "cell_type": "code",
   "execution_count": 99,
   "metadata": {},
   "outputs": [
    {
     "data": {
      "text/plain": [
       "3"
      ]
     },
     "execution_count": 99,
     "metadata": {},
     "output_type": "execute_result"
    }
   ],
   "source": [
    "max(years)"
   ]
  },
  {
   "cell_type": "code",
   "execution_count": 100,
   "metadata": {},
   "outputs": [
    {
     "data": {
      "text/plain": [
       "11"
      ]
     },
     "execution_count": 100,
     "metadata": {},
     "output_type": "execute_result"
    }
   ],
   "source": [
    "len(years)"
   ]
  },
  {
   "cell_type": "code",
   "execution_count": 101,
   "metadata": {},
   "outputs": [
    {
     "data": {
      "text/plain": [
       "1.4545454545454546"
      ]
     },
     "execution_count": 101,
     "metadata": {},
     "output_type": "execute_result"
    }
   ],
   "source": [
    "sum(years)/len(years)"
   ]
  },
  {
   "cell_type": "code",
   "execution_count": 102,
   "metadata": {},
   "outputs": [
    {
     "data": {
      "text/plain": [
       "1.4545454545454546"
      ]
     },
     "execution_count": 102,
     "metadata": {},
     "output_type": "execute_result"
    }
   ],
   "source": [
    "np.mean(years)"
   ]
  },
  {
   "cell_type": "code",
   "execution_count": 103,
   "metadata": {},
   "outputs": [
    {
     "data": {
      "text/plain": [
       "0.6555547773570889"
      ]
     },
     "execution_count": 103,
     "metadata": {},
     "output_type": "execute_result"
    }
   ],
   "source": [
    "np.std(years)"
   ]
  },
  {
   "cell_type": "code",
   "execution_count": 104,
   "metadata": {},
   "outputs": [
    {
     "data": {
      "text/plain": [
       "True"
      ]
     },
     "execution_count": 104,
     "metadata": {},
     "output_type": "execute_result"
    }
   ],
   "source": [
    "# Are all years non-zero?\n",
    "np.all(years)"
   ]
  },
  {
   "cell_type": "code",
   "execution_count": 105,
   "metadata": {},
   "outputs": [
    {
     "data": {
      "text/plain": [
       "array([0, 0, 0, 0, 0, 0, 1, 0, 0, 1], dtype=int64)"
      ]
     },
     "execution_count": 105,
     "metadata": {},
     "output_type": "execute_result"
    }
   ],
   "source": [
    "# Difference between adjacent elements\n",
    "np.diff(years)"
   ]
  },
  {
   "cell_type": "code",
   "execution_count": 106,
   "metadata": {},
   "outputs": [
    {
     "data": {
      "text/plain": [
       "array([ 1,  2,  3,  4,  5,  6,  7,  9, 11, 13, 16], dtype=int64)"
      ]
     },
     "execution_count": 106,
     "metadata": {},
     "output_type": "execute_result"
    }
   ],
   "source": [
    "# Cumulative sum \n",
    "np.cumsum(years)"
   ]
  },
  {
   "cell_type": "code",
   "execution_count": 107,
   "metadata": {},
   "outputs": [
    {
     "data": {
      "text/plain": [
       "array([ 2.71828183,  2.71828183,  2.71828183,  2.71828183,  2.71828183,\n",
       "        2.71828183,  2.71828183,  7.3890561 ,  7.3890561 ,  7.3890561 ,\n",
       "       20.08553692])"
      ]
     },
     "execution_count": 107,
     "metadata": {},
     "output_type": "execute_result"
    }
   ],
   "source": [
    "np.exp(years)"
   ]
  },
  {
   "cell_type": "code",
   "execution_count": 108,
   "metadata": {},
   "outputs": [
    {
     "data": {
      "text/plain": [
       "1"
      ]
     },
     "execution_count": 108,
     "metadata": {},
     "output_type": "execute_result"
    }
   ],
   "source": [
    "years.item(0)"
   ]
  },
  {
   "cell_type": "code",
   "execution_count": 109,
   "metadata": {},
   "outputs": [
    {
     "data": {
      "text/plain": [
       "2"
      ]
     },
     "execution_count": 109,
     "metadata": {},
     "output_type": "execute_result"
    }
   ],
   "source": [
    "years.item(7)"
   ]
  },
  {
   "cell_type": "markdown",
   "metadata": {},
   "source": [
    "### Ranges"
   ]
  },
  {
   "cell_type": "code",
   "execution_count": 21,
   "metadata": {},
   "outputs": [],
   "source": [
    "import numpy as np"
   ]
  },
  {
   "cell_type": "code",
   "execution_count": 22,
   "metadata": {},
   "outputs": [
    {
     "data": {
      "text/plain": [
       "array([0, 1, 2, 3, 4])"
      ]
     },
     "execution_count": 22,
     "metadata": {},
     "output_type": "execute_result"
    }
   ],
   "source": [
    "np.arange(5)"
   ]
  },
  {
   "cell_type": "code",
   "execution_count": 23,
   "metadata": {},
   "outputs": [
    {
     "data": {
      "text/plain": [
       "array([2, 3, 4])"
      ]
     },
     "execution_count": 23,
     "metadata": {},
     "output_type": "execute_result"
    }
   ],
   "source": [
    "np.arange(2,5)"
   ]
  },
  {
   "cell_type": "code",
   "execution_count": 24,
   "metadata": {},
   "outputs": [
    {
     "data": {
      "text/plain": [
       "array([2, 4])"
      ]
     },
     "execution_count": 24,
     "metadata": {},
     "output_type": "execute_result"
    }
   ],
   "source": [
    "np.arange(2,5,2)"
   ]
  },
  {
   "cell_type": "markdown",
   "metadata": {},
   "source": [
    "## Creating Tables"
   ]
  },
  {
   "cell_type": "code",
   "execution_count": 110,
   "metadata": {},
   "outputs": [
    {
     "data": {
      "text/html": [
       "<table border=\"1\" class=\"dataframe\">\n",
       "    <thead>\n",
       "        <tr>\n",
       "            <th>Number of petals</th> <th>Name</th>\n",
       "        </tr>\n",
       "    </thead>\n",
       "    <tbody>\n",
       "        <tr>\n",
       "            <td>8               </td> <td>lotus    </td>\n",
       "        </tr>\n",
       "        <tr>\n",
       "            <td>34              </td> <td>sunflower</td>\n",
       "        </tr>\n",
       "        <tr>\n",
       "            <td>5               </td> <td>rose     </td>\n",
       "        </tr>\n",
       "    </tbody>\n",
       "</table>"
      ],
      "text/plain": [
       "Number of petals | Name\n",
       "8                | lotus\n",
       "34               | sunflower\n",
       "5                | rose"
      ]
     },
     "execution_count": 110,
     "metadata": {},
     "output_type": "execute_result"
    }
   ],
   "source": [
    "flowers = Table().with_columns(\n",
    "    'Number of petals', make_array(8, 34, 5),\n",
    "    'Name', make_array('lotus', 'sunflower', 'rose')\n",
    ")\n",
    "flowers"
   ]
  },
  {
   "cell_type": "code",
   "execution_count": 111,
   "metadata": {},
   "outputs": [
    {
     "data": {
      "text/html": [
       "<table border=\"1\" class=\"dataframe\">\n",
       "    <thead>\n",
       "        <tr>\n",
       "            <th>Number of petals</th> <th>Name</th> <th>Color</th>\n",
       "        </tr>\n",
       "    </thead>\n",
       "    <tbody>\n",
       "        <tr>\n",
       "            <td>8               </td> <td>lotus    </td> <td>pink  </td>\n",
       "        </tr>\n",
       "        <tr>\n",
       "            <td>34              </td> <td>sunflower</td> <td>yellow</td>\n",
       "        </tr>\n",
       "        <tr>\n",
       "            <td>5               </td> <td>rose     </td> <td>red   </td>\n",
       "        </tr>\n",
       "    </tbody>\n",
       "</table>"
      ],
      "text/plain": [
       "Number of petals | Name      | Color\n",
       "8                | lotus     | pink\n",
       "34               | sunflower | yellow\n",
       "5                | rose      | red"
      ]
     },
     "execution_count": 111,
     "metadata": {},
     "output_type": "execute_result"
    }
   ],
   "source": [
    "flowers = flowers.with_columns(\n",
    "    'Color', make_array('pink', 'yellow', 'red')\n",
    ")\n",
    "flowers"
   ]
  },
  {
   "cell_type": "code",
   "execution_count": 112,
   "metadata": {},
   "outputs": [
    {
     "data": {
      "text/html": [
       "<table border=\"1\" class=\"dataframe\">\n",
       "    <thead>\n",
       "        <tr>\n",
       "            <th>Number of petals</th> <th>Name</th> <th>Colour</th>\n",
       "        </tr>\n",
       "    </thead>\n",
       "    <tbody>\n",
       "        <tr>\n",
       "            <td>8               </td> <td>lotus    </td> <td>pink  </td>\n",
       "        </tr>\n",
       "        <tr>\n",
       "            <td>34              </td> <td>sunflower</td> <td>yellow</td>\n",
       "        </tr>\n",
       "        <tr>\n",
       "            <td>5               </td> <td>rose     </td> <td>red   </td>\n",
       "        </tr>\n",
       "    </tbody>\n",
       "</table>"
      ],
      "text/plain": [
       "Number of petals | Name      | Colour\n",
       "8                | lotus     | pink\n",
       "34               | sunflower | yellow\n",
       "5                | rose      | red"
      ]
     },
     "execution_count": 112,
     "metadata": {},
     "output_type": "execute_result"
    }
   ],
   "source": [
    "flowers.relabeled('Color', 'Colour')"
   ]
  },
  {
   "cell_type": "code",
   "execution_count": 113,
   "metadata": {},
   "outputs": [
    {
     "data": {
      "text/html": [
       "<table border=\"1\" class=\"dataframe\">\n",
       "    <thead>\n",
       "        <tr>\n",
       "            <th>Name</th>\n",
       "        </tr>\n",
       "    </thead>\n",
       "    <tbody>\n",
       "        <tr>\n",
       "            <td>lotus    </td>\n",
       "        </tr>\n",
       "        <tr>\n",
       "            <td>sunflower</td>\n",
       "        </tr>\n",
       "        <tr>\n",
       "            <td>rose     </td>\n",
       "        </tr>\n",
       "    </tbody>\n",
       "</table>"
      ],
      "text/plain": [
       "Name\n",
       "lotus\n",
       "sunflower\n",
       "rose"
      ]
     },
     "execution_count": 113,
     "metadata": {},
     "output_type": "execute_result"
    }
   ],
   "source": [
    "flowers.select('Name')"
   ]
  },
  {
   "cell_type": "code",
   "execution_count": 114,
   "metadata": {},
   "outputs": [
    {
     "data": {
      "text/plain": [
       "array(['lotus', 'sunflower', 'rose'], dtype='<U9')"
      ]
     },
     "execution_count": 114,
     "metadata": {},
     "output_type": "execute_result"
    }
   ],
   "source": [
    "flowers.column('Name')"
   ]
  },
  {
   "cell_type": "markdown",
   "metadata": {},
   "source": [
    "Refer to lab2 notebook for more table operations"
   ]
  },
  {
   "cell_type": "markdown",
   "metadata": {},
   "source": [
    "## Worksheet Solutions\n",
    "\n",
    "### Question 1"
   ]
  },
  {
   "cell_type": "code",
   "execution_count": 23,
   "metadata": {},
   "outputs": [
    {
     "data": {
      "text/plain": [
       "'I love Data 8'"
      ]
     },
     "execution_count": 23,
     "metadata": {},
     "output_type": "execute_result"
    }
   ],
   "source": [
    "\"I love \" + \"Data 8\""
   ]
  },
  {
   "cell_type": "code",
   "execution_count": 26,
   "metadata": {},
   "outputs": [
    {
     "ename": "TypeError",
     "evalue": "must be str, not int",
     "output_type": "error",
     "traceback": [
      "\u001b[1;31m---------------------------------------------------------------------------\u001b[0m",
      "\u001b[1;31mTypeError\u001b[0m                                 Traceback (most recent call last)",
      "\u001b[1;32m<ipython-input-26-494b65ddbee2>\u001b[0m in \u001b[0;36m<module>\u001b[1;34m\u001b[0m\n\u001b[1;32m----> 1\u001b[1;33m \u001b[1;34m\"I love Data \"\u001b[0m \u001b[1;33m+\u001b[0m \u001b[1;36m8\u001b[0m\u001b[1;33m\u001b[0m\u001b[1;33m\u001b[0m\u001b[0m\n\u001b[0m",
      "\u001b[1;31mTypeError\u001b[0m: must be str, not int"
     ]
    }
   ],
   "source": [
    "\"I love Data \" + 8"
   ]
  },
  {
   "cell_type": "code",
   "execution_count": 27,
   "metadata": {},
   "outputs": [
    {
     "data": {
      "text/plain": [
       "array([1, 2, 3])"
      ]
     },
     "execution_count": 27,
     "metadata": {},
     "output_type": "execute_result"
    }
   ],
   "source": [
    "np.arange(1,4,1)"
   ]
  },
  {
   "cell_type": "code",
   "execution_count": 28,
   "metadata": {},
   "outputs": [
    {
     "data": {
      "text/plain": [
       "array([2, 4, 6])"
      ]
     },
     "execution_count": 28,
     "metadata": {},
     "output_type": "execute_result"
    }
   ],
   "source": [
    "np.arange(2,7,2)"
   ]
  },
  {
   "cell_type": "code",
   "execution_count": 29,
   "metadata": {},
   "outputs": [
    {
     "data": {
      "text/plain": [
       "array([3, 6, 9])"
      ]
     },
     "execution_count": 29,
     "metadata": {},
     "output_type": "execute_result"
    }
   ],
   "source": [
    "np.arange(1,4,1) + np.arange(2,7,2)"
   ]
  },
  {
   "cell_type": "code",
   "execution_count": 30,
   "metadata": {},
   "outputs": [
    {
     "data": {
      "text/plain": [
       "array([3, 4, 5], dtype=int64)"
      ]
     },
     "execution_count": 30,
     "metadata": {},
     "output_type": "execute_result"
    }
   ],
   "source": [
    "make_array(3,4,5)"
   ]
  },
  {
   "cell_type": "code",
   "execution_count": 34,
   "metadata": {},
   "outputs": [
    {
     "data": {
      "text/plain": [
       "array([2, 3, 4, 5, 6])"
      ]
     },
     "execution_count": 34,
     "metadata": {},
     "output_type": "execute_result"
    }
   ],
   "source": [
    "np.arange(2,7,1)"
   ]
  },
  {
   "cell_type": "code",
   "execution_count": 37,
   "metadata": {},
   "outputs": [
    {
     "ename": "ValueError",
     "evalue": "operands could not be broadcast together with shapes (3,) (5,) ",
     "output_type": "error",
     "traceback": [
      "\u001b[1;31m---------------------------------------------------------------------------\u001b[0m",
      "\u001b[1;31mValueError\u001b[0m                                Traceback (most recent call last)",
      "\u001b[1;32m<ipython-input-37-a129c233c6c7>\u001b[0m in \u001b[0;36m<module>\u001b[1;34m\u001b[0m\n\u001b[1;32m----> 1\u001b[1;33m \u001b[0mmake_array\u001b[0m\u001b[1;33m(\u001b[0m\u001b[1;36m3\u001b[0m\u001b[1;33m,\u001b[0m\u001b[1;36m4\u001b[0m\u001b[1;33m,\u001b[0m\u001b[1;36m5\u001b[0m\u001b[1;33m)\u001b[0m \u001b[1;33m+\u001b[0m \u001b[0mnp\u001b[0m\u001b[1;33m.\u001b[0m\u001b[0marange\u001b[0m\u001b[1;33m(\u001b[0m\u001b[1;36m2\u001b[0m\u001b[1;33m,\u001b[0m\u001b[1;36m7\u001b[0m\u001b[1;33m,\u001b[0m\u001b[1;36m1\u001b[0m\u001b[1;33m)\u001b[0m\u001b[1;33m\u001b[0m\u001b[1;33m\u001b[0m\u001b[0m\n\u001b[0m",
      "\u001b[1;31mValueError\u001b[0m: operands could not be broadcast together with shapes (3,) (5,) "
     ]
    }
   ],
   "source": [
    "make_array(3,4,5) + np.arange(2,7,1)"
   ]
  },
  {
   "cell_type": "markdown",
   "metadata": {},
   "source": [
    "### Question 2"
   ]
  },
  {
   "cell_type": "code",
   "execution_count": 51,
   "metadata": {},
   "outputs": [],
   "source": [
    "odd_array = make_array(1,3,5,7)\n",
    "even_array = np.arange(2,10,2)"
   ]
  },
  {
   "cell_type": "code",
   "execution_count": 52,
   "metadata": {},
   "outputs": [
    {
     "data": {
      "text/plain": [
       "array([1, 3, 5, 7], dtype=int64)"
      ]
     },
     "execution_count": 52,
     "metadata": {},
     "output_type": "execute_result"
    }
   ],
   "source": [
    "odd_array"
   ]
  },
  {
   "cell_type": "code",
   "execution_count": 53,
   "metadata": {},
   "outputs": [
    {
     "data": {
      "text/plain": [
       "array([2, 4, 6, 8])"
      ]
     },
     "execution_count": 53,
     "metadata": {},
     "output_type": "execute_result"
    }
   ],
   "source": [
    "even_array"
   ]
  },
  {
   "cell_type": "code",
   "execution_count": 54,
   "metadata": {},
   "outputs": [
    {
     "data": {
      "text/plain": [
       "array([ 3,  7, 11, 15], dtype=int64)"
      ]
     },
     "execution_count": 54,
     "metadata": {},
     "output_type": "execute_result"
    }
   ],
   "source": [
    "odd_array+even_array"
   ]
  },
  {
   "cell_type": "code",
   "execution_count": 55,
   "metadata": {},
   "outputs": [
    {
     "data": {
      "text/plain": [
       "3"
      ]
     },
     "execution_count": 55,
     "metadata": {},
     "output_type": "execute_result"
    }
   ],
   "source": [
    "odd_array.item(1)"
   ]
  },
  {
   "cell_type": "code",
   "execution_count": 56,
   "metadata": {},
   "outputs": [
    {
     "data": {
      "text/plain": [
       "24"
      ]
     },
     "execution_count": 56,
     "metadata": {},
     "output_type": "execute_result"
    }
   ],
   "source": [
    "even_array.item(3)*odd_array.item(1)"
   ]
  },
  {
   "cell_type": "code",
   "execution_count": 57,
   "metadata": {},
   "outputs": [
    {
     "data": {
      "text/plain": [
       "array([ 3,  9, 15, 21], dtype=int64)"
      ]
     },
     "execution_count": 57,
     "metadata": {},
     "output_type": "execute_result"
    }
   ],
   "source": [
    "odd_array*3"
   ]
  },
  {
   "cell_type": "markdown",
   "metadata": {},
   "source": [
    "### Question 3"
   ]
  },
  {
   "cell_type": "code",
   "execution_count": 58,
   "metadata": {},
   "outputs": [
    {
     "data": {
      "text/html": [
       "<table border=\"1\" class=\"dataframe\">\n",
       "    <thead>\n",
       "        <tr>\n",
       "            <th>Auction_ID</th> <th>Item</th> <th>Opening_Bid</th> <th>Closing_Price</th>\n",
       "        </tr>\n",
       "    </thead>\n",
       "    <tbody>\n",
       "        <tr>\n",
       "            <td>1         </td> <td>Jacket    </td> <td>50         </td> <td>75           </td>\n",
       "        </tr>\n",
       "        <tr>\n",
       "            <td>2         </td> <td>Smartwatch</td> <td>100        </td> <td>150          </td>\n",
       "        </tr>\n",
       "        <tr>\n",
       "            <td>3         </td> <td>Tablet    </td> <td>350        </td> <td>600          </td>\n",
       "        </tr>\n",
       "    </tbody>\n",
       "</table>"
      ],
      "text/plain": [
       "Auction_ID | Item       | Opening_Bid | Closing_Price\n",
       "1          | Jacket     | 50          | 75\n",
       "2          | Smartwatch | 100         | 150\n",
       "3          | Tablet     | 350         | 600"
      ]
     },
     "execution_count": 58,
     "metadata": {},
     "output_type": "execute_result"
    }
   ],
   "source": [
    "ebay = Table().with_columns(\n",
    "    'Auction_ID', np.arange(1,4,1),\n",
    "    'Item', make_array('Jacket','Smartwatch','Tablet'),\n",
    "    'Opening_Bid', make_array(50,100,350),\n",
    "    'Closing_Price',make_array(75,150,600)\n",
    ")\n",
    "ebay"
   ]
  },
  {
   "cell_type": "code",
   "execution_count": 59,
   "metadata": {},
   "outputs": [
    {
     "data": {
      "text/html": [
       "<table border=\"1\" class=\"dataframe\">\n",
       "    <thead>\n",
       "        <tr>\n",
       "            <th>Auction_ID</th> <th>Item</th> <th>Opening_Bid</th> <th>Closing_Price</th>\n",
       "        </tr>\n",
       "    </thead>\n",
       "    <tbody>\n",
       "        <tr>\n",
       "            <td>2         </td> <td>Smartwatch</td> <td>100        </td> <td>150          </td>\n",
       "        </tr>\n",
       "        <tr>\n",
       "            <td>3         </td> <td>Tablet    </td> <td>350        </td> <td>600          </td>\n",
       "        </tr>\n",
       "    </tbody>\n",
       "</table>"
      ],
      "text/plain": [
       "Auction_ID | Item       | Opening_Bid | Closing_Price\n",
       "2          | Smartwatch | 100         | 150\n",
       "3          | Tablet     | 350         | 600"
      ]
     },
     "execution_count": 59,
     "metadata": {},
     "output_type": "execute_result"
    }
   ],
   "source": [
    "ebay.where('Opening_Bid', are.above(60))"
   ]
  },
  {
   "cell_type": "code",
   "execution_count": 62,
   "metadata": {},
   "outputs": [
    {
     "data": {
      "text/plain": [
       "array([100, 350], dtype=int64)"
      ]
     },
     "execution_count": 62,
     "metadata": {},
     "output_type": "execute_result"
    }
   ],
   "source": [
    "ebay.where('Opening_Bid', are.above(60)).column('Opening_Bid')"
   ]
  },
  {
   "cell_type": "code",
   "execution_count": 60,
   "metadata": {},
   "outputs": [
    {
     "data": {
      "text/plain": [
       "3"
      ]
     },
     "execution_count": 60,
     "metadata": {},
     "output_type": "execute_result"
    }
   ],
   "source": [
    "ebay.num_rows"
   ]
  },
  {
   "cell_type": "code",
   "execution_count": 63,
   "metadata": {},
   "outputs": [
    {
     "data": {
      "text/plain": [
       "array([ 33.33333333, 116.66666667])"
      ]
     },
     "execution_count": 63,
     "metadata": {},
     "output_type": "execute_result"
    }
   ],
   "source": [
    "ebay.where('Opening_Bid', are.above(60)).column('Opening_Bid')/ebay.num_rows"
   ]
  },
  {
   "cell_type": "code",
   "execution_count": 64,
   "metadata": {},
   "outputs": [
    {
     "data": {
      "text/plain": [
       "array([ 75, 150, 600], dtype=int64)"
      ]
     },
     "execution_count": 64,
     "metadata": {},
     "output_type": "execute_result"
    }
   ],
   "source": [
    "ebay.column('Closing_Price')"
   ]
  },
  {
   "cell_type": "code",
   "execution_count": 69,
   "metadata": {},
   "outputs": [
    {
     "data": {
      "text/html": [
       "<table border=\"1\" class=\"dataframe\">\n",
       "    <thead>\n",
       "        <tr>\n",
       "            <th>Opening_Bid</th>\n",
       "        </tr>\n",
       "    </thead>\n",
       "    <tbody>\n",
       "        <tr>\n",
       "            <td>50         </td>\n",
       "        </tr>\n",
       "        <tr>\n",
       "            <td>100        </td>\n",
       "        </tr>\n",
       "        <tr>\n",
       "            <td>350        </td>\n",
       "        </tr>\n",
       "    </tbody>\n",
       "</table>"
      ],
      "text/plain": [
       "Opening_Bid\n",
       "50\n",
       "100\n",
       "350"
      ]
     },
     "execution_count": 69,
     "metadata": {},
     "output_type": "execute_result"
    }
   ],
   "source": [
    "ebay.select('Opening_Bid')"
   ]
  },
  {
   "cell_type": "code",
   "execution_count": 67,
   "metadata": {},
   "outputs": [
    {
     "data": {
      "text/plain": [
       "array([125, 250, 950], dtype=int64)"
      ]
     },
     "execution_count": 67,
     "metadata": {},
     "output_type": "execute_result"
    }
   ],
   "source": [
    "ebay.column('Closing_Price') + ebay.column('Opening_Bid')"
   ]
  },
  {
   "cell_type": "code",
   "execution_count": 70,
   "metadata": {},
   "outputs": [
    {
     "data": {
      "text/html": [
       "<table border=\"1\" class=\"dataframe\">\n",
       "    <thead>\n",
       "        <tr>\n",
       "            <th>Auction_ID</th> <th>Item</th> <th>Opening_Bid</th> <th>Closing_Price</th>\n",
       "        </tr>\n",
       "    </thead>\n",
       "    <tbody>\n",
       "        <tr>\n",
       "            <td>1         </td> <td>Jacket</td> <td>50         </td> <td>75           </td>\n",
       "        </tr>\n",
       "    </tbody>\n",
       "</table>"
      ],
      "text/plain": [
       "Auction_ID | Item   | Opening_Bid | Closing_Price\n",
       "1          | Jacket | 50          | 75"
      ]
     },
     "execution_count": 70,
     "metadata": {},
     "output_type": "execute_result"
    }
   ],
   "source": [
    "only_jackets = ebay.where('Item','Jacket')\n",
    "only_jackets"
   ]
  },
  {
   "cell_type": "code",
   "execution_count": 78,
   "metadata": {},
   "outputs": [
    {
     "data": {
      "text/html": [
       "<table border=\"1\" class=\"dataframe\">\n",
       "    <thead>\n",
       "        <tr>\n",
       "            <th>Auction_ID</th> <th>Item</th> <th>Opening_Bid</th> <th>Closing_Price</th>\n",
       "        </tr>\n",
       "    </thead>\n",
       "    <tbody>\n",
       "        <tr>\n",
       "            <td>1         </td> <td>Jacket</td> <td>50         </td> <td>75           </td>\n",
       "        </tr>\n",
       "    </tbody>\n",
       "</table>"
      ],
      "text/plain": [
       "Auction_ID | Item   | Opening_Bid | Closing_Price\n",
       "1          | Jacket | 50          | 75"
      ]
     },
     "execution_count": 78,
     "metadata": {},
     "output_type": "execute_result"
    }
   ],
   "source": [
    "jackets_under_price = only_jackets.where('Closing_Price', are.below(150))\n",
    "jackets_under_price"
   ]
  },
  {
   "cell_type": "markdown",
   "metadata": {},
   "source": [
    "### Question 4"
   ]
  },
  {
   "cell_type": "code",
   "execution_count": 85,
   "metadata": {},
   "outputs": [
    {
     "data": {
      "text/html": [
       "<table border=\"1\" class=\"dataframe\">\n",
       "    <thead>\n",
       "        <tr>\n",
       "            <th>Incident_ID</th> <th>ORI</th> <th>Incident_Date_Str</th> <th>Incident_Time_Str</th> <th>City</th> <th>County</th> <th>State</th> <th>Zip_Code</th> <th>Multiple_Locations</th> <th>On_K12_Campus</th> <th>Arrest_Made</th> <th>Crime_Report_Filed</th> <th>Contact_Reason</th> <th>In_Custody_Reason</th> <th>Num_Involved_Civilians</th> <th>Num_Involved_Officers</th>\n",
       "        </tr>\n",
       "    </thead>\n",
       "    <tbody>\n",
       "        <tr>\n",
       "            <td>URSUS-01-0000-2016-DWQ</td> <td>CA0010000</td> <td>7/3/2016         </td> <td>28               </td> <td>Hayward    </td> <td>Alameda County</td> <td>CA   </td> <td>94544   </td> <td>False             </td> <td>False        </td> <td>True       </td> <td>True              </td> <td>Call for Service                </td> <td>nan                    </td> <td>1                     </td> <td>2                    </td>\n",
       "        </tr>\n",
       "        <tr>\n",
       "            <td>URSUS-01-0000-2016-FEC</td> <td>CA0010000</td> <td>11/20/2016       </td> <td>2233             </td> <td>San Leandro</td> <td>Alameda County</td> <td>CA   </td> <td>94578   </td> <td>False             </td> <td>False        </td> <td>True       </td> <td>True              </td> <td>Call for Service                </td> <td>nan                    </td> <td>1                     </td> <td>1                    </td>\n",
       "        </tr>\n",
       "        <tr>\n",
       "            <td>URSUS-01-0000-2016-MAJ</td> <td>CA0010000</td> <td>5/30/2016        </td> <td>1843             </td> <td>Dublin     </td> <td>Alameda County</td> <td>CA   </td> <td>94568   </td> <td>False             </td> <td>False        </td> <td>True       </td> <td>True              </td> <td>Call for Service                </td> <td>nan                    </td> <td>1                     </td> <td>2                    </td>\n",
       "        </tr>\n",
       "        <tr>\n",
       "            <td>URSUS-01-0000-2016-PCD</td> <td>CA0010000</td> <td>6/30/2016        </td> <td>2245             </td> <td>Dublin     </td> <td>Alameda County</td> <td>CA   </td> <td>94568   </td> <td>False             </td> <td>False        </td> <td>True       </td> <td>True              </td> <td>In Custody Event                </td> <td>Booked - Awaiting Trial</td> <td>1                     </td> <td>2                    </td>\n",
       "        </tr>\n",
       "        <tr>\n",
       "            <td>URSUS-01-0000-2016-TMU</td> <td>CA0010000</td> <td>5/25/2016        </td> <td>1111             </td> <td>Hayward    </td> <td>Alameda County</td> <td>CA   </td> <td>94545   </td> <td>False             </td> <td>False        </td> <td>True       </td> <td>True              </td> <td>Call for Service                </td> <td>nan                    </td> <td>1                     </td> <td>1                    </td>\n",
       "        </tr>\n",
       "        <tr>\n",
       "            <td>URSUS-01-0000-2016-TNR</td> <td>CA0010000</td> <td>11/25/2016       </td> <td>2315             </td> <td>Hayward    </td> <td>Alameda County</td> <td>CA   </td> <td>94541   </td> <td>True              </td> <td>False        </td> <td>True       </td> <td>True              </td> <td>Vehicle / Bike / Pedestrian Stop</td> <td>nan                    </td> <td>1                     </td> <td>1                    </td>\n",
       "        </tr>\n",
       "        <tr>\n",
       "            <td>URSUS-01-0000-2016-UBJ</td> <td>CA0010000</td> <td>1/4/2016         </td> <td>2221             </td> <td>San Leandro</td> <td>Alameda County</td> <td>CA   </td> <td>94578   </td> <td>True              </td> <td>False        </td> <td>True       </td> <td>True              </td> <td>Call for Service                </td> <td>nan                    </td> <td>1                     </td> <td>1                    </td>\n",
       "        </tr>\n",
       "        <tr>\n",
       "            <td>URSUS-01-0000-2016-VDW</td> <td>CA0010000</td> <td>12/23/2016       </td> <td>2244             </td> <td>Dublin     </td> <td>Alameda County</td> <td>CA   </td> <td>94568   </td> <td>False             </td> <td>False        </td> <td>True       </td> <td>True              </td> <td>Call for Service                </td> <td>nan                    </td> <td>1                     </td> <td>3                    </td>\n",
       "        </tr>\n",
       "        <tr>\n",
       "            <td>URSUS-01-0200-2016-UNF</td> <td>CA0010200</td> <td>6/25/2016        </td> <td>925              </td> <td>Albany     </td> <td>Alameda County</td> <td>CA   </td> <td>94706   </td> <td>False             </td> <td>False        </td> <td>True       </td> <td>True              </td> <td>Call for Service                </td> <td>nan                    </td> <td>1                     </td> <td>1                    </td>\n",
       "        </tr>\n",
       "        <tr>\n",
       "            <td>URSUS-01-0500-2016-JDM</td> <td>CA0010500</td> <td>6/1/2016         </td> <td>1333             </td> <td>Fremont    </td> <td>Alameda County</td> <td>CA   </td> <td>94538   </td> <td>True              </td> <td>False        </td> <td>False      </td> <td>True              </td> <td>Vehicle / Bike / Pedestrian Stop</td> <td>nan                    </td> <td>1                     </td> <td>4                    </td>\n",
       "        </tr>\n",
       "    </tbody>\n",
       "</table>\n",
       "<p>... (772 rows omitted)</p>"
      ],
      "text/plain": [
       "Incident_ID            | ORI       | Incident_Date_Str | Incident_Time_Str | City        | County         | State | Zip_Code | Multiple_Locations | On_K12_Campus | Arrest_Made | Crime_Report_Filed | Contact_Reason                   | In_Custody_Reason       | Num_Involved_Civilians | Num_Involved_Officers\n",
       "URSUS-01-0000-2016-DWQ | CA0010000 | 7/3/2016          | 28                | Hayward     | Alameda County | CA    | 94544    | False              | False         | True        | True               | Call for Service                 | nan                     | 1                      | 2\n",
       "URSUS-01-0000-2016-FEC | CA0010000 | 11/20/2016        | 2233              | San Leandro | Alameda County | CA    | 94578    | False              | False         | True        | True               | Call for Service                 | nan                     | 1                      | 1\n",
       "URSUS-01-0000-2016-MAJ | CA0010000 | 5/30/2016         | 1843              | Dublin      | Alameda County | CA    | 94568    | False              | False         | True        | True               | Call for Service                 | nan                     | 1                      | 2\n",
       "URSUS-01-0000-2016-PCD | CA0010000 | 6/30/2016         | 2245              | Dublin      | Alameda County | CA    | 94568    | False              | False         | True        | True               | In Custody Event                 | Booked - Awaiting Trial | 1                      | 2\n",
       "URSUS-01-0000-2016-TMU | CA0010000 | 5/25/2016         | 1111              | Hayward     | Alameda County | CA    | 94545    | False              | False         | True        | True               | Call for Service                 | nan                     | 1                      | 1\n",
       "URSUS-01-0000-2016-TNR | CA0010000 | 11/25/2016        | 2315              | Hayward     | Alameda County | CA    | 94541    | True               | False         | True        | True               | Vehicle / Bike / Pedestrian Stop | nan                     | 1                      | 1\n",
       "URSUS-01-0000-2016-UBJ | CA0010000 | 1/4/2016          | 2221              | San Leandro | Alameda County | CA    | 94578    | True               | False         | True        | True               | Call for Service                 | nan                     | 1                      | 1\n",
       "URSUS-01-0000-2016-VDW | CA0010000 | 12/23/2016        | 2244              | Dublin      | Alameda County | CA    | 94568    | False              | False         | True        | True               | Call for Service                 | nan                     | 1                      | 3\n",
       "URSUS-01-0200-2016-UNF | CA0010200 | 6/25/2016         | 925               | Albany      | Alameda County | CA    | 94706    | False              | False         | True        | True               | Call for Service                 | nan                     | 1                      | 1\n",
       "URSUS-01-0500-2016-JDM | CA0010500 | 6/1/2016          | 1333              | Fremont     | Alameda County | CA    | 94538    | True               | False         | False       | True               | Vehicle / Bike / Pedestrian Stop | nan                     | 1                      | 4\n",
       "... (772 rows omitted)"
      ]
     },
     "execution_count": 85,
     "metadata": {},
     "output_type": "execute_result"
    }
   ],
   "source": [
    "arrests = Table().read_table('../data/use_of_force_2016.csv')\n",
    "arrests"
   ]
  },
  {
   "cell_type": "code",
   "execution_count": 88,
   "metadata": {},
   "outputs": [
    {
     "data": {
      "text/html": [
       "<table border=\"1\" class=\"dataframe\">\n",
       "    <thead>\n",
       "        <tr>\n",
       "            <th>Incident_Date_Str</th> <th>City</th> <th>Zip_Code</th> <th>Num_Involved_Civilians</th> <th>Num_Involved_Officers</th>\n",
       "        </tr>\n",
       "    </thead>\n",
       "    <tbody>\n",
       "        <tr>\n",
       "            <td>7/3/2016         </td> <td>Hayward    </td> <td>94544   </td> <td>1                     </td> <td>2                    </td>\n",
       "        </tr>\n",
       "        <tr>\n",
       "            <td>11/20/2016       </td> <td>San Leandro</td> <td>94578   </td> <td>1                     </td> <td>1                    </td>\n",
       "        </tr>\n",
       "        <tr>\n",
       "            <td>5/30/2016        </td> <td>Dublin     </td> <td>94568   </td> <td>1                     </td> <td>2                    </td>\n",
       "        </tr>\n",
       "        <tr>\n",
       "            <td>6/30/2016        </td> <td>Dublin     </td> <td>94568   </td> <td>1                     </td> <td>2                    </td>\n",
       "        </tr>\n",
       "        <tr>\n",
       "            <td>5/25/2016        </td> <td>Hayward    </td> <td>94545   </td> <td>1                     </td> <td>1                    </td>\n",
       "        </tr>\n",
       "        <tr>\n",
       "            <td>11/25/2016       </td> <td>Hayward    </td> <td>94541   </td> <td>1                     </td> <td>1                    </td>\n",
       "        </tr>\n",
       "        <tr>\n",
       "            <td>1/4/2016         </td> <td>San Leandro</td> <td>94578   </td> <td>1                     </td> <td>1                    </td>\n",
       "        </tr>\n",
       "        <tr>\n",
       "            <td>12/23/2016       </td> <td>Dublin     </td> <td>94568   </td> <td>1                     </td> <td>3                    </td>\n",
       "        </tr>\n",
       "        <tr>\n",
       "            <td>6/25/2016        </td> <td>Albany     </td> <td>94706   </td> <td>1                     </td> <td>1                    </td>\n",
       "        </tr>\n",
       "        <tr>\n",
       "            <td>6/1/2016         </td> <td>Fremont    </td> <td>94538   </td> <td>1                     </td> <td>4                    </td>\n",
       "        </tr>\n",
       "    </tbody>\n",
       "</table>\n",
       "<p>... (772 rows omitted)</p>"
      ],
      "text/plain": [
       "Incident_Date_Str | City        | Zip_Code | Num_Involved_Civilians | Num_Involved_Officers\n",
       "7/3/2016          | Hayward     | 94544    | 1                      | 2\n",
       "11/20/2016        | San Leandro | 94578    | 1                      | 1\n",
       "5/30/2016         | Dublin      | 94568    | 1                      | 2\n",
       "6/30/2016         | Dublin      | 94568    | 1                      | 2\n",
       "5/25/2016         | Hayward     | 94545    | 1                      | 1\n",
       "11/25/2016        | Hayward     | 94541    | 1                      | 1\n",
       "1/4/2016          | San Leandro | 94578    | 1                      | 1\n",
       "12/23/2016        | Dublin      | 94568    | 1                      | 3\n",
       "6/25/2016         | Albany      | 94706    | 1                      | 1\n",
       "6/1/2016          | Fremont     | 94538    | 1                      | 4\n",
       "... (772 rows omitted)"
      ]
     },
     "execution_count": 88,
     "metadata": {},
     "output_type": "execute_result"
    }
   ],
   "source": [
    "arrests = arrests.select(['Incident_Date_Str','City','Zip_Code','Num_Involved_Civilians','Num_Involved_Officers'])\n",
    "arrests"
   ]
  },
  {
   "cell_type": "code",
   "execution_count": 115,
   "metadata": {},
   "outputs": [
    {
     "data": {
      "text/html": [
       "<table border=\"1\" class=\"dataframe\">\n",
       "    <thead>\n",
       "        <tr>\n",
       "            <th>Incident_Date_Str</th> <th>City</th> <th>Zip_Code</th> <th>Num_Involved_Civilians</th> <th>Num_Involved_Officers</th>\n",
       "        </tr>\n",
       "    </thead>\n",
       "    <tbody>\n",
       "        <tr>\n",
       "            <td>6/30/2016        </td> <td>Dublin</td> <td>94568   </td> <td>1                     </td> <td>2                    </td>\n",
       "        </tr>\n",
       "    </tbody>\n",
       "</table>"
      ],
      "text/plain": [
       "Incident_Date_Str | City   | Zip_Code | Num_Involved_Civilians | Num_Involved_Officers\n",
       "6/30/2016         | Dublin | 94568    | 1                      | 2"
      ]
     },
     "execution_count": 115,
     "metadata": {},
     "output_type": "execute_result"
    }
   ],
   "source": [
    "arrests.take(3)"
   ]
  },
  {
   "cell_type": "code",
   "execution_count": 116,
   "metadata": {},
   "outputs": [
    {
     "data": {
      "text/html": [
       "<table border=\"1\" class=\"dataframe\">\n",
       "    <thead>\n",
       "        <tr>\n",
       "            <th>Incident_Date_Str</th> <th>City</th> <th>Zip_Code</th> <th>Num_Involved_Civilians</th> <th>Num_Involved_Officers</th>\n",
       "        </tr>\n",
       "    </thead>\n",
       "    <tbody>\n",
       "        <tr>\n",
       "            <td>11/20/2016       </td> <td>San Leandro</td> <td>94578   </td> <td>1                     </td> <td>1                    </td>\n",
       "        </tr>\n",
       "        <tr>\n",
       "            <td>5/30/2016        </td> <td>Dublin     </td> <td>94568   </td> <td>1                     </td> <td>2                    </td>\n",
       "        </tr>\n",
       "    </tbody>\n",
       "</table>"
      ],
      "text/plain": [
       "Incident_Date_Str | City        | Zip_Code | Num_Involved_Civilians | Num_Involved_Officers\n",
       "11/20/2016        | San Leandro | 94578    | 1                      | 1\n",
       "5/30/2016         | Dublin      | 94568    | 1                      | 2"
      ]
     },
     "execution_count": 116,
     "metadata": {},
     "output_type": "execute_result"
    }
   ],
   "source": [
    "arrests.take([1,2])"
   ]
  },
  {
   "cell_type": "code",
   "execution_count": 89,
   "metadata": {},
   "outputs": [
    {
     "data": {
      "text/html": [
       "<table border=\"1\" class=\"dataframe\">\n",
       "    <thead>\n",
       "        <tr>\n",
       "            <th>Incident_Date_Str</th> <th>City</th> <th>Zip_Code</th> <th>Num_Involved_Civilians</th> <th>Num_Involved_Officers</th>\n",
       "        </tr>\n",
       "    </thead>\n",
       "    <tbody>\n",
       "        <tr>\n",
       "            <td>4/23/2016        </td> <td>Los Angeles</td> <td>90059   </td> <td>5                     </td> <td>6                    </td>\n",
       "        </tr>\n",
       "    </tbody>\n",
       "</table>"
      ],
      "text/plain": [
       "Incident_Date_Str | City        | Zip_Code | Num_Involved_Civilians | Num_Involved_Officers\n",
       "4/23/2016         | Los Angeles | 90059    | 5                      | 6"
      ]
     },
     "execution_count": 89,
     "metadata": {},
     "output_type": "execute_result"
    }
   ],
   "source": [
    "arrests.where('Num_Involved_Civilians',are.above(4))"
   ]
  },
  {
   "cell_type": "code",
   "execution_count": 93,
   "metadata": {},
   "outputs": [
    {
     "data": {
      "text/html": [
       "<table border=\"1\" class=\"dataframe\">\n",
       "    <thead>\n",
       "        <tr>\n",
       "            <th>Incident_Date_Str</th> <th>City</th> <th>Zip_Code</th> <th>Num_Involved_Civilians</th> <th>Num_Involved_Officers</th>\n",
       "        </tr>\n",
       "    </thead>\n",
       "    <tbody>\n",
       "        <tr>\n",
       "            <td>8/13/2016        </td> <td>Hayward</td> <td>94544   </td> <td>1                     </td> <td>4                    </td>\n",
       "        </tr>\n",
       "        <tr>\n",
       "            <td>10/29/2016       </td> <td>Hayward</td> <td>94544   </td> <td>1                     </td> <td>2                    </td>\n",
       "        </tr>\n",
       "        <tr>\n",
       "            <td>7/3/2016         </td> <td>Hayward</td> <td>94544   </td> <td>1                     </td> <td>2                    </td>\n",
       "        </tr>\n",
       "        <tr>\n",
       "            <td>2/14/2016        </td> <td>Hayward</td> <td>94541   </td> <td>1                     </td> <td>1                    </td>\n",
       "        </tr>\n",
       "        <tr>\n",
       "            <td>12/11/2016       </td> <td>Hayward</td> <td>94545   </td> <td>1                     </td> <td>1                    </td>\n",
       "        </tr>\n",
       "        <tr>\n",
       "            <td>11/25/2016       </td> <td>Hayward</td> <td>94541   </td> <td>1                     </td> <td>1                    </td>\n",
       "        </tr>\n",
       "        <tr>\n",
       "            <td>5/25/2016        </td> <td>Hayward</td> <td>94545   </td> <td>1                     </td> <td>1                    </td>\n",
       "        </tr>\n",
       "    </tbody>\n",
       "</table>"
      ],
      "text/plain": [
       "Incident_Date_Str | City    | Zip_Code | Num_Involved_Civilians | Num_Involved_Officers\n",
       "8/13/2016         | Hayward | 94544    | 1                      | 4\n",
       "10/29/2016        | Hayward | 94544    | 1                      | 2\n",
       "7/3/2016          | Hayward | 94544    | 1                      | 2\n",
       "2/14/2016         | Hayward | 94541    | 1                      | 1\n",
       "12/11/2016        | Hayward | 94545    | 1                      | 1\n",
       "11/25/2016        | Hayward | 94541    | 1                      | 1\n",
       "5/25/2016         | Hayward | 94545    | 1                      | 1"
      ]
     },
     "execution_count": 93,
     "metadata": {},
     "output_type": "execute_result"
    }
   ],
   "source": [
    "hay_arrests_sorted = arrests.sort('Num_Involved_Officers',descending=True).where('City','Hayward')\n",
    "hay_arrests_sorted"
   ]
  },
  {
   "cell_type": "code",
   "execution_count": 96,
   "metadata": {},
   "outputs": [
    {
     "data": {
      "text/plain": [
       "'8/13/2016'"
      ]
     },
     "execution_count": 96,
     "metadata": {},
     "output_type": "execute_result"
    }
   ],
   "source": [
    "hay_arrests_sorted.column('Incident_Date_Str').item(0)"
   ]
  }
 ],
 "metadata": {
  "kernelspec": {
   "display_name": "Python 3",
   "language": "python",
   "name": "python3"
  },
  "language_info": {
   "codemirror_mode": {
    "name": "ipython",
    "version": 3
   },
   "file_extension": ".py",
   "mimetype": "text/x-python",
   "name": "python",
   "nbconvert_exporter": "python",
   "pygments_lexer": "ipython3",
   "version": "3.6.9"
  }
 },
 "nbformat": 4,
 "nbformat_minor": 2
}
