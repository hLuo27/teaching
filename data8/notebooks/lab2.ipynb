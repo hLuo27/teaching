{
 "cells": [
  {
   "cell_type": "markdown",
   "metadata": {},
   "source": [
    "# Data 8: Lab 2 Discussion\n",
    "\n",
    "## Expressions: Variables and Function Calls"
   ]
  },
  {
   "cell_type": "code",
   "execution_count": 1,
   "metadata": {},
   "outputs": [
    {
     "data": {
      "text/plain": [
       "2"
      ]
     },
     "execution_count": 1,
     "metadata": {},
     "output_type": "execute_result"
    }
   ],
   "source": [
    "2"
   ]
  },
  {
   "cell_type": "code",
   "execution_count": 2,
   "metadata": {},
   "outputs": [
    {
     "data": {
      "text/plain": [
       "2"
      ]
     },
     "execution_count": 2,
     "metadata": {},
     "output_type": "execute_result"
    }
   ],
   "source": [
    "apple_px = 2\n",
    "apple_px"
   ]
  },
  {
   "cell_type": "code",
   "execution_count": 3,
   "metadata": {},
   "outputs": [
    {
     "data": {
      "text/plain": [
       "6"
      ]
     },
     "execution_count": 3,
     "metadata": {},
     "output_type": "execute_result"
    }
   ],
   "source": [
    "3*apple_px"
   ]
  },
  {
   "cell_type": "code",
   "execution_count": 4,
   "metadata": {},
   "outputs": [
    {
     "data": {
      "text/plain": [
       "6"
      ]
     },
     "execution_count": 4,
     "metadata": {},
     "output_type": "execute_result"
    }
   ],
   "source": [
    "three_apple_px = 3*apple_px\n",
    "three_apple_px"
   ]
  },
  {
   "cell_type": "code",
   "execution_count": 5,
   "metadata": {},
   "outputs": [
    {
     "data": {
      "text/plain": [
       "3"
      ]
     },
     "execution_count": 5,
     "metadata": {},
     "output_type": "execute_result"
    }
   ],
   "source": [
    "peach_px = 3\n",
    "peach_px"
   ]
  },
  {
   "cell_type": "code",
   "execution_count": 6,
   "metadata": {},
   "outputs": [
    {
     "data": {
      "text/plain": [
       "3"
      ]
     },
     "execution_count": 6,
     "metadata": {},
     "output_type": "execute_result"
    }
   ],
   "source": [
    "max(peach_px, apple_px)"
   ]
  },
  {
   "cell_type": "code",
   "execution_count": 7,
   "metadata": {},
   "outputs": [
    {
     "data": {
      "text/plain": [
       "3"
      ]
     },
     "execution_count": 7,
     "metadata": {},
     "output_type": "execute_result"
    }
   ],
   "source": [
    "max_fruit_px = max(peach_px, apple_px)\n",
    "max_fruit_px"
   ]
  },
  {
   "cell_type": "markdown",
   "metadata": {},
   "source": [
    "## Importing Packages\n",
    "\n",
    "The cell below imports two packages, numpy and datascience, which can be thought of as repositories of functions others have created that we can use as a supplement to the base functions which Python automatically has."
   ]
  },
  {
   "cell_type": "code",
   "execution_count": 8,
   "metadata": {
    "collapsed": true
   },
   "outputs": [],
   "source": [
    "import numpy as np\n",
    "from datascience import *"
   ]
  },
  {
   "cell_type": "markdown",
   "metadata": {},
   "source": [
    "To use the numpy package, we need to specify a np. before the name of the function or variable. For example:"
   ]
  },
  {
   "cell_type": "code",
   "execution_count": 9,
   "metadata": {},
   "outputs": [
    {
     "data": {
      "text/plain": [
       "3.141592653589793"
      ]
     },
     "execution_count": 9,
     "metadata": {},
     "output_type": "execute_result"
    }
   ],
   "source": [
    "# Variable that Python doesn't automatically have!\n",
    "np.pi"
   ]
  },
  {
   "cell_type": "code",
   "execution_count": 10,
   "metadata": {},
   "outputs": [
    {
     "data": {
      "text/plain": [
       "1.0"
      ]
     },
     "execution_count": 10,
     "metadata": {},
     "output_type": "execute_result"
    }
   ],
   "source": [
    "np.sin(np.pi/2)"
   ]
  },
  {
   "cell_type": "markdown",
   "metadata": {},
   "source": [
    "Because we imported the datascience package using the * command above, we don't need to put anything before using variables or functions from that package. Examples in next section:\n",
    "\n",
    "## Table Operations"
   ]
  },
  {
   "cell_type": "code",
   "execution_count": 11,
   "metadata": {},
   "outputs": [
    {
     "data": {
      "text/html": [
       "<table border=\"1\" class=\"dataframe\">\n",
       "    <thead>\n",
       "        <tr>\n",
       "            <th>name</th> <th>pokedex_number</th> <th>type1</th> <th>type2</th> <th>abilities</th> <th>generation</th> <th>is_legendary</th> <th>base_total</th> <th>capture_rate</th> <th>against_bug</th> <th>against_dark</th> <th>against_dragon</th> <th>against_electric</th> <th>against_fairy</th> <th>against_fight</th> <th>against_fire</th> <th>against_flying</th> <th>against_ghost</th> <th>against_grass</th> <th>against_ground</th> <th>against_ice</th> <th>against_normal</th> <th>against_poison</th> <th>against_psychic</th> <th>against_rock</th> <th>against_steel</th> <th>against_water</th> <th>attack</th> <th>base_egg_steps</th> <th>base_happiness</th> <th>classfication</th> <th>defense</th> <th>experience_growth</th> <th>height_m</th> <th>hp</th> <th>japanese_name</th> <th>percentage_male</th> <th>sp_attack</th> <th>sp_defense</th> <th>speed</th> <th>weight_kg</th>\n",
       "        </tr>\n",
       "    </thead>\n",
       "    <tbody>\n",
       "        <tr>\n",
       "            <td>Bulbasaur </td> <td>1             </td> <td>grass</td> <td>poison</td> <td>['Overgrow', 'Chlorophyll']</td> <td>1         </td> <td>0           </td> <td>318       </td> <td>45          </td> <td>1          </td> <td>1           </td> <td>1             </td> <td>0.5             </td> <td>0.5          </td> <td>0.5          </td> <td>2           </td> <td>2             </td> <td>1            </td> <td>0.25         </td> <td>1             </td> <td>2          </td> <td>1             </td> <td>1             </td> <td>2              </td> <td>1           </td> <td>1            </td> <td>0.5          </td> <td>49    </td> <td>5120          </td> <td>70            </td> <td>Seed Pokémon       </td> <td>49     </td> <td>1059860          </td> <td>0.7     </td> <td>45  </td> <td>Fushigidaneフシギダネ</td> <td>88.1           </td> <td>65       </td> <td>65        </td> <td>45   </td> <td>6.9      </td>\n",
       "        </tr>\n",
       "    </tbody>\n",
       "        <tr>\n",
       "            <td>Ivysaur   </td> <td>2             </td> <td>grass</td> <td>poison</td> <td>['Overgrow', 'Chlorophyll']</td> <td>1         </td> <td>0           </td> <td>405       </td> <td>45          </td> <td>1          </td> <td>1           </td> <td>1             </td> <td>0.5             </td> <td>0.5          </td> <td>0.5          </td> <td>2           </td> <td>2             </td> <td>1            </td> <td>0.25         </td> <td>1             </td> <td>2          </td> <td>1             </td> <td>1             </td> <td>2              </td> <td>1           </td> <td>1            </td> <td>0.5          </td> <td>62    </td> <td>5120          </td> <td>70            </td> <td>Seed Pokémon       </td> <td>63     </td> <td>1059860          </td> <td>1       </td> <td>60  </td> <td>Fushigisouフシギソウ </td> <td>88.1           </td> <td>80       </td> <td>80        </td> <td>60   </td> <td>13       </td>\n",
       "        </tr>\n",
       "    </tbody>\n",
       "        <tr>\n",
       "            <td>Venusaur  </td> <td>3             </td> <td>grass</td> <td>poison</td> <td>['Overgrow', 'Chlorophyll']</td> <td>1         </td> <td>0           </td> <td>625       </td> <td>45          </td> <td>1          </td> <td>1           </td> <td>1             </td> <td>0.5             </td> <td>0.5          </td> <td>0.5          </td> <td>2           </td> <td>2             </td> <td>1            </td> <td>0.25         </td> <td>1             </td> <td>2          </td> <td>1             </td> <td>1             </td> <td>2              </td> <td>1           </td> <td>1            </td> <td>0.5          </td> <td>100   </td> <td>5120          </td> <td>70            </td> <td>Seed Pokémon       </td> <td>123    </td> <td>1059860          </td> <td>2       </td> <td>80  </td> <td>Fushigibanaフシギバナ</td> <td>88.1           </td> <td>122      </td> <td>120       </td> <td>80   </td> <td>100      </td>\n",
       "        </tr>\n",
       "    </tbody>\n",
       "        <tr>\n",
       "            <td>Charmander</td> <td>4             </td> <td>fire </td> <td>nan   </td> <td>['Blaze', 'Solar Power']   </td> <td>1         </td> <td>0           </td> <td>309       </td> <td>45          </td> <td>0.5        </td> <td>1           </td> <td>1             </td> <td>1               </td> <td>0.5          </td> <td>1            </td> <td>0.5         </td> <td>1             </td> <td>1            </td> <td>0.5          </td> <td>2             </td> <td>0.5        </td> <td>1             </td> <td>1             </td> <td>1              </td> <td>2           </td> <td>0.5          </td> <td>2            </td> <td>52    </td> <td>5120          </td> <td>70            </td> <td>Lizard Pokémon     </td> <td>43     </td> <td>1059860          </td> <td>0.6     </td> <td>39  </td> <td>Hitokageヒトカゲ    </td> <td>88.1           </td> <td>60       </td> <td>50        </td> <td>65   </td> <td>8.5      </td>\n",
       "        </tr>\n",
       "    </tbody>\n",
       "        <tr>\n",
       "            <td>Charmeleon</td> <td>5             </td> <td>fire </td> <td>nan   </td> <td>['Blaze', 'Solar Power']   </td> <td>1         </td> <td>0           </td> <td>405       </td> <td>45          </td> <td>0.5        </td> <td>1           </td> <td>1             </td> <td>1               </td> <td>0.5          </td> <td>1            </td> <td>0.5         </td> <td>1             </td> <td>1            </td> <td>0.5          </td> <td>2             </td> <td>0.5        </td> <td>1             </td> <td>1             </td> <td>1              </td> <td>2           </td> <td>0.5          </td> <td>2            </td> <td>64    </td> <td>5120          </td> <td>70            </td> <td>Flame Pokémon      </td> <td>58     </td> <td>1059860          </td> <td>1.1     </td> <td>58  </td> <td>Lizardoリザード     </td> <td>88.1           </td> <td>80       </td> <td>65        </td> <td>80   </td> <td>19       </td>\n",
       "        </tr>\n",
       "    </tbody>\n",
       "        <tr>\n",
       "            <td>Charizard </td> <td>6             </td> <td>fire </td> <td>flying</td> <td>['Blaze', 'Solar Power']   </td> <td>1         </td> <td>0           </td> <td>634       </td> <td>45          </td> <td>0.25       </td> <td>1           </td> <td>1             </td> <td>2               </td> <td>0.5          </td> <td>0.5          </td> <td>0.5         </td> <td>1             </td> <td>1            </td> <td>0.25         </td> <td>0             </td> <td>1          </td> <td>1             </td> <td>1             </td> <td>1              </td> <td>4           </td> <td>0.5          </td> <td>2            </td> <td>104   </td> <td>5120          </td> <td>70            </td> <td>Flame Pokémon      </td> <td>78     </td> <td>1059860          </td> <td>1.7     </td> <td>78  </td> <td>Lizardonリザードン   </td> <td>88.1           </td> <td>159      </td> <td>115       </td> <td>100  </td> <td>90.5     </td>\n",
       "        </tr>\n",
       "    </tbody>\n",
       "        <tr>\n",
       "            <td>Squirtle  </td> <td>7             </td> <td>water</td> <td>nan   </td> <td>['Torrent', 'Rain Dish']   </td> <td>1         </td> <td>0           </td> <td>314       </td> <td>45          </td> <td>1          </td> <td>1           </td> <td>1             </td> <td>2               </td> <td>1            </td> <td>1            </td> <td>0.5         </td> <td>1             </td> <td>1            </td> <td>2            </td> <td>1             </td> <td>0.5        </td> <td>1             </td> <td>1             </td> <td>1              </td> <td>1           </td> <td>0.5          </td> <td>0.5          </td> <td>48    </td> <td>5120          </td> <td>70            </td> <td>Tiny Turtle Pokémon</td> <td>65     </td> <td>1059860          </td> <td>0.5     </td> <td>44  </td> <td>Zenigameゼニガメ    </td> <td>88.1           </td> <td>50       </td> <td>64        </td> <td>43   </td> <td>9        </td>\n",
       "        </tr>\n",
       "    </tbody>\n",
       "        <tr>\n",
       "            <td>Wartortle </td> <td>8             </td> <td>water</td> <td>nan   </td> <td>['Torrent', 'Rain Dish']   </td> <td>1         </td> <td>0           </td> <td>405       </td> <td>45          </td> <td>1          </td> <td>1           </td> <td>1             </td> <td>2               </td> <td>1            </td> <td>1            </td> <td>0.5         </td> <td>1             </td> <td>1            </td> <td>2            </td> <td>1             </td> <td>0.5        </td> <td>1             </td> <td>1             </td> <td>1              </td> <td>1           </td> <td>0.5          </td> <td>0.5          </td> <td>63    </td> <td>5120          </td> <td>70            </td> <td>Turtle Pokémon     </td> <td>80     </td> <td>1059860          </td> <td>1       </td> <td>59  </td> <td>Kameilカメール      </td> <td>88.1           </td> <td>65       </td> <td>80        </td> <td>58   </td> <td>22.5     </td>\n",
       "        </tr>\n",
       "    </tbody>\n",
       "        <tr>\n",
       "            <td>Blastoise </td> <td>9             </td> <td>water</td> <td>nan   </td> <td>['Torrent', 'Rain Dish']   </td> <td>1         </td> <td>0           </td> <td>630       </td> <td>45          </td> <td>1          </td> <td>1           </td> <td>1             </td> <td>2               </td> <td>1            </td> <td>1            </td> <td>0.5         </td> <td>1             </td> <td>1            </td> <td>2            </td> <td>1             </td> <td>0.5        </td> <td>1             </td> <td>1             </td> <td>1              </td> <td>1           </td> <td>0.5          </td> <td>0.5          </td> <td>103   </td> <td>5120          </td> <td>70            </td> <td>Shellfish Pokémon  </td> <td>120    </td> <td>1059860          </td> <td>1.6     </td> <td>79  </td> <td>Kamexカメックス      </td> <td>88.1           </td> <td>135      </td> <td>115       </td> <td>78   </td> <td>85.5     </td>\n",
       "        </tr>\n",
       "    </tbody>\n",
       "        <tr>\n",
       "            <td>Caterpie  </td> <td>10            </td> <td>bug  </td> <td>nan   </td> <td>['Shield Dust', 'Run Away']</td> <td>1         </td> <td>0           </td> <td>195       </td> <td>255         </td> <td>1          </td> <td>1           </td> <td>1             </td> <td>1               </td> <td>1            </td> <td>0.5          </td> <td>2           </td> <td>2             </td> <td>1            </td> <td>0.5          </td> <td>0.5           </td> <td>1          </td> <td>1             </td> <td>1             </td> <td>1              </td> <td>2           </td> <td>1            </td> <td>1            </td> <td>30    </td> <td>3840          </td> <td>70            </td> <td>Worm Pokémon       </td> <td>35     </td> <td>1000000          </td> <td>0.3     </td> <td>45  </td> <td>Caterpieキャタピー   </td> <td>50             </td> <td>20       </td> <td>20        </td> <td>45   </td> <td>2.9      </td>\n",
       "        </tr>\n",
       "    </tbody>\n",
       "</table>\n",
       "<p>... (791 rows omitted)</p"
      ],
      "text/plain": [
       "name       | pokedex_number | type1 | type2  | abilities                   | generation | is_legendary | base_total | capture_rate | against_bug | against_dark | against_dragon | against_electric | against_fairy | against_fight | against_fire | against_flying | against_ghost | against_grass | against_ground | against_ice | against_normal | against_poison | against_psychic | against_rock | against_steel | against_water | attack | base_egg_steps | base_happiness | classfication       | defense | experience_growth | height_m | hp   | japanese_name    | percentage_male | sp_attack | sp_defense | speed | weight_kg\n",
       "Bulbasaur  | 1              | grass | poison | ['Overgrow', 'Chlorophyll'] | 1          | 0            | 318        | 45           | 1           | 1            | 1              | 0.5              | 0.5           | 0.5           | 2            | 2              | 1             | 0.25          | 1              | 2           | 1              | 1              | 2               | 1            | 1             | 0.5           | 49     | 5120           | 70             | Seed Pokémon        | 49      | 1059860           | 0.7      | 45   | Fushigidaneフシギダネ | 88.1            | 65        | 65         | 45    | 6.9\n",
       "Ivysaur    | 2              | grass | poison | ['Overgrow', 'Chlorophyll'] | 1          | 0            | 405        | 45           | 1           | 1            | 1              | 0.5              | 0.5           | 0.5           | 2            | 2              | 1             | 0.25          | 1              | 2           | 1              | 1              | 2               | 1            | 1             | 0.5           | 62     | 5120           | 70             | Seed Pokémon        | 63      | 1059860           | 1        | 60   | Fushigisouフシギソウ  | 88.1            | 80        | 80         | 60    | 13\n",
       "Venusaur   | 3              | grass | poison | ['Overgrow', 'Chlorophyll'] | 1          | 0            | 625        | 45           | 1           | 1            | 1              | 0.5              | 0.5           | 0.5           | 2            | 2              | 1             | 0.25          | 1              | 2           | 1              | 1              | 2               | 1            | 1             | 0.5           | 100    | 5120           | 70             | Seed Pokémon        | 123     | 1059860           | 2        | 80   | Fushigibanaフシギバナ | 88.1            | 122       | 120        | 80    | 100\n",
       "Charmander | 4              | fire  | nan    | ['Blaze', 'Solar Power']    | 1          | 0            | 309        | 45           | 0.5         | 1            | 1              | 1                | 0.5           | 1             | 0.5          | 1              | 1             | 0.5           | 2              | 0.5         | 1              | 1              | 1               | 2            | 0.5           | 2             | 52     | 5120           | 70             | Lizard Pokémon      | 43      | 1059860           | 0.6      | 39   | Hitokageヒトカゲ     | 88.1            | 60        | 50         | 65    | 8.5\n",
       "Charmeleon | 5              | fire  | nan    | ['Blaze', 'Solar Power']    | 1          | 0            | 405        | 45           | 0.5         | 1            | 1              | 1                | 0.5           | 1             | 0.5          | 1              | 1             | 0.5           | 2              | 0.5         | 1              | 1              | 1               | 2            | 0.5           | 2             | 64     | 5120           | 70             | Flame Pokémon       | 58      | 1059860           | 1.1      | 58   | Lizardoリザード      | 88.1            | 80        | 65         | 80    | 19\n",
       "Charizard  | 6              | fire  | flying | ['Blaze', 'Solar Power']    | 1          | 0            | 634        | 45           | 0.25        | 1            | 1              | 2                | 0.5           | 0.5           | 0.5          | 1              | 1             | 0.25          | 0              | 1           | 1              | 1              | 1               | 4            | 0.5           | 2             | 104    | 5120           | 70             | Flame Pokémon       | 78      | 1059860           | 1.7      | 78   | Lizardonリザードン    | 88.1            | 159       | 115        | 100   | 90.5\n",
       "Squirtle   | 7              | water | nan    | ['Torrent', 'Rain Dish']    | 1          | 0            | 314        | 45           | 1           | 1            | 1              | 2                | 1             | 1             | 0.5          | 1              | 1             | 2             | 1              | 0.5         | 1              | 1              | 1               | 1            | 0.5           | 0.5           | 48     | 5120           | 70             | Tiny Turtle Pokémon | 65      | 1059860           | 0.5      | 44   | Zenigameゼニガメ     | 88.1            | 50        | 64         | 43    | 9\n",
       "Wartortle  | 8              | water | nan    | ['Torrent', 'Rain Dish']    | 1          | 0            | 405        | 45           | 1           | 1            | 1              | 2                | 1             | 1             | 0.5          | 1              | 1             | 2             | 1              | 0.5         | 1              | 1              | 1               | 1            | 0.5           | 0.5           | 63     | 5120           | 70             | Turtle Pokémon      | 80      | 1059860           | 1        | 59   | Kameilカメール       | 88.1            | 65        | 80         | 58    | 22.5\n",
       "Blastoise  | 9              | water | nan    | ['Torrent', 'Rain Dish']    | 1          | 0            | 630        | 45           | 1           | 1            | 1              | 2                | 1             | 1             | 0.5          | 1              | 1             | 2             | 1              | 0.5         | 1              | 1              | 1               | 1            | 0.5           | 0.5           | 103    | 5120           | 70             | Shellfish Pokémon   | 120     | 1059860           | 1.6      | 79   | Kamexカメックス       | 88.1            | 135       | 115        | 78    | 85.5\n",
       "Caterpie   | 10             | bug   | nan    | ['Shield Dust', 'Run Away'] | 1          | 0            | 195        | 255          | 1           | 1            | 1              | 1                | 1             | 0.5           | 2            | 2              | 1             | 0.5           | 0.5            | 1           | 1              | 1              | 1               | 2            | 1             | 1             | 30     | 3840           | 70             | Worm Pokémon        | 35      | 1000000           | 0.3      | 45   | Caterpieキャタピー    | 50              | 20        | 20         | 45    | 2.9\n",
       "... (791 rows omitted)"
      ]
     },
     "execution_count": 11,
     "metadata": {},
     "output_type": "execute_result"
    }
   ],
   "source": [
    "base_dir = \"../\" # Set file path to import data\n",
    "pokemon_table = Table.read_table(base_dir+'data/pokemon.csv')\n",
    "pokemon_table"
   ]
  },
  {
   "cell_type": "markdown",
   "metadata": {},
   "source": [
    "How many Pokemon in our table?"
   ]
  },
  {
   "cell_type": "code",
   "execution_count": 12,
   "metadata": {},
   "outputs": [
    {
     "data": {
      "text/plain": [
       "801"
      ]
     },
     "execution_count": 12,
     "metadata": {},
     "output_type": "execute_result"
    }
   ],
   "source": [
    "pokemon_table.num_rows"
   ]
  },
  {
   "cell_type": "markdown",
   "metadata": {},
   "source": [
    "How many variables do we have?"
   ]
  },
  {
   "cell_type": "code",
   "execution_count": 13,
   "metadata": {},
   "outputs": [
    {
     "data": {
      "text/plain": [
       "41"
      ]
     },
     "execution_count": 13,
     "metadata": {},
     "output_type": "execute_result"
    }
   ],
   "source": [
    "pokemon_table.num_columns"
   ]
  },
  {
   "cell_type": "markdown",
   "metadata": {},
   "source": [
    "How do I find the names of Pokemon?"
   ]
  },
  {
   "cell_type": "code",
   "execution_count": 14,
   "metadata": {},
   "outputs": [
    {
     "data": {
      "text/html": [
       "<table border=\"1\" class=\"dataframe\">\n",
       "    <thead>\n",
       "        <tr>\n",
       "            <th>name</th>\n",
       "        </tr>\n",
       "    </thead>\n",
       "    <tbody>\n",
       "        <tr>\n",
       "            <td>Bulbasaur </td>\n",
       "        </tr>\n",
       "    </tbody>\n",
       "        <tr>\n",
       "            <td>Ivysaur   </td>\n",
       "        </tr>\n",
       "    </tbody>\n",
       "        <tr>\n",
       "            <td>Venusaur  </td>\n",
       "        </tr>\n",
       "    </tbody>\n",
       "        <tr>\n",
       "            <td>Charmander</td>\n",
       "        </tr>\n",
       "    </tbody>\n",
       "        <tr>\n",
       "            <td>Charmeleon</td>\n",
       "        </tr>\n",
       "    </tbody>\n",
       "        <tr>\n",
       "            <td>Charizard </td>\n",
       "        </tr>\n",
       "    </tbody>\n",
       "        <tr>\n",
       "            <td>Squirtle  </td>\n",
       "        </tr>\n",
       "    </tbody>\n",
       "        <tr>\n",
       "            <td>Wartortle </td>\n",
       "        </tr>\n",
       "    </tbody>\n",
       "        <tr>\n",
       "            <td>Blastoise </td>\n",
       "        </tr>\n",
       "    </tbody>\n",
       "        <tr>\n",
       "            <td>Caterpie  </td>\n",
       "        </tr>\n",
       "    </tbody>\n",
       "</table>\n",
       "<p>... (791 rows omitted)</p"
      ],
      "text/plain": [
       "name\n",
       "Bulbasaur\n",
       "Ivysaur\n",
       "Venusaur\n",
       "Charmander\n",
       "Charmeleon\n",
       "Charizard\n",
       "Squirtle\n",
       "Wartortle\n",
       "Blastoise\n",
       "Caterpie\n",
       "... (791 rows omitted)"
      ]
     },
     "execution_count": 14,
     "metadata": {},
     "output_type": "execute_result"
    }
   ],
   "source": [
    "pokemon_table.select('name')"
   ]
  },
  {
   "cell_type": "markdown",
   "metadata": {},
   "source": [
    "How do I find all the Sinnoh Pokemon?"
   ]
  },
  {
   "cell_type": "code",
   "execution_count": 15,
   "metadata": {},
   "outputs": [
    {
     "data": {
      "text/html": [
       "<table border=\"1\" class=\"dataframe\">\n",
       "    <thead>\n",
       "        <tr>\n",
       "            <th>name</th> <th>pokedex_number</th> <th>type1</th> <th>type2</th> <th>abilities</th> <th>generation</th> <th>is_legendary</th> <th>base_total</th> <th>capture_rate</th> <th>against_bug</th> <th>against_dark</th> <th>against_dragon</th> <th>against_electric</th> <th>against_fairy</th> <th>against_fight</th> <th>against_fire</th> <th>against_flying</th> <th>against_ghost</th> <th>against_grass</th> <th>against_ground</th> <th>against_ice</th> <th>against_normal</th> <th>against_poison</th> <th>against_psychic</th> <th>against_rock</th> <th>against_steel</th> <th>against_water</th> <th>attack</th> <th>base_egg_steps</th> <th>base_happiness</th> <th>classfication</th> <th>defense</th> <th>experience_growth</th> <th>height_m</th> <th>hp</th> <th>japanese_name</th> <th>percentage_male</th> <th>sp_attack</th> <th>sp_defense</th> <th>speed</th> <th>weight_kg</th>\n",
       "        </tr>\n",
       "    </thead>\n",
       "    <tbody>\n",
       "        <tr>\n",
       "            <td>Turtwig  </td> <td>387           </td> <td>grass </td> <td>nan     </td> <td>['Overgrow', 'Shell Armor']</td> <td>4         </td> <td>0           </td> <td>318       </td> <td>45          </td> <td>2          </td> <td>1           </td> <td>1             </td> <td>0.5             </td> <td>1            </td> <td>1            </td> <td>2           </td> <td>2             </td> <td>1            </td> <td>0.5          </td> <td>0.5           </td> <td>2          </td> <td>1             </td> <td>2             </td> <td>1              </td> <td>1           </td> <td>1            </td> <td>0.5          </td> <td>68    </td> <td>5120          </td> <td>70            </td> <td>Tiny Leaf Pokémon</td> <td>64     </td> <td>1059860          </td> <td>0.4     </td> <td>55  </td> <td>Naetleナエトル      </td> <td>88.1           </td> <td>45       </td> <td>55        </td> <td>31   </td> <td>10.2     </td>\n",
       "        </tr>\n",
       "    </tbody>\n",
       "        <tr>\n",
       "            <td>Grotle   </td> <td>388           </td> <td>grass </td> <td>nan     </td> <td>['Overgrow', 'Shell Armor']</td> <td>4         </td> <td>0           </td> <td>405       </td> <td>45          </td> <td>2          </td> <td>1           </td> <td>1             </td> <td>0.5             </td> <td>1            </td> <td>1            </td> <td>2           </td> <td>2             </td> <td>1            </td> <td>0.5          </td> <td>0.5           </td> <td>2          </td> <td>1             </td> <td>2             </td> <td>1              </td> <td>1           </td> <td>1            </td> <td>0.5          </td> <td>89    </td> <td>5120          </td> <td>70            </td> <td>Grove Pokémon    </td> <td>85     </td> <td>1059860          </td> <td>1.1     </td> <td>75  </td> <td>Hayashigameハヤシガメ</td> <td>88.1           </td> <td>55       </td> <td>65        </td> <td>36   </td> <td>97       </td>\n",
       "        </tr>\n",
       "    </tbody>\n",
       "        <tr>\n",
       "            <td>Torterra </td> <td>389           </td> <td>grass </td> <td>ground  </td> <td>['Overgrow', 'Shell Armor']</td> <td>4         </td> <td>0           </td> <td>525       </td> <td>45          </td> <td>2          </td> <td>1           </td> <td>1             </td> <td>0               </td> <td>1            </td> <td>1            </td> <td>2           </td> <td>2             </td> <td>1            </td> <td>1            </td> <td>0.5           </td> <td>4          </td> <td>1             </td> <td>1             </td> <td>1              </td> <td>0.5         </td> <td>1            </td> <td>1            </td> <td>109   </td> <td>5120          </td> <td>70            </td> <td>Continent Pokémon</td> <td>105    </td> <td>1059860          </td> <td>2.2     </td> <td>95  </td> <td>Dodaitoseドダイトス  </td> <td>88.1           </td> <td>75       </td> <td>85        </td> <td>56   </td> <td>310      </td>\n",
       "        </tr>\n",
       "    </tbody>\n",
       "        <tr>\n",
       "            <td>Chimchar </td> <td>390           </td> <td>fire  </td> <td>nan     </td> <td>['Blaze', 'Iron Fist']     </td> <td>4         </td> <td>0           </td> <td>309       </td> <td>45          </td> <td>0.5        </td> <td>1           </td> <td>1             </td> <td>1               </td> <td>0.5          </td> <td>1            </td> <td>0.5         </td> <td>1             </td> <td>1            </td> <td>0.5          </td> <td>2             </td> <td>0.5        </td> <td>1             </td> <td>1             </td> <td>1              </td> <td>2           </td> <td>0.5          </td> <td>2            </td> <td>58    </td> <td>5120          </td> <td>70            </td> <td>Chimp Pokémon    </td> <td>44     </td> <td>1059860          </td> <td>0.5     </td> <td>44  </td> <td>Hikozaruヒコザル    </td> <td>88.1           </td> <td>58       </td> <td>44        </td> <td>61   </td> <td>6.2      </td>\n",
       "        </tr>\n",
       "    </tbody>\n",
       "        <tr>\n",
       "            <td>Monferno </td> <td>391           </td> <td>fire  </td> <td>fighting</td> <td>['Blaze', 'Iron Fist']     </td> <td>4         </td> <td>0           </td> <td>405       </td> <td>45          </td> <td>0.25       </td> <td>0.5         </td> <td>1             </td> <td>1               </td> <td>1            </td> <td>1            </td> <td>0.5         </td> <td>2             </td> <td>1            </td> <td>0.5          </td> <td>2             </td> <td>0.5        </td> <td>1             </td> <td>1             </td> <td>2              </td> <td>1           </td> <td>0.5          </td> <td>2            </td> <td>78    </td> <td>5120          </td> <td>70            </td> <td>Playful Pokémon  </td> <td>52     </td> <td>1059860          </td> <td>0.9     </td> <td>64  </td> <td>Moukazaruモウカザル  </td> <td>88.1           </td> <td>78       </td> <td>52        </td> <td>81   </td> <td>22       </td>\n",
       "        </tr>\n",
       "    </tbody>\n",
       "        <tr>\n",
       "            <td>Infernape</td> <td>392           </td> <td>fire  </td> <td>fighting</td> <td>['Blaze', 'Iron Fist']     </td> <td>4         </td> <td>0           </td> <td>534       </td> <td>45          </td> <td>0.25       </td> <td>0.5         </td> <td>1             </td> <td>1               </td> <td>1            </td> <td>1            </td> <td>0.5         </td> <td>2             </td> <td>1            </td> <td>0.5          </td> <td>2             </td> <td>0.5        </td> <td>1             </td> <td>1             </td> <td>2              </td> <td>1           </td> <td>0.5          </td> <td>2            </td> <td>104   </td> <td>5120          </td> <td>70            </td> <td>Flame Pokémon    </td> <td>71     </td> <td>1059860          </td> <td>1.2     </td> <td>76  </td> <td>Goukazaruゴウカザル  </td> <td>88.1           </td> <td>104      </td> <td>71        </td> <td>108  </td> <td>55       </td>\n",
       "        </tr>\n",
       "    </tbody>\n",
       "        <tr>\n",
       "            <td>Piplup   </td> <td>393           </td> <td>water </td> <td>nan     </td> <td>['Torrent', 'Defiant']     </td> <td>4         </td> <td>0           </td> <td>314       </td> <td>45          </td> <td>1          </td> <td>1           </td> <td>1             </td> <td>2               </td> <td>1            </td> <td>1            </td> <td>0.5         </td> <td>1             </td> <td>1            </td> <td>2            </td> <td>1             </td> <td>0.5        </td> <td>1             </td> <td>1             </td> <td>1              </td> <td>1           </td> <td>0.5          </td> <td>0.5          </td> <td>51    </td> <td>5120          </td> <td>70            </td> <td>Penguin Pokémon  </td> <td>53     </td> <td>1059860          </td> <td>0.4     </td> <td>53  </td> <td>Pochamaポッチャマ    </td> <td>88.1           </td> <td>61       </td> <td>56        </td> <td>40   </td> <td>5.2      </td>\n",
       "        </tr>\n",
       "    </tbody>\n",
       "        <tr>\n",
       "            <td>Prinplup </td> <td>394           </td> <td>water </td> <td>nan     </td> <td>['Torrent', 'Defiant']     </td> <td>4         </td> <td>0           </td> <td>405       </td> <td>45          </td> <td>1          </td> <td>1           </td> <td>1             </td> <td>2               </td> <td>1            </td> <td>1            </td> <td>0.5         </td> <td>1             </td> <td>1            </td> <td>2            </td> <td>1             </td> <td>0.5        </td> <td>1             </td> <td>1             </td> <td>1              </td> <td>1           </td> <td>0.5          </td> <td>0.5          </td> <td>66    </td> <td>5120          </td> <td>70            </td> <td>Penguin Pokémon  </td> <td>68     </td> <td>1059860          </td> <td>0.8     </td> <td>64  </td> <td>Pottaishiポッタイシ  </td> <td>88.1           </td> <td>81       </td> <td>76        </td> <td>50   </td> <td>23       </td>\n",
       "        </tr>\n",
       "    </tbody>\n",
       "        <tr>\n",
       "            <td>Empoleon </td> <td>395           </td> <td>water </td> <td>steel   </td> <td>['Torrent', 'Defiant']     </td> <td>4         </td> <td>0           </td> <td>530       </td> <td>45          </td> <td>0.5        </td> <td>1           </td> <td>0.5           </td> <td>2               </td> <td>0.5          </td> <td>2            </td> <td>1           </td> <td>0.5           </td> <td>1            </td> <td>1            </td> <td>2             </td> <td>0.25       </td> <td>0.5           </td> <td>0             </td> <td>0.5            </td> <td>0.5         </td> <td>0.25         </td> <td>0.5          </td> <td>86    </td> <td>5120          </td> <td>70            </td> <td>Emperor Pokémon  </td> <td>88     </td> <td>1059860          </td> <td>1.7     </td> <td>84  </td> <td>Emperteエンペルト    </td> <td>88.1           </td> <td>111      </td> <td>101       </td> <td>60   </td> <td>84.5     </td>\n",
       "        </tr>\n",
       "    </tbody>\n",
       "        <tr>\n",
       "            <td>Starly   </td> <td>396           </td> <td>normal</td> <td>flying  </td> <td>['Keen Eye', 'Reckless']   </td> <td>4         </td> <td>0           </td> <td>245       </td> <td>255         </td> <td>0.5        </td> <td>1           </td> <td>1             </td> <td>2               </td> <td>1            </td> <td>1            </td> <td>1           </td> <td>1             </td> <td>0            </td> <td>0.5          </td> <td>0             </td> <td>2          </td> <td>1             </td> <td>1             </td> <td>1              </td> <td>2           </td> <td>1            </td> <td>1            </td> <td>55    </td> <td>3840          </td> <td>70            </td> <td>Starling Pokémon </td> <td>30     </td> <td>1059860          </td> <td>0.3     </td> <td>40  </td> <td>Mukkuruムックル     </td> <td>50             </td> <td>30       </td> <td>30        </td> <td>60   </td> <td>2        </td>\n",
       "        </tr>\n",
       "    </tbody>\n",
       "</table>\n",
       "<p>... (97 rows omitted)</p"
      ],
      "text/plain": [
       "name      | pokedex_number | type1  | type2    | abilities                   | generation | is_legendary | base_total | capture_rate | against_bug | against_dark | against_dragon | against_electric | against_fairy | against_fight | against_fire | against_flying | against_ghost | against_grass | against_ground | against_ice | against_normal | against_poison | against_psychic | against_rock | against_steel | against_water | attack | base_egg_steps | base_happiness | classfication     | defense | experience_growth | height_m | hp   | japanese_name    | percentage_male | sp_attack | sp_defense | speed | weight_kg\n",
       "Turtwig   | 387            | grass  | nan      | ['Overgrow', 'Shell Armor'] | 4          | 0            | 318        | 45           | 2           | 1            | 1              | 0.5              | 1             | 1             | 2            | 2              | 1             | 0.5           | 0.5            | 2           | 1              | 2              | 1               | 1            | 1             | 0.5           | 68     | 5120           | 70             | Tiny Leaf Pokémon | 64      | 1059860           | 0.4      | 55   | Naetleナエトル       | 88.1            | 45        | 55         | 31    | 10.2\n",
       "Grotle    | 388            | grass  | nan      | ['Overgrow', 'Shell Armor'] | 4          | 0            | 405        | 45           | 2           | 1            | 1              | 0.5              | 1             | 1             | 2            | 2              | 1             | 0.5           | 0.5            | 2           | 1              | 2              | 1               | 1            | 1             | 0.5           | 89     | 5120           | 70             | Grove Pokémon     | 85      | 1059860           | 1.1      | 75   | Hayashigameハヤシガメ | 88.1            | 55        | 65         | 36    | 97\n",
       "Torterra  | 389            | grass  | ground   | ['Overgrow', 'Shell Armor'] | 4          | 0            | 525        | 45           | 2           | 1            | 1              | 0                | 1             | 1             | 2            | 2              | 1             | 1             | 0.5            | 4           | 1              | 1              | 1               | 0.5          | 1             | 1             | 109    | 5120           | 70             | Continent Pokémon | 105     | 1059860           | 2.2      | 95   | Dodaitoseドダイトス   | 88.1            | 75        | 85         | 56    | 310\n",
       "Chimchar  | 390            | fire   | nan      | ['Blaze', 'Iron Fist']      | 4          | 0            | 309        | 45           | 0.5         | 1            | 1              | 1                | 0.5           | 1             | 0.5          | 1              | 1             | 0.5           | 2              | 0.5         | 1              | 1              | 1               | 2            | 0.5           | 2             | 58     | 5120           | 70             | Chimp Pokémon     | 44      | 1059860           | 0.5      | 44   | Hikozaruヒコザル     | 88.1            | 58        | 44         | 61    | 6.2\n",
       "Monferno  | 391            | fire   | fighting | ['Blaze', 'Iron Fist']      | 4          | 0            | 405        | 45           | 0.25        | 0.5          | 1              | 1                | 1             | 1             | 0.5          | 2              | 1             | 0.5           | 2              | 0.5         | 1              | 1              | 2               | 1            | 0.5           | 2             | 78     | 5120           | 70             | Playful Pokémon   | 52      | 1059860           | 0.9      | 64   | Moukazaruモウカザル   | 88.1            | 78        | 52         | 81    | 22\n",
       "Infernape | 392            | fire   | fighting | ['Blaze', 'Iron Fist']      | 4          | 0            | 534        | 45           | 0.25        | 0.5          | 1              | 1                | 1             | 1             | 0.5          | 2              | 1             | 0.5           | 2              | 0.5         | 1              | 1              | 2               | 1            | 0.5           | 2             | 104    | 5120           | 70             | Flame Pokémon     | 71      | 1059860           | 1.2      | 76   | Goukazaruゴウカザル   | 88.1            | 104       | 71         | 108   | 55\n",
       "Piplup    | 393            | water  | nan      | ['Torrent', 'Defiant']      | 4          | 0            | 314        | 45           | 1           | 1            | 1              | 2                | 1             | 1             | 0.5          | 1              | 1             | 2             | 1              | 0.5         | 1              | 1              | 1               | 1            | 0.5           | 0.5           | 51     | 5120           | 70             | Penguin Pokémon   | 53      | 1059860           | 0.4      | 53   | Pochamaポッチャマ     | 88.1            | 61        | 56         | 40    | 5.2\n",
       "Prinplup  | 394            | water  | nan      | ['Torrent', 'Defiant']      | 4          | 0            | 405        | 45           | 1           | 1            | 1              | 2                | 1             | 1             | 0.5          | 1              | 1             | 2             | 1              | 0.5         | 1              | 1              | 1               | 1            | 0.5           | 0.5           | 66     | 5120           | 70             | Penguin Pokémon   | 68      | 1059860           | 0.8      | 64   | Pottaishiポッタイシ   | 88.1            | 81        | 76         | 50    | 23\n",
       "Empoleon  | 395            | water  | steel    | ['Torrent', 'Defiant']      | 4          | 0            | 530        | 45           | 0.5         | 1            | 0.5            | 2                | 0.5           | 2             | 1            | 0.5            | 1             | 1             | 2              | 0.25        | 0.5            | 0              | 0.5             | 0.5          | 0.25          | 0.5           | 86     | 5120           | 70             | Emperor Pokémon   | 88      | 1059860           | 1.7      | 84   | Emperteエンペルト     | 88.1            | 111       | 101        | 60    | 84.5\n",
       "Starly    | 396            | normal | flying   | ['Keen Eye', 'Reckless']    | 4          | 0            | 245        | 255          | 0.5         | 1            | 1              | 2                | 1             | 1             | 1            | 1              | 0             | 0.5           | 0              | 2           | 1              | 1              | 1               | 2            | 1             | 1             | 55     | 3840           | 70             | Starling Pokémon  | 30      | 1059860           | 0.3      | 40   | Mukkuruムックル      | 50              | 30        | 30         | 60    | 2\n",
       "... (97 rows omitted)"
      ]
     },
     "execution_count": 15,
     "metadata": {},
     "output_type": "execute_result"
    }
   ],
   "source": [
    "pokemon_table.where('generation', are.equal_to(4))"
   ]
  },
  {
   "cell_type": "markdown",
   "metadata": {},
   "source": [
    "What if I want to know the base total stats for Sinnoh Pokemon?"
   ]
  },
  {
   "cell_type": "code",
   "execution_count": 16,
   "metadata": {},
   "outputs": [
    {
     "data": {
      "text/html": [
       "<table border=\"1\" class=\"dataframe\">\n",
       "    <thead>\n",
       "        <tr>\n",
       "            <th>base_total</th>\n",
       "        </tr>\n",
       "    </thead>\n",
       "    <tbody>\n",
       "        <tr>\n",
       "            <td>318       </td>\n",
       "        </tr>\n",
       "    </tbody>\n",
       "        <tr>\n",
       "            <td>405       </td>\n",
       "        </tr>\n",
       "    </tbody>\n",
       "        <tr>\n",
       "            <td>525       </td>\n",
       "        </tr>\n",
       "    </tbody>\n",
       "        <tr>\n",
       "            <td>309       </td>\n",
       "        </tr>\n",
       "    </tbody>\n",
       "        <tr>\n",
       "            <td>405       </td>\n",
       "        </tr>\n",
       "    </tbody>\n",
       "        <tr>\n",
       "            <td>534       </td>\n",
       "        </tr>\n",
       "    </tbody>\n",
       "        <tr>\n",
       "            <td>314       </td>\n",
       "        </tr>\n",
       "    </tbody>\n",
       "        <tr>\n",
       "            <td>405       </td>\n",
       "        </tr>\n",
       "    </tbody>\n",
       "        <tr>\n",
       "            <td>530       </td>\n",
       "        </tr>\n",
       "    </tbody>\n",
       "        <tr>\n",
       "            <td>245       </td>\n",
       "        </tr>\n",
       "    </tbody>\n",
       "</table>\n",
       "<p>... (97 rows omitted)</p"
      ],
      "text/plain": [
       "base_total\n",
       "318\n",
       "405\n",
       "525\n",
       "309\n",
       "405\n",
       "534\n",
       "314\n",
       "405\n",
       "530\n",
       "245\n",
       "... (97 rows omitted)"
      ]
     },
     "execution_count": 16,
     "metadata": {},
     "output_type": "execute_result"
    }
   ],
   "source": [
    "pokemon_table.where('generation', are.equal_to(4)).select('base_total')"
   ]
  },
  {
   "cell_type": "markdown",
   "metadata": {},
   "source": [
    "How can I ignore their abilities?"
   ]
  },
  {
   "cell_type": "code",
   "execution_count": 17,
   "metadata": {},
   "outputs": [
    {
     "data": {
      "text/html": [
       "<table border=\"1\" class=\"dataframe\">\n",
       "    <thead>\n",
       "        <tr>\n",
       "            <th>name</th> <th>pokedex_number</th> <th>type1</th> <th>type2</th> <th>generation</th> <th>is_legendary</th> <th>base_total</th> <th>capture_rate</th> <th>against_bug</th> <th>against_dark</th> <th>against_dragon</th> <th>against_electric</th> <th>against_fairy</th> <th>against_fight</th> <th>against_fire</th> <th>against_flying</th> <th>against_ghost</th> <th>against_grass</th> <th>against_ground</th> <th>against_ice</th> <th>against_normal</th> <th>against_poison</th> <th>against_psychic</th> <th>against_rock</th> <th>against_steel</th> <th>against_water</th> <th>attack</th> <th>base_egg_steps</th> <th>base_happiness</th> <th>classfication</th> <th>defense</th> <th>experience_growth</th> <th>height_m</th> <th>hp</th> <th>japanese_name</th> <th>percentage_male</th> <th>sp_attack</th> <th>sp_defense</th> <th>speed</th> <th>weight_kg</th>\n",
       "        </tr>\n",
       "    </thead>\n",
       "    <tbody>\n",
       "        <tr>\n",
       "            <td>Bulbasaur </td> <td>1             </td> <td>grass</td> <td>poison</td> <td>1         </td> <td>0           </td> <td>318       </td> <td>45          </td> <td>1          </td> <td>1           </td> <td>1             </td> <td>0.5             </td> <td>0.5          </td> <td>0.5          </td> <td>2           </td> <td>2             </td> <td>1            </td> <td>0.25         </td> <td>1             </td> <td>2          </td> <td>1             </td> <td>1             </td> <td>2              </td> <td>1           </td> <td>1            </td> <td>0.5          </td> <td>49    </td> <td>5120          </td> <td>70            </td> <td>Seed Pokémon       </td> <td>49     </td> <td>1059860          </td> <td>0.7     </td> <td>45  </td> <td>Fushigidaneフシギダネ</td> <td>88.1           </td> <td>65       </td> <td>65        </td> <td>45   </td> <td>6.9      </td>\n",
       "        </tr>\n",
       "    </tbody>\n",
       "        <tr>\n",
       "            <td>Ivysaur   </td> <td>2             </td> <td>grass</td> <td>poison</td> <td>1         </td> <td>0           </td> <td>405       </td> <td>45          </td> <td>1          </td> <td>1           </td> <td>1             </td> <td>0.5             </td> <td>0.5          </td> <td>0.5          </td> <td>2           </td> <td>2             </td> <td>1            </td> <td>0.25         </td> <td>1             </td> <td>2          </td> <td>1             </td> <td>1             </td> <td>2              </td> <td>1           </td> <td>1            </td> <td>0.5          </td> <td>62    </td> <td>5120          </td> <td>70            </td> <td>Seed Pokémon       </td> <td>63     </td> <td>1059860          </td> <td>1       </td> <td>60  </td> <td>Fushigisouフシギソウ </td> <td>88.1           </td> <td>80       </td> <td>80        </td> <td>60   </td> <td>13       </td>\n",
       "        </tr>\n",
       "    </tbody>\n",
       "        <tr>\n",
       "            <td>Venusaur  </td> <td>3             </td> <td>grass</td> <td>poison</td> <td>1         </td> <td>0           </td> <td>625       </td> <td>45          </td> <td>1          </td> <td>1           </td> <td>1             </td> <td>0.5             </td> <td>0.5          </td> <td>0.5          </td> <td>2           </td> <td>2             </td> <td>1            </td> <td>0.25         </td> <td>1             </td> <td>2          </td> <td>1             </td> <td>1             </td> <td>2              </td> <td>1           </td> <td>1            </td> <td>0.5          </td> <td>100   </td> <td>5120          </td> <td>70            </td> <td>Seed Pokémon       </td> <td>123    </td> <td>1059860          </td> <td>2       </td> <td>80  </td> <td>Fushigibanaフシギバナ</td> <td>88.1           </td> <td>122      </td> <td>120       </td> <td>80   </td> <td>100      </td>\n",
       "        </tr>\n",
       "    </tbody>\n",
       "        <tr>\n",
       "            <td>Charmander</td> <td>4             </td> <td>fire </td> <td>nan   </td> <td>1         </td> <td>0           </td> <td>309       </td> <td>45          </td> <td>0.5        </td> <td>1           </td> <td>1             </td> <td>1               </td> <td>0.5          </td> <td>1            </td> <td>0.5         </td> <td>1             </td> <td>1            </td> <td>0.5          </td> <td>2             </td> <td>0.5        </td> <td>1             </td> <td>1             </td> <td>1              </td> <td>2           </td> <td>0.5          </td> <td>2            </td> <td>52    </td> <td>5120          </td> <td>70            </td> <td>Lizard Pokémon     </td> <td>43     </td> <td>1059860          </td> <td>0.6     </td> <td>39  </td> <td>Hitokageヒトカゲ    </td> <td>88.1           </td> <td>60       </td> <td>50        </td> <td>65   </td> <td>8.5      </td>\n",
       "        </tr>\n",
       "    </tbody>\n",
       "        <tr>\n",
       "            <td>Charmeleon</td> <td>5             </td> <td>fire </td> <td>nan   </td> <td>1         </td> <td>0           </td> <td>405       </td> <td>45          </td> <td>0.5        </td> <td>1           </td> <td>1             </td> <td>1               </td> <td>0.5          </td> <td>1            </td> <td>0.5         </td> <td>1             </td> <td>1            </td> <td>0.5          </td> <td>2             </td> <td>0.5        </td> <td>1             </td> <td>1             </td> <td>1              </td> <td>2           </td> <td>0.5          </td> <td>2            </td> <td>64    </td> <td>5120          </td> <td>70            </td> <td>Flame Pokémon      </td> <td>58     </td> <td>1059860          </td> <td>1.1     </td> <td>58  </td> <td>Lizardoリザード     </td> <td>88.1           </td> <td>80       </td> <td>65        </td> <td>80   </td> <td>19       </td>\n",
       "        </tr>\n",
       "    </tbody>\n",
       "        <tr>\n",
       "            <td>Charizard </td> <td>6             </td> <td>fire </td> <td>flying</td> <td>1         </td> <td>0           </td> <td>634       </td> <td>45          </td> <td>0.25       </td> <td>1           </td> <td>1             </td> <td>2               </td> <td>0.5          </td> <td>0.5          </td> <td>0.5         </td> <td>1             </td> <td>1            </td> <td>0.25         </td> <td>0             </td> <td>1          </td> <td>1             </td> <td>1             </td> <td>1              </td> <td>4           </td> <td>0.5          </td> <td>2            </td> <td>104   </td> <td>5120          </td> <td>70            </td> <td>Flame Pokémon      </td> <td>78     </td> <td>1059860          </td> <td>1.7     </td> <td>78  </td> <td>Lizardonリザードン   </td> <td>88.1           </td> <td>159      </td> <td>115       </td> <td>100  </td> <td>90.5     </td>\n",
       "        </tr>\n",
       "    </tbody>\n",
       "        <tr>\n",
       "            <td>Squirtle  </td> <td>7             </td> <td>water</td> <td>nan   </td> <td>1         </td> <td>0           </td> <td>314       </td> <td>45          </td> <td>1          </td> <td>1           </td> <td>1             </td> <td>2               </td> <td>1            </td> <td>1            </td> <td>0.5         </td> <td>1             </td> <td>1            </td> <td>2            </td> <td>1             </td> <td>0.5        </td> <td>1             </td> <td>1             </td> <td>1              </td> <td>1           </td> <td>0.5          </td> <td>0.5          </td> <td>48    </td> <td>5120          </td> <td>70            </td> <td>Tiny Turtle Pokémon</td> <td>65     </td> <td>1059860          </td> <td>0.5     </td> <td>44  </td> <td>Zenigameゼニガメ    </td> <td>88.1           </td> <td>50       </td> <td>64        </td> <td>43   </td> <td>9        </td>\n",
       "        </tr>\n",
       "    </tbody>\n",
       "        <tr>\n",
       "            <td>Wartortle </td> <td>8             </td> <td>water</td> <td>nan   </td> <td>1         </td> <td>0           </td> <td>405       </td> <td>45          </td> <td>1          </td> <td>1           </td> <td>1             </td> <td>2               </td> <td>1            </td> <td>1            </td> <td>0.5         </td> <td>1             </td> <td>1            </td> <td>2            </td> <td>1             </td> <td>0.5        </td> <td>1             </td> <td>1             </td> <td>1              </td> <td>1           </td> <td>0.5          </td> <td>0.5          </td> <td>63    </td> <td>5120          </td> <td>70            </td> <td>Turtle Pokémon     </td> <td>80     </td> <td>1059860          </td> <td>1       </td> <td>59  </td> <td>Kameilカメール      </td> <td>88.1           </td> <td>65       </td> <td>80        </td> <td>58   </td> <td>22.5     </td>\n",
       "        </tr>\n",
       "    </tbody>\n",
       "        <tr>\n",
       "            <td>Blastoise </td> <td>9             </td> <td>water</td> <td>nan   </td> <td>1         </td> <td>0           </td> <td>630       </td> <td>45          </td> <td>1          </td> <td>1           </td> <td>1             </td> <td>2               </td> <td>1            </td> <td>1            </td> <td>0.5         </td> <td>1             </td> <td>1            </td> <td>2            </td> <td>1             </td> <td>0.5        </td> <td>1             </td> <td>1             </td> <td>1              </td> <td>1           </td> <td>0.5          </td> <td>0.5          </td> <td>103   </td> <td>5120          </td> <td>70            </td> <td>Shellfish Pokémon  </td> <td>120    </td> <td>1059860          </td> <td>1.6     </td> <td>79  </td> <td>Kamexカメックス      </td> <td>88.1           </td> <td>135      </td> <td>115       </td> <td>78   </td> <td>85.5     </td>\n",
       "        </tr>\n",
       "    </tbody>\n",
       "        <tr>\n",
       "            <td>Caterpie  </td> <td>10            </td> <td>bug  </td> <td>nan   </td> <td>1         </td> <td>0           </td> <td>195       </td> <td>255         </td> <td>1          </td> <td>1           </td> <td>1             </td> <td>1               </td> <td>1            </td> <td>0.5          </td> <td>2           </td> <td>2             </td> <td>1            </td> <td>0.5          </td> <td>0.5           </td> <td>1          </td> <td>1             </td> <td>1             </td> <td>1              </td> <td>2           </td> <td>1            </td> <td>1            </td> <td>30    </td> <td>3840          </td> <td>70            </td> <td>Worm Pokémon       </td> <td>35     </td> <td>1000000          </td> <td>0.3     </td> <td>45  </td> <td>Caterpieキャタピー   </td> <td>50             </td> <td>20       </td> <td>20        </td> <td>45   </td> <td>2.9      </td>\n",
       "        </tr>\n",
       "    </tbody>\n",
       "</table>\n",
       "<p>... (791 rows omitted)</p"
      ],
      "text/plain": [
       "name       | pokedex_number | type1 | type2  | generation | is_legendary | base_total | capture_rate | against_bug | against_dark | against_dragon | against_electric | against_fairy | against_fight | against_fire | against_flying | against_ghost | against_grass | against_ground | against_ice | against_normal | against_poison | against_psychic | against_rock | against_steel | against_water | attack | base_egg_steps | base_happiness | classfication       | defense | experience_growth | height_m | hp   | japanese_name    | percentage_male | sp_attack | sp_defense | speed | weight_kg\n",
       "Bulbasaur  | 1              | grass | poison | 1          | 0            | 318        | 45           | 1           | 1            | 1              | 0.5              | 0.5           | 0.5           | 2            | 2              | 1             | 0.25          | 1              | 2           | 1              | 1              | 2               | 1            | 1             | 0.5           | 49     | 5120           | 70             | Seed Pokémon        | 49      | 1059860           | 0.7      | 45   | Fushigidaneフシギダネ | 88.1            | 65        | 65         | 45    | 6.9\n",
       "Ivysaur    | 2              | grass | poison | 1          | 0            | 405        | 45           | 1           | 1            | 1              | 0.5              | 0.5           | 0.5           | 2            | 2              | 1             | 0.25          | 1              | 2           | 1              | 1              | 2               | 1            | 1             | 0.5           | 62     | 5120           | 70             | Seed Pokémon        | 63      | 1059860           | 1        | 60   | Fushigisouフシギソウ  | 88.1            | 80        | 80         | 60    | 13\n",
       "Venusaur   | 3              | grass | poison | 1          | 0            | 625        | 45           | 1           | 1            | 1              | 0.5              | 0.5           | 0.5           | 2            | 2              | 1             | 0.25          | 1              | 2           | 1              | 1              | 2               | 1            | 1             | 0.5           | 100    | 5120           | 70             | Seed Pokémon        | 123     | 1059860           | 2        | 80   | Fushigibanaフシギバナ | 88.1            | 122       | 120        | 80    | 100\n",
       "Charmander | 4              | fire  | nan    | 1          | 0            | 309        | 45           | 0.5         | 1            | 1              | 1                | 0.5           | 1             | 0.5          | 1              | 1             | 0.5           | 2              | 0.5         | 1              | 1              | 1               | 2            | 0.5           | 2             | 52     | 5120           | 70             | Lizard Pokémon      | 43      | 1059860           | 0.6      | 39   | Hitokageヒトカゲ     | 88.1            | 60        | 50         | 65    | 8.5\n",
       "Charmeleon | 5              | fire  | nan    | 1          | 0            | 405        | 45           | 0.5         | 1            | 1              | 1                | 0.5           | 1             | 0.5          | 1              | 1             | 0.5           | 2              | 0.5         | 1              | 1              | 1               | 2            | 0.5           | 2             | 64     | 5120           | 70             | Flame Pokémon       | 58      | 1059860           | 1.1      | 58   | Lizardoリザード      | 88.1            | 80        | 65         | 80    | 19\n",
       "Charizard  | 6              | fire  | flying | 1          | 0            | 634        | 45           | 0.25        | 1            | 1              | 2                | 0.5           | 0.5           | 0.5          | 1              | 1             | 0.25          | 0              | 1           | 1              | 1              | 1               | 4            | 0.5           | 2             | 104    | 5120           | 70             | Flame Pokémon       | 78      | 1059860           | 1.7      | 78   | Lizardonリザードン    | 88.1            | 159       | 115        | 100   | 90.5\n",
       "Squirtle   | 7              | water | nan    | 1          | 0            | 314        | 45           | 1           | 1            | 1              | 2                | 1             | 1             | 0.5          | 1              | 1             | 2             | 1              | 0.5         | 1              | 1              | 1               | 1            | 0.5           | 0.5           | 48     | 5120           | 70             | Tiny Turtle Pokémon | 65      | 1059860           | 0.5      | 44   | Zenigameゼニガメ     | 88.1            | 50        | 64         | 43    | 9\n",
       "Wartortle  | 8              | water | nan    | 1          | 0            | 405        | 45           | 1           | 1            | 1              | 2                | 1             | 1             | 0.5          | 1              | 1             | 2             | 1              | 0.5         | 1              | 1              | 1               | 1            | 0.5           | 0.5           | 63     | 5120           | 70             | Turtle Pokémon      | 80      | 1059860           | 1        | 59   | Kameilカメール       | 88.1            | 65        | 80         | 58    | 22.5\n",
       "Blastoise  | 9              | water | nan    | 1          | 0            | 630        | 45           | 1           | 1            | 1              | 2                | 1             | 1             | 0.5          | 1              | 1             | 2             | 1              | 0.5         | 1              | 1              | 1               | 1            | 0.5           | 0.5           | 103    | 5120           | 70             | Shellfish Pokémon   | 120     | 1059860           | 1.6      | 79   | Kamexカメックス       | 88.1            | 135       | 115        | 78    | 85.5\n",
       "Caterpie   | 10             | bug   | nan    | 1          | 0            | 195        | 255          | 1           | 1            | 1              | 1                | 1             | 0.5           | 2            | 2              | 1             | 0.5           | 0.5            | 1           | 1              | 1              | 1               | 2            | 1             | 1             | 30     | 3840           | 70             | Worm Pokémon        | 35      | 1000000           | 0.3      | 45   | Caterpieキャタピー    | 50              | 20        | 20         | 45    | 2.9\n",
       "... (791 rows omitted)"
      ]
     },
     "execution_count": 17,
     "metadata": {},
     "output_type": "execute_result"
    }
   ],
   "source": [
    "pokemon_table.drop('abilities')"
   ]
  },
  {
   "cell_type": "markdown",
   "metadata": {},
   "source": [
    "Note this doesn't change the actual pokemon_table!!! We need to assign it to a new table above to actually keep the change"
   ]
  },
  {
   "cell_type": "code",
   "execution_count": 18,
   "metadata": {},
   "outputs": [
    {
     "data": {
      "text/html": [
       "<table border=\"1\" class=\"dataframe\">\n",
       "    <thead>\n",
       "        <tr>\n",
       "            <th>name</th> <th>pokedex_number</th> <th>type1</th> <th>type2</th> <th>abilities</th> <th>generation</th> <th>is_legendary</th> <th>base_total</th> <th>capture_rate</th> <th>against_bug</th> <th>against_dark</th> <th>against_dragon</th> <th>against_electric</th> <th>against_fairy</th> <th>against_fight</th> <th>against_fire</th> <th>against_flying</th> <th>against_ghost</th> <th>against_grass</th> <th>against_ground</th> <th>against_ice</th> <th>against_normal</th> <th>against_poison</th> <th>against_psychic</th> <th>against_rock</th> <th>against_steel</th> <th>against_water</th> <th>attack</th> <th>base_egg_steps</th> <th>base_happiness</th> <th>classfication</th> <th>defense</th> <th>experience_growth</th> <th>height_m</th> <th>hp</th> <th>japanese_name</th> <th>percentage_male</th> <th>sp_attack</th> <th>sp_defense</th> <th>speed</th> <th>weight_kg</th>\n",
       "        </tr>\n",
       "    </thead>\n",
       "    <tbody>\n",
       "        <tr>\n",
       "            <td>Bulbasaur </td> <td>1             </td> <td>grass</td> <td>poison</td> <td>['Overgrow', 'Chlorophyll']</td> <td>1         </td> <td>0           </td> <td>318       </td> <td>45          </td> <td>1          </td> <td>1           </td> <td>1             </td> <td>0.5             </td> <td>0.5          </td> <td>0.5          </td> <td>2           </td> <td>2             </td> <td>1            </td> <td>0.25         </td> <td>1             </td> <td>2          </td> <td>1             </td> <td>1             </td> <td>2              </td> <td>1           </td> <td>1            </td> <td>0.5          </td> <td>49    </td> <td>5120          </td> <td>70            </td> <td>Seed Pokémon       </td> <td>49     </td> <td>1059860          </td> <td>0.7     </td> <td>45  </td> <td>Fushigidaneフシギダネ</td> <td>88.1           </td> <td>65       </td> <td>65        </td> <td>45   </td> <td>6.9      </td>\n",
       "        </tr>\n",
       "    </tbody>\n",
       "        <tr>\n",
       "            <td>Ivysaur   </td> <td>2             </td> <td>grass</td> <td>poison</td> <td>['Overgrow', 'Chlorophyll']</td> <td>1         </td> <td>0           </td> <td>405       </td> <td>45          </td> <td>1          </td> <td>1           </td> <td>1             </td> <td>0.5             </td> <td>0.5          </td> <td>0.5          </td> <td>2           </td> <td>2             </td> <td>1            </td> <td>0.25         </td> <td>1             </td> <td>2          </td> <td>1             </td> <td>1             </td> <td>2              </td> <td>1           </td> <td>1            </td> <td>0.5          </td> <td>62    </td> <td>5120          </td> <td>70            </td> <td>Seed Pokémon       </td> <td>63     </td> <td>1059860          </td> <td>1       </td> <td>60  </td> <td>Fushigisouフシギソウ </td> <td>88.1           </td> <td>80       </td> <td>80        </td> <td>60   </td> <td>13       </td>\n",
       "        </tr>\n",
       "    </tbody>\n",
       "        <tr>\n",
       "            <td>Venusaur  </td> <td>3             </td> <td>grass</td> <td>poison</td> <td>['Overgrow', 'Chlorophyll']</td> <td>1         </td> <td>0           </td> <td>625       </td> <td>45          </td> <td>1          </td> <td>1           </td> <td>1             </td> <td>0.5             </td> <td>0.5          </td> <td>0.5          </td> <td>2           </td> <td>2             </td> <td>1            </td> <td>0.25         </td> <td>1             </td> <td>2          </td> <td>1             </td> <td>1             </td> <td>2              </td> <td>1           </td> <td>1            </td> <td>0.5          </td> <td>100   </td> <td>5120          </td> <td>70            </td> <td>Seed Pokémon       </td> <td>123    </td> <td>1059860          </td> <td>2       </td> <td>80  </td> <td>Fushigibanaフシギバナ</td> <td>88.1           </td> <td>122      </td> <td>120       </td> <td>80   </td> <td>100      </td>\n",
       "        </tr>\n",
       "    </tbody>\n",
       "        <tr>\n",
       "            <td>Charmander</td> <td>4             </td> <td>fire </td> <td>nan   </td> <td>['Blaze', 'Solar Power']   </td> <td>1         </td> <td>0           </td> <td>309       </td> <td>45          </td> <td>0.5        </td> <td>1           </td> <td>1             </td> <td>1               </td> <td>0.5          </td> <td>1            </td> <td>0.5         </td> <td>1             </td> <td>1            </td> <td>0.5          </td> <td>2             </td> <td>0.5        </td> <td>1             </td> <td>1             </td> <td>1              </td> <td>2           </td> <td>0.5          </td> <td>2            </td> <td>52    </td> <td>5120          </td> <td>70            </td> <td>Lizard Pokémon     </td> <td>43     </td> <td>1059860          </td> <td>0.6     </td> <td>39  </td> <td>Hitokageヒトカゲ    </td> <td>88.1           </td> <td>60       </td> <td>50        </td> <td>65   </td> <td>8.5      </td>\n",
       "        </tr>\n",
       "    </tbody>\n",
       "        <tr>\n",
       "            <td>Charmeleon</td> <td>5             </td> <td>fire </td> <td>nan   </td> <td>['Blaze', 'Solar Power']   </td> <td>1         </td> <td>0           </td> <td>405       </td> <td>45          </td> <td>0.5        </td> <td>1           </td> <td>1             </td> <td>1               </td> <td>0.5          </td> <td>1            </td> <td>0.5         </td> <td>1             </td> <td>1            </td> <td>0.5          </td> <td>2             </td> <td>0.5        </td> <td>1             </td> <td>1             </td> <td>1              </td> <td>2           </td> <td>0.5          </td> <td>2            </td> <td>64    </td> <td>5120          </td> <td>70            </td> <td>Flame Pokémon      </td> <td>58     </td> <td>1059860          </td> <td>1.1     </td> <td>58  </td> <td>Lizardoリザード     </td> <td>88.1           </td> <td>80       </td> <td>65        </td> <td>80   </td> <td>19       </td>\n",
       "        </tr>\n",
       "    </tbody>\n",
       "        <tr>\n",
       "            <td>Charizard </td> <td>6             </td> <td>fire </td> <td>flying</td> <td>['Blaze', 'Solar Power']   </td> <td>1         </td> <td>0           </td> <td>634       </td> <td>45          </td> <td>0.25       </td> <td>1           </td> <td>1             </td> <td>2               </td> <td>0.5          </td> <td>0.5          </td> <td>0.5         </td> <td>1             </td> <td>1            </td> <td>0.25         </td> <td>0             </td> <td>1          </td> <td>1             </td> <td>1             </td> <td>1              </td> <td>4           </td> <td>0.5          </td> <td>2            </td> <td>104   </td> <td>5120          </td> <td>70            </td> <td>Flame Pokémon      </td> <td>78     </td> <td>1059860          </td> <td>1.7     </td> <td>78  </td> <td>Lizardonリザードン   </td> <td>88.1           </td> <td>159      </td> <td>115       </td> <td>100  </td> <td>90.5     </td>\n",
       "        </tr>\n",
       "    </tbody>\n",
       "        <tr>\n",
       "            <td>Squirtle  </td> <td>7             </td> <td>water</td> <td>nan   </td> <td>['Torrent', 'Rain Dish']   </td> <td>1         </td> <td>0           </td> <td>314       </td> <td>45          </td> <td>1          </td> <td>1           </td> <td>1             </td> <td>2               </td> <td>1            </td> <td>1            </td> <td>0.5         </td> <td>1             </td> <td>1            </td> <td>2            </td> <td>1             </td> <td>0.5        </td> <td>1             </td> <td>1             </td> <td>1              </td> <td>1           </td> <td>0.5          </td> <td>0.5          </td> <td>48    </td> <td>5120          </td> <td>70            </td> <td>Tiny Turtle Pokémon</td> <td>65     </td> <td>1059860          </td> <td>0.5     </td> <td>44  </td> <td>Zenigameゼニガメ    </td> <td>88.1           </td> <td>50       </td> <td>64        </td> <td>43   </td> <td>9        </td>\n",
       "        </tr>\n",
       "    </tbody>\n",
       "        <tr>\n",
       "            <td>Wartortle </td> <td>8             </td> <td>water</td> <td>nan   </td> <td>['Torrent', 'Rain Dish']   </td> <td>1         </td> <td>0           </td> <td>405       </td> <td>45          </td> <td>1          </td> <td>1           </td> <td>1             </td> <td>2               </td> <td>1            </td> <td>1            </td> <td>0.5         </td> <td>1             </td> <td>1            </td> <td>2            </td> <td>1             </td> <td>0.5        </td> <td>1             </td> <td>1             </td> <td>1              </td> <td>1           </td> <td>0.5          </td> <td>0.5          </td> <td>63    </td> <td>5120          </td> <td>70            </td> <td>Turtle Pokémon     </td> <td>80     </td> <td>1059860          </td> <td>1       </td> <td>59  </td> <td>Kameilカメール      </td> <td>88.1           </td> <td>65       </td> <td>80        </td> <td>58   </td> <td>22.5     </td>\n",
       "        </tr>\n",
       "    </tbody>\n",
       "        <tr>\n",
       "            <td>Blastoise </td> <td>9             </td> <td>water</td> <td>nan   </td> <td>['Torrent', 'Rain Dish']   </td> <td>1         </td> <td>0           </td> <td>630       </td> <td>45          </td> <td>1          </td> <td>1           </td> <td>1             </td> <td>2               </td> <td>1            </td> <td>1            </td> <td>0.5         </td> <td>1             </td> <td>1            </td> <td>2            </td> <td>1             </td> <td>0.5        </td> <td>1             </td> <td>1             </td> <td>1              </td> <td>1           </td> <td>0.5          </td> <td>0.5          </td> <td>103   </td> <td>5120          </td> <td>70            </td> <td>Shellfish Pokémon  </td> <td>120    </td> <td>1059860          </td> <td>1.6     </td> <td>79  </td> <td>Kamexカメックス      </td> <td>88.1           </td> <td>135      </td> <td>115       </td> <td>78   </td> <td>85.5     </td>\n",
       "        </tr>\n",
       "    </tbody>\n",
       "        <tr>\n",
       "            <td>Caterpie  </td> <td>10            </td> <td>bug  </td> <td>nan   </td> <td>['Shield Dust', 'Run Away']</td> <td>1         </td> <td>0           </td> <td>195       </td> <td>255         </td> <td>1          </td> <td>1           </td> <td>1             </td> <td>1               </td> <td>1            </td> <td>0.5          </td> <td>2           </td> <td>2             </td> <td>1            </td> <td>0.5          </td> <td>0.5           </td> <td>1          </td> <td>1             </td> <td>1             </td> <td>1              </td> <td>2           </td> <td>1            </td> <td>1            </td> <td>30    </td> <td>3840          </td> <td>70            </td> <td>Worm Pokémon       </td> <td>35     </td> <td>1000000          </td> <td>0.3     </td> <td>45  </td> <td>Caterpieキャタピー   </td> <td>50             </td> <td>20       </td> <td>20        </td> <td>45   </td> <td>2.9      </td>\n",
       "        </tr>\n",
       "    </tbody>\n",
       "</table>\n",
       "<p>... (791 rows omitted)</p"
      ],
      "text/plain": [
       "name       | pokedex_number | type1 | type2  | abilities                   | generation | is_legendary | base_total | capture_rate | against_bug | against_dark | against_dragon | against_electric | against_fairy | against_fight | against_fire | against_flying | against_ghost | against_grass | against_ground | against_ice | against_normal | against_poison | against_psychic | against_rock | against_steel | against_water | attack | base_egg_steps | base_happiness | classfication       | defense | experience_growth | height_m | hp   | japanese_name    | percentage_male | sp_attack | sp_defense | speed | weight_kg\n",
       "Bulbasaur  | 1              | grass | poison | ['Overgrow', 'Chlorophyll'] | 1          | 0            | 318        | 45           | 1           | 1            | 1              | 0.5              | 0.5           | 0.5           | 2            | 2              | 1             | 0.25          | 1              | 2           | 1              | 1              | 2               | 1            | 1             | 0.5           | 49     | 5120           | 70             | Seed Pokémon        | 49      | 1059860           | 0.7      | 45   | Fushigidaneフシギダネ | 88.1            | 65        | 65         | 45    | 6.9\n",
       "Ivysaur    | 2              | grass | poison | ['Overgrow', 'Chlorophyll'] | 1          | 0            | 405        | 45           | 1           | 1            | 1              | 0.5              | 0.5           | 0.5           | 2            | 2              | 1             | 0.25          | 1              | 2           | 1              | 1              | 2               | 1            | 1             | 0.5           | 62     | 5120           | 70             | Seed Pokémon        | 63      | 1059860           | 1        | 60   | Fushigisouフシギソウ  | 88.1            | 80        | 80         | 60    | 13\n",
       "Venusaur   | 3              | grass | poison | ['Overgrow', 'Chlorophyll'] | 1          | 0            | 625        | 45           | 1           | 1            | 1              | 0.5              | 0.5           | 0.5           | 2            | 2              | 1             | 0.25          | 1              | 2           | 1              | 1              | 2               | 1            | 1             | 0.5           | 100    | 5120           | 70             | Seed Pokémon        | 123     | 1059860           | 2        | 80   | Fushigibanaフシギバナ | 88.1            | 122       | 120        | 80    | 100\n",
       "Charmander | 4              | fire  | nan    | ['Blaze', 'Solar Power']    | 1          | 0            | 309        | 45           | 0.5         | 1            | 1              | 1                | 0.5           | 1             | 0.5          | 1              | 1             | 0.5           | 2              | 0.5         | 1              | 1              | 1               | 2            | 0.5           | 2             | 52     | 5120           | 70             | Lizard Pokémon      | 43      | 1059860           | 0.6      | 39   | Hitokageヒトカゲ     | 88.1            | 60        | 50         | 65    | 8.5\n",
       "Charmeleon | 5              | fire  | nan    | ['Blaze', 'Solar Power']    | 1          | 0            | 405        | 45           | 0.5         | 1            | 1              | 1                | 0.5           | 1             | 0.5          | 1              | 1             | 0.5           | 2              | 0.5         | 1              | 1              | 1               | 2            | 0.5           | 2             | 64     | 5120           | 70             | Flame Pokémon       | 58      | 1059860           | 1.1      | 58   | Lizardoリザード      | 88.1            | 80        | 65         | 80    | 19\n",
       "Charizard  | 6              | fire  | flying | ['Blaze', 'Solar Power']    | 1          | 0            | 634        | 45           | 0.25        | 1            | 1              | 2                | 0.5           | 0.5           | 0.5          | 1              | 1             | 0.25          | 0              | 1           | 1              | 1              | 1               | 4            | 0.5           | 2             | 104    | 5120           | 70             | Flame Pokémon       | 78      | 1059860           | 1.7      | 78   | Lizardonリザードン    | 88.1            | 159       | 115        | 100   | 90.5\n",
       "Squirtle   | 7              | water | nan    | ['Torrent', 'Rain Dish']    | 1          | 0            | 314        | 45           | 1           | 1            | 1              | 2                | 1             | 1             | 0.5          | 1              | 1             | 2             | 1              | 0.5         | 1              | 1              | 1               | 1            | 0.5           | 0.5           | 48     | 5120           | 70             | Tiny Turtle Pokémon | 65      | 1059860           | 0.5      | 44   | Zenigameゼニガメ     | 88.1            | 50        | 64         | 43    | 9\n",
       "Wartortle  | 8              | water | nan    | ['Torrent', 'Rain Dish']    | 1          | 0            | 405        | 45           | 1           | 1            | 1              | 2                | 1             | 1             | 0.5          | 1              | 1             | 2             | 1              | 0.5         | 1              | 1              | 1               | 1            | 0.5           | 0.5           | 63     | 5120           | 70             | Turtle Pokémon      | 80      | 1059860           | 1        | 59   | Kameilカメール       | 88.1            | 65        | 80         | 58    | 22.5\n",
       "Blastoise  | 9              | water | nan    | ['Torrent', 'Rain Dish']    | 1          | 0            | 630        | 45           | 1           | 1            | 1              | 2                | 1             | 1             | 0.5          | 1              | 1             | 2             | 1              | 0.5         | 1              | 1              | 1               | 1            | 0.5           | 0.5           | 103    | 5120           | 70             | Shellfish Pokémon   | 120     | 1059860           | 1.6      | 79   | Kamexカメックス       | 88.1            | 135       | 115        | 78    | 85.5\n",
       "Caterpie   | 10             | bug   | nan    | ['Shield Dust', 'Run Away'] | 1          | 0            | 195        | 255          | 1           | 1            | 1              | 1                | 1             | 0.5           | 2            | 2              | 1             | 0.5           | 0.5            | 1           | 1              | 1              | 1               | 2            | 1             | 1             | 30     | 3840           | 70             | Worm Pokémon        | 35      | 1000000           | 0.3      | 45   | Caterpieキャタピー    | 50              | 20        | 20         | 45    | 2.9\n",
       "... (791 rows omitted)"
      ]
     },
     "execution_count": 18,
     "metadata": {},
     "output_type": "execute_result"
    }
   ],
   "source": [
    "pokemon_table"
   ]
  },
  {
   "cell_type": "code",
   "execution_count": 19,
   "metadata": {},
   "outputs": [
    {
     "data": {
      "text/html": [
       "<table border=\"1\" class=\"dataframe\">\n",
       "    <thead>\n",
       "        <tr>\n",
       "            <th>name</th> <th>pokedex_number</th> <th>type1</th> <th>type2</th> <th>generation</th> <th>is_legendary</th> <th>base_total</th> <th>capture_rate</th> <th>against_bug</th> <th>against_dark</th> <th>against_dragon</th> <th>against_electric</th> <th>against_fairy</th> <th>against_fight</th> <th>against_fire</th> <th>against_flying</th> <th>against_ghost</th> <th>against_grass</th> <th>against_ground</th> <th>against_ice</th> <th>against_normal</th> <th>against_poison</th> <th>against_psychic</th> <th>against_rock</th> <th>against_steel</th> <th>against_water</th> <th>attack</th> <th>base_egg_steps</th> <th>base_happiness</th> <th>classfication</th> <th>defense</th> <th>experience_growth</th> <th>height_m</th> <th>hp</th> <th>japanese_name</th> <th>percentage_male</th> <th>sp_attack</th> <th>sp_defense</th> <th>speed</th> <th>weight_kg</th>\n",
       "        </tr>\n",
       "    </thead>\n",
       "    <tbody>\n",
       "        <tr>\n",
       "            <td>Bulbasaur </td> <td>1             </td> <td>grass</td> <td>poison</td> <td>1         </td> <td>0           </td> <td>318       </td> <td>45          </td> <td>1          </td> <td>1           </td> <td>1             </td> <td>0.5             </td> <td>0.5          </td> <td>0.5          </td> <td>2           </td> <td>2             </td> <td>1            </td> <td>0.25         </td> <td>1             </td> <td>2          </td> <td>1             </td> <td>1             </td> <td>2              </td> <td>1           </td> <td>1            </td> <td>0.5          </td> <td>49    </td> <td>5120          </td> <td>70            </td> <td>Seed Pokémon       </td> <td>49     </td> <td>1059860          </td> <td>0.7     </td> <td>45  </td> <td>Fushigidaneフシギダネ</td> <td>88.1           </td> <td>65       </td> <td>65        </td> <td>45   </td> <td>6.9      </td>\n",
       "        </tr>\n",
       "    </tbody>\n",
       "        <tr>\n",
       "            <td>Ivysaur   </td> <td>2             </td> <td>grass</td> <td>poison</td> <td>1         </td> <td>0           </td> <td>405       </td> <td>45          </td> <td>1          </td> <td>1           </td> <td>1             </td> <td>0.5             </td> <td>0.5          </td> <td>0.5          </td> <td>2           </td> <td>2             </td> <td>1            </td> <td>0.25         </td> <td>1             </td> <td>2          </td> <td>1             </td> <td>1             </td> <td>2              </td> <td>1           </td> <td>1            </td> <td>0.5          </td> <td>62    </td> <td>5120          </td> <td>70            </td> <td>Seed Pokémon       </td> <td>63     </td> <td>1059860          </td> <td>1       </td> <td>60  </td> <td>Fushigisouフシギソウ </td> <td>88.1           </td> <td>80       </td> <td>80        </td> <td>60   </td> <td>13       </td>\n",
       "        </tr>\n",
       "    </tbody>\n",
       "        <tr>\n",
       "            <td>Venusaur  </td> <td>3             </td> <td>grass</td> <td>poison</td> <td>1         </td> <td>0           </td> <td>625       </td> <td>45          </td> <td>1          </td> <td>1           </td> <td>1             </td> <td>0.5             </td> <td>0.5          </td> <td>0.5          </td> <td>2           </td> <td>2             </td> <td>1            </td> <td>0.25         </td> <td>1             </td> <td>2          </td> <td>1             </td> <td>1             </td> <td>2              </td> <td>1           </td> <td>1            </td> <td>0.5          </td> <td>100   </td> <td>5120          </td> <td>70            </td> <td>Seed Pokémon       </td> <td>123    </td> <td>1059860          </td> <td>2       </td> <td>80  </td> <td>Fushigibanaフシギバナ</td> <td>88.1           </td> <td>122      </td> <td>120       </td> <td>80   </td> <td>100      </td>\n",
       "        </tr>\n",
       "    </tbody>\n",
       "        <tr>\n",
       "            <td>Charmander</td> <td>4             </td> <td>fire </td> <td>nan   </td> <td>1         </td> <td>0           </td> <td>309       </td> <td>45          </td> <td>0.5        </td> <td>1           </td> <td>1             </td> <td>1               </td> <td>0.5          </td> <td>1            </td> <td>0.5         </td> <td>1             </td> <td>1            </td> <td>0.5          </td> <td>2             </td> <td>0.5        </td> <td>1             </td> <td>1             </td> <td>1              </td> <td>2           </td> <td>0.5          </td> <td>2            </td> <td>52    </td> <td>5120          </td> <td>70            </td> <td>Lizard Pokémon     </td> <td>43     </td> <td>1059860          </td> <td>0.6     </td> <td>39  </td> <td>Hitokageヒトカゲ    </td> <td>88.1           </td> <td>60       </td> <td>50        </td> <td>65   </td> <td>8.5      </td>\n",
       "        </tr>\n",
       "    </tbody>\n",
       "        <tr>\n",
       "            <td>Charmeleon</td> <td>5             </td> <td>fire </td> <td>nan   </td> <td>1         </td> <td>0           </td> <td>405       </td> <td>45          </td> <td>0.5        </td> <td>1           </td> <td>1             </td> <td>1               </td> <td>0.5          </td> <td>1            </td> <td>0.5         </td> <td>1             </td> <td>1            </td> <td>0.5          </td> <td>2             </td> <td>0.5        </td> <td>1             </td> <td>1             </td> <td>1              </td> <td>2           </td> <td>0.5          </td> <td>2            </td> <td>64    </td> <td>5120          </td> <td>70            </td> <td>Flame Pokémon      </td> <td>58     </td> <td>1059860          </td> <td>1.1     </td> <td>58  </td> <td>Lizardoリザード     </td> <td>88.1           </td> <td>80       </td> <td>65        </td> <td>80   </td> <td>19       </td>\n",
       "        </tr>\n",
       "    </tbody>\n",
       "        <tr>\n",
       "            <td>Charizard </td> <td>6             </td> <td>fire </td> <td>flying</td> <td>1         </td> <td>0           </td> <td>634       </td> <td>45          </td> <td>0.25       </td> <td>1           </td> <td>1             </td> <td>2               </td> <td>0.5          </td> <td>0.5          </td> <td>0.5         </td> <td>1             </td> <td>1            </td> <td>0.25         </td> <td>0             </td> <td>1          </td> <td>1             </td> <td>1             </td> <td>1              </td> <td>4           </td> <td>0.5          </td> <td>2            </td> <td>104   </td> <td>5120          </td> <td>70            </td> <td>Flame Pokémon      </td> <td>78     </td> <td>1059860          </td> <td>1.7     </td> <td>78  </td> <td>Lizardonリザードン   </td> <td>88.1           </td> <td>159      </td> <td>115       </td> <td>100  </td> <td>90.5     </td>\n",
       "        </tr>\n",
       "    </tbody>\n",
       "        <tr>\n",
       "            <td>Squirtle  </td> <td>7             </td> <td>water</td> <td>nan   </td> <td>1         </td> <td>0           </td> <td>314       </td> <td>45          </td> <td>1          </td> <td>1           </td> <td>1             </td> <td>2               </td> <td>1            </td> <td>1            </td> <td>0.5         </td> <td>1             </td> <td>1            </td> <td>2            </td> <td>1             </td> <td>0.5        </td> <td>1             </td> <td>1             </td> <td>1              </td> <td>1           </td> <td>0.5          </td> <td>0.5          </td> <td>48    </td> <td>5120          </td> <td>70            </td> <td>Tiny Turtle Pokémon</td> <td>65     </td> <td>1059860          </td> <td>0.5     </td> <td>44  </td> <td>Zenigameゼニガメ    </td> <td>88.1           </td> <td>50       </td> <td>64        </td> <td>43   </td> <td>9        </td>\n",
       "        </tr>\n",
       "    </tbody>\n",
       "        <tr>\n",
       "            <td>Wartortle </td> <td>8             </td> <td>water</td> <td>nan   </td> <td>1         </td> <td>0           </td> <td>405       </td> <td>45          </td> <td>1          </td> <td>1           </td> <td>1             </td> <td>2               </td> <td>1            </td> <td>1            </td> <td>0.5         </td> <td>1             </td> <td>1            </td> <td>2            </td> <td>1             </td> <td>0.5        </td> <td>1             </td> <td>1             </td> <td>1              </td> <td>1           </td> <td>0.5          </td> <td>0.5          </td> <td>63    </td> <td>5120          </td> <td>70            </td> <td>Turtle Pokémon     </td> <td>80     </td> <td>1059860          </td> <td>1       </td> <td>59  </td> <td>Kameilカメール      </td> <td>88.1           </td> <td>65       </td> <td>80        </td> <td>58   </td> <td>22.5     </td>\n",
       "        </tr>\n",
       "    </tbody>\n",
       "        <tr>\n",
       "            <td>Blastoise </td> <td>9             </td> <td>water</td> <td>nan   </td> <td>1         </td> <td>0           </td> <td>630       </td> <td>45          </td> <td>1          </td> <td>1           </td> <td>1             </td> <td>2               </td> <td>1            </td> <td>1            </td> <td>0.5         </td> <td>1             </td> <td>1            </td> <td>2            </td> <td>1             </td> <td>0.5        </td> <td>1             </td> <td>1             </td> <td>1              </td> <td>1           </td> <td>0.5          </td> <td>0.5          </td> <td>103   </td> <td>5120          </td> <td>70            </td> <td>Shellfish Pokémon  </td> <td>120    </td> <td>1059860          </td> <td>1.6     </td> <td>79  </td> <td>Kamexカメックス      </td> <td>88.1           </td> <td>135      </td> <td>115       </td> <td>78   </td> <td>85.5     </td>\n",
       "        </tr>\n",
       "    </tbody>\n",
       "        <tr>\n",
       "            <td>Caterpie  </td> <td>10            </td> <td>bug  </td> <td>nan   </td> <td>1         </td> <td>0           </td> <td>195       </td> <td>255         </td> <td>1          </td> <td>1           </td> <td>1             </td> <td>1               </td> <td>1            </td> <td>0.5          </td> <td>2           </td> <td>2             </td> <td>1            </td> <td>0.5          </td> <td>0.5           </td> <td>1          </td> <td>1             </td> <td>1             </td> <td>1              </td> <td>2           </td> <td>1            </td> <td>1            </td> <td>30    </td> <td>3840          </td> <td>70            </td> <td>Worm Pokémon       </td> <td>35     </td> <td>1000000          </td> <td>0.3     </td> <td>45  </td> <td>Caterpieキャタピー   </td> <td>50             </td> <td>20       </td> <td>20        </td> <td>45   </td> <td>2.9      </td>\n",
       "        </tr>\n",
       "    </tbody>\n",
       "</table>\n",
       "<p>... (791 rows omitted)</p"
      ],
      "text/plain": [
       "name       | pokedex_number | type1 | type2  | generation | is_legendary | base_total | capture_rate | against_bug | against_dark | against_dragon | against_electric | against_fairy | against_fight | against_fire | against_flying | against_ghost | against_grass | against_ground | against_ice | against_normal | against_poison | against_psychic | against_rock | against_steel | against_water | attack | base_egg_steps | base_happiness | classfication       | defense | experience_growth | height_m | hp   | japanese_name    | percentage_male | sp_attack | sp_defense | speed | weight_kg\n",
       "Bulbasaur  | 1              | grass | poison | 1          | 0            | 318        | 45           | 1           | 1            | 1              | 0.5              | 0.5           | 0.5           | 2            | 2              | 1             | 0.25          | 1              | 2           | 1              | 1              | 2               | 1            | 1             | 0.5           | 49     | 5120           | 70             | Seed Pokémon        | 49      | 1059860           | 0.7      | 45   | Fushigidaneフシギダネ | 88.1            | 65        | 65         | 45    | 6.9\n",
       "Ivysaur    | 2              | grass | poison | 1          | 0            | 405        | 45           | 1           | 1            | 1              | 0.5              | 0.5           | 0.5           | 2            | 2              | 1             | 0.25          | 1              | 2           | 1              | 1              | 2               | 1            | 1             | 0.5           | 62     | 5120           | 70             | Seed Pokémon        | 63      | 1059860           | 1        | 60   | Fushigisouフシギソウ  | 88.1            | 80        | 80         | 60    | 13\n",
       "Venusaur   | 3              | grass | poison | 1          | 0            | 625        | 45           | 1           | 1            | 1              | 0.5              | 0.5           | 0.5           | 2            | 2              | 1             | 0.25          | 1              | 2           | 1              | 1              | 2               | 1            | 1             | 0.5           | 100    | 5120           | 70             | Seed Pokémon        | 123     | 1059860           | 2        | 80   | Fushigibanaフシギバナ | 88.1            | 122       | 120        | 80    | 100\n",
       "Charmander | 4              | fire  | nan    | 1          | 0            | 309        | 45           | 0.5         | 1            | 1              | 1                | 0.5           | 1             | 0.5          | 1              | 1             | 0.5           | 2              | 0.5         | 1              | 1              | 1               | 2            | 0.5           | 2             | 52     | 5120           | 70             | Lizard Pokémon      | 43      | 1059860           | 0.6      | 39   | Hitokageヒトカゲ     | 88.1            | 60        | 50         | 65    | 8.5\n",
       "Charmeleon | 5              | fire  | nan    | 1          | 0            | 405        | 45           | 0.5         | 1            | 1              | 1                | 0.5           | 1             | 0.5          | 1              | 1             | 0.5           | 2              | 0.5         | 1              | 1              | 1               | 2            | 0.5           | 2             | 64     | 5120           | 70             | Flame Pokémon       | 58      | 1059860           | 1.1      | 58   | Lizardoリザード      | 88.1            | 80        | 65         | 80    | 19\n",
       "Charizard  | 6              | fire  | flying | 1          | 0            | 634        | 45           | 0.25        | 1            | 1              | 2                | 0.5           | 0.5           | 0.5          | 1              | 1             | 0.25          | 0              | 1           | 1              | 1              | 1               | 4            | 0.5           | 2             | 104    | 5120           | 70             | Flame Pokémon       | 78      | 1059860           | 1.7      | 78   | Lizardonリザードン    | 88.1            | 159       | 115        | 100   | 90.5\n",
       "Squirtle   | 7              | water | nan    | 1          | 0            | 314        | 45           | 1           | 1            | 1              | 2                | 1             | 1             | 0.5          | 1              | 1             | 2             | 1              | 0.5         | 1              | 1              | 1               | 1            | 0.5           | 0.5           | 48     | 5120           | 70             | Tiny Turtle Pokémon | 65      | 1059860           | 0.5      | 44   | Zenigameゼニガメ     | 88.1            | 50        | 64         | 43    | 9\n",
       "Wartortle  | 8              | water | nan    | 1          | 0            | 405        | 45           | 1           | 1            | 1              | 2                | 1             | 1             | 0.5          | 1              | 1             | 2             | 1              | 0.5         | 1              | 1              | 1               | 1            | 0.5           | 0.5           | 63     | 5120           | 70             | Turtle Pokémon      | 80      | 1059860           | 1        | 59   | Kameilカメール       | 88.1            | 65        | 80         | 58    | 22.5\n",
       "Blastoise  | 9              | water | nan    | 1          | 0            | 630        | 45           | 1           | 1            | 1              | 2                | 1             | 1             | 0.5          | 1              | 1             | 2             | 1              | 0.5         | 1              | 1              | 1               | 1            | 0.5           | 0.5           | 103    | 5120           | 70             | Shellfish Pokémon   | 120     | 1059860           | 1.6      | 79   | Kamexカメックス       | 88.1            | 135       | 115        | 78    | 85.5\n",
       "Caterpie   | 10             | bug   | nan    | 1          | 0            | 195        | 255          | 1           | 1            | 1              | 1                | 1             | 0.5           | 2            | 2              | 1             | 0.5           | 0.5            | 1           | 1              | 1              | 1               | 2            | 1             | 1             | 30     | 3840           | 70             | Worm Pokémon        | 35      | 1000000           | 0.3      | 45   | Caterpieキャタピー    | 50              | 20        | 20         | 45    | 2.9\n",
       "... (791 rows omitted)"
      ]
     },
     "execution_count": 19,
     "metadata": {},
     "output_type": "execute_result"
    }
   ],
   "source": [
    "pokemon_table_without_abilities = pokemon_table.drop('abilities')\n",
    "pokemon_table_without_abilities"
   ]
  },
  {
   "cell_type": "markdown",
   "metadata": {},
   "source": [
    "How can I sort Pokemon in order of highest to lowest attack?"
   ]
  },
  {
   "cell_type": "code",
   "execution_count": 20,
   "metadata": {},
   "outputs": [
    {
     "data": {
      "text/html": [
       "<table border=\"1\" class=\"dataframe\">\n",
       "    <thead>\n",
       "        <tr>\n",
       "            <th>name</th> <th>pokedex_number</th> <th>type1</th> <th>type2</th> <th>abilities</th> <th>generation</th> <th>is_legendary</th> <th>base_total</th> <th>capture_rate</th> <th>against_bug</th> <th>against_dark</th> <th>against_dragon</th> <th>against_electric</th> <th>against_fairy</th> <th>against_fight</th> <th>against_fire</th> <th>against_flying</th> <th>against_ghost</th> <th>against_grass</th> <th>against_ground</th> <th>against_ice</th> <th>against_normal</th> <th>against_poison</th> <th>against_psychic</th> <th>against_rock</th> <th>against_steel</th> <th>against_water</th> <th>attack</th> <th>base_egg_steps</th> <th>base_happiness</th> <th>classfication</th> <th>defense</th> <th>experience_growth</th> <th>height_m</th> <th>hp</th> <th>japanese_name</th> <th>percentage_male</th> <th>sp_attack</th> <th>sp_defense</th> <th>speed</th> <th>weight_kg</th>\n",
       "        </tr>\n",
       "    </thead>\n",
       "    <tbody>\n",
       "        <tr>\n",
       "            <td>Heracross</td> <td>214           </td> <td>bug    </td> <td>fighting</td> <td>['Swarm', 'Guts', 'Moxie']          </td> <td>2         </td> <td>0           </td> <td>600       </td> <td>45          </td> <td>0.5        </td> <td>0.5         </td> <td>1             </td> <td>1               </td> <td>2            </td> <td>0.5          </td> <td>2           </td> <td>4             </td> <td>1            </td> <td>0.5          </td> <td>0.5           </td> <td>1          </td> <td>1             </td> <td>1             </td> <td>2              </td> <td>1           </td> <td>1            </td> <td>1            </td> <td>185   </td> <td>6400          </td> <td>70            </td> <td>Singlehorn Pokémon                                 </td> <td>115    </td> <td>1250000          </td> <td>1.5     </td> <td>80  </td> <td>Heracrosヘラクロス                   </td> <td>50             </td> <td>40       </td> <td>105       </td> <td>75   </td> <td>54       </td>\n",
       "        </tr>\n",
       "    </tbody>\n",
       "        <tr>\n",
       "            <td>Kartana  </td> <td>798           </td> <td>grass  </td> <td>steel   </td> <td>['Beast Boost']                     </td> <td>7         </td> <td>1           </td> <td>570       </td> <td>255         </td> <td>1          </td> <td>1           </td> <td>0.5           </td> <td>0.5             </td> <td>0.5          </td> <td>2            </td> <td>4           </td> <td>1             </td> <td>1            </td> <td>0.25         </td> <td>1             </td> <td>1          </td> <td>0.5           </td> <td>0             </td> <td>0.5            </td> <td>0.5         </td> <td>0.5          </td> <td>0.5          </td> <td>181   </td> <td>30720         </td> <td>0             </td> <td>Drawn Sword Pokémon                                </td> <td>131    </td> <td>1250000          </td> <td>0.3     </td> <td>59  </td> <td>Kamiturugiカミツルギ                 </td> <td>nan            </td> <td>59       </td> <td>31        </td> <td>109  </td> <td>0.1      </td>\n",
       "        </tr>\n",
       "    </tbody>\n",
       "        <tr>\n",
       "            <td>Rayquaza </td> <td>384           </td> <td>dragon </td> <td>flying  </td> <td>['Air Lock']                        </td> <td>3         </td> <td>1           </td> <td>780       </td> <td>45          </td> <td>0.5        </td> <td>1           </td> <td>2             </td> <td>1               </td> <td>2            </td> <td>0.5          </td> <td>0.5         </td> <td>1             </td> <td>1            </td> <td>0.25         </td> <td>0             </td> <td>4          </td> <td>1             </td> <td>1             </td> <td>1              </td> <td>2           </td> <td>1            </td> <td>0.5          </td> <td>180   </td> <td>30720         </td> <td>0             </td> <td>Sky High Pokémon                                   </td> <td>100    </td> <td>1250000          </td> <td>7       </td> <td>105 </td> <td>Rayquazaレックウザ                   </td> <td>nan            </td> <td>180      </td> <td>100       </td> <td>115  </td> <td>206.5    </td>\n",
       "        </tr>\n",
       "    </tbody>\n",
       "        <tr>\n",
       "            <td>Groudon  </td> <td>383           </td> <td>ground </td> <td>nan     </td> <td>['Drought']                         </td> <td>3         </td> <td>1           </td> <td>770       </td> <td>3           </td> <td>1          </td> <td>1           </td> <td>1             </td> <td>0               </td> <td>1            </td> <td>1            </td> <td>1           </td> <td>1             </td> <td>1            </td> <td>2            </td> <td>1             </td> <td>2          </td> <td>1             </td> <td>0.5           </td> <td>1              </td> <td>0.5         </td> <td>1            </td> <td>2            </td> <td>180   </td> <td>30720         </td> <td>0             </td> <td>Continent Pokémon                                  </td> <td>160    </td> <td>1250000          </td> <td>3.5     </td> <td>100 </td> <td>Groudonグラードン                    </td> <td>nan            </td> <td>150      </td> <td>90        </td> <td>90   </td> <td>950      </td>\n",
       "        </tr>\n",
       "    </tbody>\n",
       "        <tr>\n",
       "            <td>Garchomp </td> <td>445           </td> <td>dragon </td> <td>ground  </td> <td>['Sand Veil', 'Rough Skin']         </td> <td>4         </td> <td>0           </td> <td>700       </td> <td>45          </td> <td>1          </td> <td>1           </td> <td>2             </td> <td>0               </td> <td>2            </td> <td>1            </td> <td>0.5         </td> <td>1             </td> <td>1            </td> <td>1            </td> <td>1             </td> <td>4          </td> <td>1             </td> <td>0.5           </td> <td>1              </td> <td>0.5         </td> <td>1            </td> <td>1            </td> <td>170   </td> <td>10240         </td> <td>70            </td> <td>Mach Pokémon                                       </td> <td>115    </td> <td>1250000          </td> <td>1.9     </td> <td>108 </td> <td>Gaburiasガブリアス                   </td> <td>50             </td> <td>120      </td> <td>95        </td> <td>92   </td> <td>95       </td>\n",
       "        </tr>\n",
       "    </tbody>\n",
       "        <tr>\n",
       "            <td>Gallade  </td> <td>475           </td> <td>psychic</td> <td>fighting</td> <td>['Steadfast', 'Justified']          </td> <td>4         </td> <td>0           </td> <td>618       </td> <td>45          </td> <td>1          </td> <td>1           </td> <td>1             </td> <td>1               </td> <td>2            </td> <td>0.5          </td> <td>1           </td> <td>2             </td> <td>2            </td> <td>1            </td> <td>1             </td> <td>1          </td> <td>1             </td> <td>1             </td> <td>1              </td> <td>0.5         </td> <td>1            </td> <td>1            </td> <td>165   </td> <td>5120          </td> <td>35            </td> <td>Blade Pokémon                                      </td> <td>95     </td> <td>1250000          </td> <td>1.6     </td> <td>68  </td> <td>Erureidoエルレイド                   </td> <td>100            </td> <td>65       </td> <td>115       </td> <td>110  </td> <td>52       </td>\n",
       "        </tr>\n",
       "    </tbody>\n",
       "        <tr>\n",
       "            <td>Rampardos</td> <td>409           </td> <td>rock   </td> <td>nan     </td> <td>['Mold Breaker', 'Sheer Force']     </td> <td>4         </td> <td>0           </td> <td>495       </td> <td>45          </td> <td>1          </td> <td>1           </td> <td>1             </td> <td>1               </td> <td>1            </td> <td>2            </td> <td>0.5         </td> <td>0.5           </td> <td>1            </td> <td>2            </td> <td>2             </td> <td>1          </td> <td>0.5           </td> <td>0.5           </td> <td>1              </td> <td>1           </td> <td>2            </td> <td>2            </td> <td>165   </td> <td>7680          </td> <td>70            </td> <td>Head Butt Pokémon                                  </td> <td>60     </td> <td>600000           </td> <td>1.6     </td> <td>97  </td> <td>Rampaldラムパルド                    </td> <td>88.1           </td> <td>65       </td> <td>50        </td> <td>58   </td> <td>102.5    </td>\n",
       "        </tr>\n",
       "    </tbody>\n",
       "        <tr>\n",
       "            <td>Banette  </td> <td>354           </td> <td>ghost  </td> <td>nan     </td> <td>['Insomnia', 'Frisk', 'Cursed Body']</td> <td>3         </td> <td>0           </td> <td>555       </td> <td>45          </td> <td>0.5        </td> <td>2           </td> <td>1             </td> <td>1               </td> <td>1            </td> <td>0            </td> <td>1           </td> <td>1             </td> <td>2            </td> <td>1            </td> <td>1             </td> <td>1          </td> <td>0             </td> <td>0.5           </td> <td>1              </td> <td>1           </td> <td>1            </td> <td>1            </td> <td>165   </td> <td>6400          </td> <td>35            </td> <td>Marionette Pokémon                                 </td> <td>75     </td> <td>800000           </td> <td>1.1     </td> <td>64  </td> <td>Juppetaジュペッタ                    </td> <td>50             </td> <td>93       </td> <td>83        </td> <td>75   </td> <td>12.5     </td>\n",
       "        </tr>\n",
       "    </tbody>\n",
       "        <tr>\n",
       "            <td>Tyranitar</td> <td>248           </td> <td>rock   </td> <td>dark    </td> <td>['Sand Stream', 'Unnerve']          </td> <td>2         </td> <td>0           </td> <td>700       </td> <td>45          </td> <td>2          </td> <td>0.5         </td> <td>1             </td> <td>1               </td> <td>2            </td> <td>4            </td> <td>0.5         </td> <td>0.5           </td> <td>0.5          </td> <td>2            </td> <td>2             </td> <td>1          </td> <td>0.5           </td> <td>0.5           </td> <td>0              </td> <td>1           </td> <td>2            </td> <td>2            </td> <td>164   </td> <td>10240         </td> <td>35            </td> <td>Armor Pokémon                                      </td> <td>150    </td> <td>1250000          </td> <td>2       </td> <td>100 </td> <td>Bangirasバンギラス                   </td> <td>50             </td> <td>95       </td> <td>120       </td> <td>71   </td> <td>202      </td>\n",
       "        </tr>\n",
       "    </tbody>\n",
       "        <tr>\n",
       "            <td>Hoopa    </td> <td>720           </td> <td>psychic</td> <td>ghost   </td> <td>['Magician']                        </td> <td>6         </td> <td>1           </td> <td>680       </td> <td>3           </td> <td>1          </td> <td>4           </td> <td>1             </td> <td>1               </td> <td>1            </td> <td>0            </td> <td>1           </td> <td>1             </td> <td>4            </td> <td>1            </td> <td>1             </td> <td>1          </td> <td>0             </td> <td>0.5           </td> <td>0.5            </td> <td>1           </td> <td>1            </td> <td>1            </td> <td>160   </td> <td>30720         </td> <td>100           </td> <td>Mischief Pokémon (Confined)Djinn Pokémonn (Unbound)</td> <td>60     </td> <td>1250000          </td> <td>nan     </td> <td>80  </td> <td>Hoopa (imashimerareshi Hoopa)フーパ</td> <td>nan            </td> <td>170      </td> <td>130       </td> <td>80   </td> <td>nan      </td>\n",
       "        </tr>\n",
       "    </tbody>\n",
       "</table>\n",
       "<p>... (791 rows omitted)</p"
      ],
      "text/plain": [
       "name      | pokedex_number | type1   | type2    | abilities                            | generation | is_legendary | base_total | capture_rate | against_bug | against_dark | against_dragon | against_electric | against_fairy | against_fight | against_fire | against_flying | against_ghost | against_grass | against_ground | against_ice | against_normal | against_poison | against_psychic | against_rock | against_steel | against_water | attack | base_egg_steps | base_happiness | classfication                                       | defense | experience_growth | height_m | hp   | japanese_name                    | percentage_male | sp_attack | sp_defense | speed | weight_kg\n",
       "Heracross | 214            | bug     | fighting | ['Swarm', 'Guts', 'Moxie']           | 2          | 0            | 600        | 45           | 0.5         | 0.5          | 1              | 1                | 2             | 0.5           | 2            | 4              | 1             | 0.5           | 0.5            | 1           | 1              | 1              | 2               | 1            | 1             | 1             | 185    | 6400           | 70             | Singlehorn Pokémon                                  | 115     | 1250000           | 1.5      | 80   | Heracrosヘラクロス                    | 50              | 40        | 105        | 75    | 54\n",
       "Kartana   | 798            | grass   | steel    | ['Beast Boost']                      | 7          | 1            | 570        | 255          | 1           | 1            | 0.5            | 0.5              | 0.5           | 2             | 4            | 1              | 1             | 0.25          | 1              | 1           | 0.5            | 0              | 0.5             | 0.5          | 0.5           | 0.5           | 181    | 30720          | 0              | Drawn Sword Pokémon                                 | 131     | 1250000           | 0.3      | 59   | Kamiturugiカミツルギ                  | nan             | 59        | 31         | 109   | 0.1\n",
       "Rayquaza  | 384            | dragon  | flying   | ['Air Lock']                         | 3          | 1            | 780        | 45           | 0.5         | 1            | 2              | 1                | 2             | 0.5           | 0.5          | 1              | 1             | 0.25          | 0              | 4           | 1              | 1              | 1               | 2            | 1             | 0.5           | 180    | 30720          | 0              | Sky High Pokémon                                    | 100     | 1250000           | 7        | 105  | Rayquazaレックウザ                    | nan             | 180       | 100        | 115   | 206.5\n",
       "Groudon   | 383            | ground  | nan      | ['Drought']                          | 3          | 1            | 770        | 3            | 1           | 1            | 1              | 0                | 1             | 1             | 1            | 1              | 1             | 2             | 1              | 2           | 1              | 0.5            | 1               | 0.5          | 1             | 2             | 180    | 30720          | 0              | Continent Pokémon                                   | 160     | 1250000           | 3.5      | 100  | Groudonグラードン                     | nan             | 150       | 90         | 90    | 950\n",
       "Garchomp  | 445            | dragon  | ground   | ['Sand Veil', 'Rough Skin']          | 4          | 0            | 700        | 45           | 1           | 1            | 2              | 0                | 2             | 1             | 0.5          | 1              | 1             | 1             | 1              | 4           | 1              | 0.5            | 1               | 0.5          | 1             | 1             | 170    | 10240          | 70             | Mach Pokémon                                        | 115     | 1250000           | 1.9      | 108  | Gaburiasガブリアス                    | 50              | 120       | 95         | 92    | 95\n",
       "Gallade   | 475            | psychic | fighting | ['Steadfast', 'Justified']           | 4          | 0            | 618        | 45           | 1           | 1            | 1              | 1                | 2             | 0.5           | 1            | 2              | 2             | 1             | 1              | 1           | 1              | 1              | 1               | 0.5          | 1             | 1             | 165    | 5120           | 35             | Blade Pokémon                                       | 95      | 1250000           | 1.6      | 68   | Erureidoエルレイド                    | 100             | 65        | 115        | 110   | 52\n",
       "Rampardos | 409            | rock    | nan      | ['Mold Breaker', 'Sheer Force']      | 4          | 0            | 495        | 45           | 1           | 1            | 1              | 1                | 1             | 2             | 0.5          | 0.5            | 1             | 2             | 2              | 1           | 0.5            | 0.5            | 1               | 1            | 2             | 2             | 165    | 7680           | 70             | Head Butt Pokémon                                   | 60      | 600000            | 1.6      | 97   | Rampaldラムパルド                     | 88.1            | 65        | 50         | 58    | 102.5\n",
       "Banette   | 354            | ghost   | nan      | ['Insomnia', 'Frisk', 'Cursed Body'] | 3          | 0            | 555        | 45           | 0.5         | 2            | 1              | 1                | 1             | 0             | 1            | 1              | 2             | 1             | 1              | 1           | 0              | 0.5            | 1               | 1            | 1             | 1             | 165    | 6400           | 35             | Marionette Pokémon                                  | 75      | 800000            | 1.1      | 64   | Juppetaジュペッタ                     | 50              | 93        | 83         | 75    | 12.5\n",
       "Tyranitar | 248            | rock    | dark     | ['Sand Stream', 'Unnerve']           | 2          | 0            | 700        | 45           | 2           | 0.5          | 1              | 1                | 2             | 4             | 0.5          | 0.5            | 0.5           | 2             | 2              | 1           | 0.5            | 0.5            | 0               | 1            | 2             | 2             | 164    | 10240          | 35             | Armor Pokémon                                       | 150     | 1250000           | 2        | 100  | Bangirasバンギラス                    | 50              | 95        | 120        | 71    | 202\n",
       "Hoopa     | 720            | psychic | ghost    | ['Magician']                         | 6          | 1            | 680        | 3            | 1           | 4            | 1              | 1                | 1             | 0             | 1            | 1              | 4             | 1             | 1              | 1           | 0              | 0.5            | 0.5             | 1            | 1             | 1             | 160    | 30720          | 100            | Mischief Pokémon (Confined)Djinn Pokémonn (Unbound) | 60      | 1250000           | nan      | 80   | Hoopa (imashimerareshi Hoopa)フーパ | nan             | 170       | 130        | 80    | nan\n",
       "... (791 rows omitted)"
      ]
     },
     "execution_count": 20,
     "metadata": {},
     "output_type": "execute_result"
    }
   ],
   "source": [
    "pokemon_table.sort('attack', descending=True)"
   ]
  },
  {
   "cell_type": "markdown",
   "metadata": {},
   "source": [
    "But this table above is hard to look at! Let's only keep their name and attack."
   ]
  },
  {
   "cell_type": "code",
   "execution_count": 21,
   "metadata": {},
   "outputs": [
    {
     "data": {
      "text/html": [
       "<table border=\"1\" class=\"dataframe\">\n",
       "    <thead>\n",
       "        <tr>\n",
       "            <th>name</th> <th>attack</th>\n",
       "        </tr>\n",
       "    </thead>\n",
       "    <tbody>\n",
       "        <tr>\n",
       "            <td>Heracross</td> <td>185   </td>\n",
       "        </tr>\n",
       "    </tbody>\n",
       "        <tr>\n",
       "            <td>Kartana  </td> <td>181   </td>\n",
       "        </tr>\n",
       "    </tbody>\n",
       "        <tr>\n",
       "            <td>Rayquaza </td> <td>180   </td>\n",
       "        </tr>\n",
       "    </tbody>\n",
       "        <tr>\n",
       "            <td>Groudon  </td> <td>180   </td>\n",
       "        </tr>\n",
       "    </tbody>\n",
       "        <tr>\n",
       "            <td>Garchomp </td> <td>170   </td>\n",
       "        </tr>\n",
       "    </tbody>\n",
       "        <tr>\n",
       "            <td>Gallade  </td> <td>165   </td>\n",
       "        </tr>\n",
       "    </tbody>\n",
       "        <tr>\n",
       "            <td>Rampardos</td> <td>165   </td>\n",
       "        </tr>\n",
       "    </tbody>\n",
       "        <tr>\n",
       "            <td>Banette  </td> <td>165   </td>\n",
       "        </tr>\n",
       "    </tbody>\n",
       "        <tr>\n",
       "            <td>Tyranitar</td> <td>164   </td>\n",
       "        </tr>\n",
       "    </tbody>\n",
       "        <tr>\n",
       "            <td>Hoopa    </td> <td>160   </td>\n",
       "        </tr>\n",
       "    </tbody>\n",
       "</table>\n",
       "<p>... (791 rows omitted)</p"
      ],
      "text/plain": [
       "name      | attack\n",
       "Heracross | 185\n",
       "Kartana   | 181\n",
       "Rayquaza  | 180\n",
       "Groudon   | 180\n",
       "Garchomp  | 170\n",
       "Gallade   | 165\n",
       "Rampardos | 165\n",
       "Banette   | 165\n",
       "Tyranitar | 164\n",
       "Hoopa     | 160\n",
       "... (791 rows omitted)"
      ]
     },
     "execution_count": 21,
     "metadata": {},
     "output_type": "execute_result"
    }
   ],
   "source": [
    "pokemon_table.sort('attack', descending=True).select(['name','attack'])"
   ]
  },
  {
   "cell_type": "markdown",
   "metadata": {},
   "source": [
    "The argument we passed into the select function is called an array and is a collection of variables!"
   ]
  }
 ],
 "metadata": {
  "kernelspec": {
   "display_name": "Python 3",
   "language": "python",
   "name": "python3"
  },
  "language_info": {
   "codemirror_mode": {
    "name": "ipython",
    "version": 3
   },
   "file_extension": ".py",
   "mimetype": "text/x-python",
   "name": "python",
   "nbconvert_exporter": "python",
   "pygments_lexer": "ipython3",
   "version": "3.6.7"
  }
 },
 "nbformat": 4,
 "nbformat_minor": 2
}
