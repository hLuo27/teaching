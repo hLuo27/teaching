{
 "cells": [
  {
   "cell_type": "markdown",
   "metadata": {},
   "source": [
    "# Data 8: Lab: MT Review"
   ]
  },
  {
   "cell_type": "code",
   "execution_count": 1,
   "metadata": {},
   "outputs": [],
   "source": [
    "import numpy as np\n",
    "from datascience import *\n",
    "import matplotlib\n",
    "matplotlib.use('Agg', warn=False)\n",
    "%matplotlib inline\n",
    "import matplotlib.pyplot as plots\n",
    "plots.style.use('fivethirtyeight')"
   ]
  },
  {
   "cell_type": "code",
   "execution_count": 2,
   "metadata": {},
   "outputs": [
    {
     "data": {
      "text/plain": [
       "array([6, 6, 6, 4, 1, 6, 4, 5, 5, 2])"
      ]
     },
     "execution_count": 2,
     "metadata": {},
     "output_type": "execute_result"
    }
   ],
   "source": [
    "rolls = np.random.choice(np.arange(1,7,1),10)\n",
    "rolls"
   ]
  },
  {
   "cell_type": "code",
   "execution_count": 3,
   "metadata": {},
   "outputs": [
    {
     "data": {
      "text/plain": [
       "False"
      ]
     },
     "execution_count": 3,
     "metadata": {},
     "output_type": "execute_result"
    }
   ],
   "source": [
    "np.count_nonzero(rolls > 4) == 0 "
   ]
  },
  {
   "cell_type": "code",
   "execution_count": 4,
   "metadata": {},
   "outputs": [],
   "source": [
    "def if_prime(n):\n",
    "    if n==1:\n",
    "        return False\n",
    "    for i in np.arange(2,n):\n",
    "        if n % i == 0:\n",
    "            return False\n",
    "    return True"
   ]
  },
  {
   "cell_type": "code",
   "execution_count": 5,
   "metadata": {},
   "outputs": [
    {
     "data": {
      "text/plain": [
       "<function RandomState.choice>"
      ]
     },
     "execution_count": 5,
     "metadata": {},
     "output_type": "execute_result"
    }
   ],
   "source": [
    "np.random.choice"
   ]
  },
  {
   "cell_type": "code",
   "execution_count": 6,
   "metadata": {},
   "outputs": [],
   "source": [
    "def if_prime(n):\n",
    "    for i in np.arange(2,n):\n",
    "        if n % i == 0:\n",
    "            return False\n",
    "    return True"
   ]
  },
  {
   "cell_type": "code",
   "execution_count": 7,
   "metadata": {},
   "outputs": [
    {
     "data": {
      "text/plain": [
       "True"
      ]
     },
     "execution_count": 7,
     "metadata": {},
     "output_type": "execute_result"
    }
   ],
   "source": [
    "if_prime(7)"
   ]
  },
  {
   "cell_type": "code",
   "execution_count": 8,
   "metadata": {},
   "outputs": [
    {
     "data": {
      "text/html": [
       "<table border=\"1\" class=\"dataframe\">\n",
       "    <thead>\n",
       "        <tr>\n",
       "            <th>name</th> <th>pokedex_number</th> <th>type1</th> <th>type2</th> <th>abilities</th> <th>generation</th> <th>is_legendary</th> <th>base_total</th> <th>capture_rate</th> <th>against_bug</th> <th>against_dark</th> <th>against_dragon</th> <th>against_electric</th> <th>against_fairy</th> <th>against_fight</th> <th>against_fire</th> <th>against_flying</th> <th>against_ghost</th> <th>against_grass</th> <th>against_ground</th> <th>against_ice</th> <th>against_normal</th> <th>against_poison</th> <th>against_psychic</th> <th>against_rock</th> <th>against_steel</th> <th>against_water</th> <th>attack</th> <th>base_egg_steps</th> <th>base_happiness</th> <th>classfication</th> <th>defense</th> <th>experience_growth</th> <th>height_m</th> <th>hp</th> <th>japanese_name</th> <th>percentage_male</th> <th>sp_attack</th> <th>sp_defense</th> <th>speed</th> <th>weight_kg</th>\n",
       "        </tr>\n",
       "    </thead>\n",
       "    <tbody>\n",
       "        <tr>\n",
       "            <td>Bulbasaur </td> <td>1             </td> <td>grass</td> <td>poison</td> <td>['Overgrow', 'Chlorophyll']</td> <td>1         </td> <td>0           </td> <td>318       </td> <td>45          </td> <td>1          </td> <td>1           </td> <td>1             </td> <td>0.5             </td> <td>0.5          </td> <td>0.5          </td> <td>2           </td> <td>2             </td> <td>1            </td> <td>0.25         </td> <td>1             </td> <td>2          </td> <td>1             </td> <td>1             </td> <td>2              </td> <td>1           </td> <td>1            </td> <td>0.5          </td> <td>49    </td> <td>5120          </td> <td>70            </td> <td>Seed Pokémon       </td> <td>49     </td> <td>1059860          </td> <td>0.7     </td> <td>45  </td> <td>Fushigidaneフシギダネ</td> <td>88.1           </td> <td>65       </td> <td>65        </td> <td>45   </td> <td>6.9      </td>\n",
       "        </tr>\n",
       "        <tr>\n",
       "            <td>Ivysaur   </td> <td>2             </td> <td>grass</td> <td>poison</td> <td>['Overgrow', 'Chlorophyll']</td> <td>1         </td> <td>0           </td> <td>405       </td> <td>45          </td> <td>1          </td> <td>1           </td> <td>1             </td> <td>0.5             </td> <td>0.5          </td> <td>0.5          </td> <td>2           </td> <td>2             </td> <td>1            </td> <td>0.25         </td> <td>1             </td> <td>2          </td> <td>1             </td> <td>1             </td> <td>2              </td> <td>1           </td> <td>1            </td> <td>0.5          </td> <td>62    </td> <td>5120          </td> <td>70            </td> <td>Seed Pokémon       </td> <td>63     </td> <td>1059860          </td> <td>1       </td> <td>60  </td> <td>Fushigisouフシギソウ </td> <td>88.1           </td> <td>80       </td> <td>80        </td> <td>60   </td> <td>13       </td>\n",
       "        </tr>\n",
       "        <tr>\n",
       "            <td>Venusaur  </td> <td>3             </td> <td>grass</td> <td>poison</td> <td>['Overgrow', 'Chlorophyll']</td> <td>1         </td> <td>0           </td> <td>625       </td> <td>45          </td> <td>1          </td> <td>1           </td> <td>1             </td> <td>0.5             </td> <td>0.5          </td> <td>0.5          </td> <td>2           </td> <td>2             </td> <td>1            </td> <td>0.25         </td> <td>1             </td> <td>2          </td> <td>1             </td> <td>1             </td> <td>2              </td> <td>1           </td> <td>1            </td> <td>0.5          </td> <td>100   </td> <td>5120          </td> <td>70            </td> <td>Seed Pokémon       </td> <td>123    </td> <td>1059860          </td> <td>2       </td> <td>80  </td> <td>Fushigibanaフシギバナ</td> <td>88.1           </td> <td>122      </td> <td>120       </td> <td>80   </td> <td>100      </td>\n",
       "        </tr>\n",
       "        <tr>\n",
       "            <td>Charmander</td> <td>4             </td> <td>fire </td> <td>nan   </td> <td>['Blaze', 'Solar Power']   </td> <td>1         </td> <td>0           </td> <td>309       </td> <td>45          </td> <td>0.5        </td> <td>1           </td> <td>1             </td> <td>1               </td> <td>0.5          </td> <td>1            </td> <td>0.5         </td> <td>1             </td> <td>1            </td> <td>0.5          </td> <td>2             </td> <td>0.5        </td> <td>1             </td> <td>1             </td> <td>1              </td> <td>2           </td> <td>0.5          </td> <td>2            </td> <td>52    </td> <td>5120          </td> <td>70            </td> <td>Lizard Pokémon     </td> <td>43     </td> <td>1059860          </td> <td>0.6     </td> <td>39  </td> <td>Hitokageヒトカゲ    </td> <td>88.1           </td> <td>60       </td> <td>50        </td> <td>65   </td> <td>8.5      </td>\n",
       "        </tr>\n",
       "        <tr>\n",
       "            <td>Charmeleon</td> <td>5             </td> <td>fire </td> <td>nan   </td> <td>['Blaze', 'Solar Power']   </td> <td>1         </td> <td>0           </td> <td>405       </td> <td>45          </td> <td>0.5        </td> <td>1           </td> <td>1             </td> <td>1               </td> <td>0.5          </td> <td>1            </td> <td>0.5         </td> <td>1             </td> <td>1            </td> <td>0.5          </td> <td>2             </td> <td>0.5        </td> <td>1             </td> <td>1             </td> <td>1              </td> <td>2           </td> <td>0.5          </td> <td>2            </td> <td>64    </td> <td>5120          </td> <td>70            </td> <td>Flame Pokémon      </td> <td>58     </td> <td>1059860          </td> <td>1.1     </td> <td>58  </td> <td>Lizardoリザード     </td> <td>88.1           </td> <td>80       </td> <td>65        </td> <td>80   </td> <td>19       </td>\n",
       "        </tr>\n",
       "        <tr>\n",
       "            <td>Charizard </td> <td>6             </td> <td>fire </td> <td>flying</td> <td>['Blaze', 'Solar Power']   </td> <td>1         </td> <td>0           </td> <td>634       </td> <td>45          </td> <td>0.25       </td> <td>1           </td> <td>1             </td> <td>2               </td> <td>0.5          </td> <td>0.5          </td> <td>0.5         </td> <td>1             </td> <td>1            </td> <td>0.25         </td> <td>0             </td> <td>1          </td> <td>1             </td> <td>1             </td> <td>1              </td> <td>4           </td> <td>0.5          </td> <td>2            </td> <td>104   </td> <td>5120          </td> <td>70            </td> <td>Flame Pokémon      </td> <td>78     </td> <td>1059860          </td> <td>1.7     </td> <td>78  </td> <td>Lizardonリザードン   </td> <td>88.1           </td> <td>159      </td> <td>115       </td> <td>100  </td> <td>90.5     </td>\n",
       "        </tr>\n",
       "        <tr>\n",
       "            <td>Squirtle  </td> <td>7             </td> <td>water</td> <td>nan   </td> <td>['Torrent', 'Rain Dish']   </td> <td>1         </td> <td>0           </td> <td>314       </td> <td>45          </td> <td>1          </td> <td>1           </td> <td>1             </td> <td>2               </td> <td>1            </td> <td>1            </td> <td>0.5         </td> <td>1             </td> <td>1            </td> <td>2            </td> <td>1             </td> <td>0.5        </td> <td>1             </td> <td>1             </td> <td>1              </td> <td>1           </td> <td>0.5          </td> <td>0.5          </td> <td>48    </td> <td>5120          </td> <td>70            </td> <td>Tiny Turtle Pokémon</td> <td>65     </td> <td>1059860          </td> <td>0.5     </td> <td>44  </td> <td>Zenigameゼニガメ    </td> <td>88.1           </td> <td>50       </td> <td>64        </td> <td>43   </td> <td>9        </td>\n",
       "        </tr>\n",
       "        <tr>\n",
       "            <td>Wartortle </td> <td>8             </td> <td>water</td> <td>nan   </td> <td>['Torrent', 'Rain Dish']   </td> <td>1         </td> <td>0           </td> <td>405       </td> <td>45          </td> <td>1          </td> <td>1           </td> <td>1             </td> <td>2               </td> <td>1            </td> <td>1            </td> <td>0.5         </td> <td>1             </td> <td>1            </td> <td>2            </td> <td>1             </td> <td>0.5        </td> <td>1             </td> <td>1             </td> <td>1              </td> <td>1           </td> <td>0.5          </td> <td>0.5          </td> <td>63    </td> <td>5120          </td> <td>70            </td> <td>Turtle Pokémon     </td> <td>80     </td> <td>1059860          </td> <td>1       </td> <td>59  </td> <td>Kameilカメール      </td> <td>88.1           </td> <td>65       </td> <td>80        </td> <td>58   </td> <td>22.5     </td>\n",
       "        </tr>\n",
       "        <tr>\n",
       "            <td>Blastoise </td> <td>9             </td> <td>water</td> <td>nan   </td> <td>['Torrent', 'Rain Dish']   </td> <td>1         </td> <td>0           </td> <td>630       </td> <td>45          </td> <td>1          </td> <td>1           </td> <td>1             </td> <td>2               </td> <td>1            </td> <td>1            </td> <td>0.5         </td> <td>1             </td> <td>1            </td> <td>2            </td> <td>1             </td> <td>0.5        </td> <td>1             </td> <td>1             </td> <td>1              </td> <td>1           </td> <td>0.5          </td> <td>0.5          </td> <td>103   </td> <td>5120          </td> <td>70            </td> <td>Shellfish Pokémon  </td> <td>120    </td> <td>1059860          </td> <td>1.6     </td> <td>79  </td> <td>Kamexカメックス      </td> <td>88.1           </td> <td>135      </td> <td>115       </td> <td>78   </td> <td>85.5     </td>\n",
       "        </tr>\n",
       "        <tr>\n",
       "            <td>Caterpie  </td> <td>10            </td> <td>bug  </td> <td>nan   </td> <td>['Shield Dust', 'Run Away']</td> <td>1         </td> <td>0           </td> <td>195       </td> <td>255         </td> <td>1          </td> <td>1           </td> <td>1             </td> <td>1               </td> <td>1            </td> <td>0.5          </td> <td>2           </td> <td>2             </td> <td>1            </td> <td>0.5          </td> <td>0.5           </td> <td>1          </td> <td>1             </td> <td>1             </td> <td>1              </td> <td>2           </td> <td>1            </td> <td>1            </td> <td>30    </td> <td>3840          </td> <td>70            </td> <td>Worm Pokémon       </td> <td>35     </td> <td>1000000          </td> <td>0.3     </td> <td>45  </td> <td>Caterpieキャタピー   </td> <td>50             </td> <td>20       </td> <td>20        </td> <td>45   </td> <td>2.9      </td>\n",
       "        </tr>\n",
       "    </tbody>\n",
       "</table>\n",
       "<p>... (791 rows omitted)</p>"
      ],
      "text/plain": [
       "name       | pokedex_number | type1 | type2  | abilities                   | generation | is_legendary | base_total | capture_rate | against_bug | against_dark | against_dragon | against_electric | against_fairy | against_fight | against_fire | against_flying | against_ghost | against_grass | against_ground | against_ice | against_normal | against_poison | against_psychic | against_rock | against_steel | against_water | attack | base_egg_steps | base_happiness | classfication       | defense | experience_growth | height_m | hp   | japanese_name    | percentage_male | sp_attack | sp_defense | speed | weight_kg\n",
       "Bulbasaur  | 1              | grass | poison | ['Overgrow', 'Chlorophyll'] | 1          | 0            | 318        | 45           | 1           | 1            | 1              | 0.5              | 0.5           | 0.5           | 2            | 2              | 1             | 0.25          | 1              | 2           | 1              | 1              | 2               | 1            | 1             | 0.5           | 49     | 5120           | 70             | Seed Pokémon        | 49      | 1059860           | 0.7      | 45   | Fushigidaneフシギダネ | 88.1            | 65        | 65         | 45    | 6.9\n",
       "Ivysaur    | 2              | grass | poison | ['Overgrow', 'Chlorophyll'] | 1          | 0            | 405        | 45           | 1           | 1            | 1              | 0.5              | 0.5           | 0.5           | 2            | 2              | 1             | 0.25          | 1              | 2           | 1              | 1              | 2               | 1            | 1             | 0.5           | 62     | 5120           | 70             | Seed Pokémon        | 63      | 1059860           | 1        | 60   | Fushigisouフシギソウ  | 88.1            | 80        | 80         | 60    | 13\n",
       "Venusaur   | 3              | grass | poison | ['Overgrow', 'Chlorophyll'] | 1          | 0            | 625        | 45           | 1           | 1            | 1              | 0.5              | 0.5           | 0.5           | 2            | 2              | 1             | 0.25          | 1              | 2           | 1              | 1              | 2               | 1            | 1             | 0.5           | 100    | 5120           | 70             | Seed Pokémon        | 123     | 1059860           | 2        | 80   | Fushigibanaフシギバナ | 88.1            | 122       | 120        | 80    | 100\n",
       "Charmander | 4              | fire  | nan    | ['Blaze', 'Solar Power']    | 1          | 0            | 309        | 45           | 0.5         | 1            | 1              | 1                | 0.5           | 1             | 0.5          | 1              | 1             | 0.5           | 2              | 0.5         | 1              | 1              | 1               | 2            | 0.5           | 2             | 52     | 5120           | 70             | Lizard Pokémon      | 43      | 1059860           | 0.6      | 39   | Hitokageヒトカゲ     | 88.1            | 60        | 50         | 65    | 8.5\n",
       "Charmeleon | 5              | fire  | nan    | ['Blaze', 'Solar Power']    | 1          | 0            | 405        | 45           | 0.5         | 1            | 1              | 1                | 0.5           | 1             | 0.5          | 1              | 1             | 0.5           | 2              | 0.5         | 1              | 1              | 1               | 2            | 0.5           | 2             | 64     | 5120           | 70             | Flame Pokémon       | 58      | 1059860           | 1.1      | 58   | Lizardoリザード      | 88.1            | 80        | 65         | 80    | 19\n",
       "Charizard  | 6              | fire  | flying | ['Blaze', 'Solar Power']    | 1          | 0            | 634        | 45           | 0.25        | 1            | 1              | 2                | 0.5           | 0.5           | 0.5          | 1              | 1             | 0.25          | 0              | 1           | 1              | 1              | 1               | 4            | 0.5           | 2             | 104    | 5120           | 70             | Flame Pokémon       | 78      | 1059860           | 1.7      | 78   | Lizardonリザードン    | 88.1            | 159       | 115        | 100   | 90.5\n",
       "Squirtle   | 7              | water | nan    | ['Torrent', 'Rain Dish']    | 1          | 0            | 314        | 45           | 1           | 1            | 1              | 2                | 1             | 1             | 0.5          | 1              | 1             | 2             | 1              | 0.5         | 1              | 1              | 1               | 1            | 0.5           | 0.5           | 48     | 5120           | 70             | Tiny Turtle Pokémon | 65      | 1059860           | 0.5      | 44   | Zenigameゼニガメ     | 88.1            | 50        | 64         | 43    | 9\n",
       "Wartortle  | 8              | water | nan    | ['Torrent', 'Rain Dish']    | 1          | 0            | 405        | 45           | 1           | 1            | 1              | 2                | 1             | 1             | 0.5          | 1              | 1             | 2             | 1              | 0.5         | 1              | 1              | 1               | 1            | 0.5           | 0.5           | 63     | 5120           | 70             | Turtle Pokémon      | 80      | 1059860           | 1        | 59   | Kameilカメール       | 88.1            | 65        | 80         | 58    | 22.5\n",
       "Blastoise  | 9              | water | nan    | ['Torrent', 'Rain Dish']    | 1          | 0            | 630        | 45           | 1           | 1            | 1              | 2                | 1             | 1             | 0.5          | 1              | 1             | 2             | 1              | 0.5         | 1              | 1              | 1               | 1            | 0.5           | 0.5           | 103    | 5120           | 70             | Shellfish Pokémon   | 120     | 1059860           | 1.6      | 79   | Kamexカメックス       | 88.1            | 135       | 115        | 78    | 85.5\n",
       "Caterpie   | 10             | bug   | nan    | ['Shield Dust', 'Run Away'] | 1          | 0            | 195        | 255          | 1           | 1            | 1              | 1                | 1             | 0.5           | 2            | 2              | 1             | 0.5           | 0.5            | 1           | 1              | 1              | 1               | 2            | 1             | 1             | 30     | 3840           | 70             | Worm Pokémon        | 35      | 1000000           | 0.3      | 45   | Caterpieキャタピー    | 50              | 20        | 20         | 45    | 2.9\n",
       "... (791 rows omitted)"
      ]
     },
     "execution_count": 8,
     "metadata": {},
     "output_type": "execute_result"
    }
   ],
   "source": [
    "base_dir = \"../\" # Set file path to import data\n",
    "pokemon_table = Table.read_table(base_dir+'data/pokemon.csv')\n",
    "pokemon_table"
   ]
  },
  {
   "cell_type": "code",
   "execution_count": 9,
   "metadata": {},
   "outputs": [
    {
     "data": {
      "text/html": [
       "<table border=\"1\" class=\"dataframe\">\n",
       "    <thead>\n",
       "        <tr>\n",
       "            <th>generation</th> <th>name mean</th> <th>pokedex_number mean</th> <th>type1 mean</th> <th>type2 mean</th> <th>abilities mean</th> <th>is_legendary mean</th> <th>base_total mean</th> <th>capture_rate mean</th> <th>against_bug mean</th> <th>against_dark mean</th> <th>against_dragon mean</th> <th>against_electric mean</th> <th>against_fairy mean</th> <th>against_fight mean</th> <th>against_fire mean</th> <th>against_flying mean</th> <th>against_ghost mean</th> <th>against_grass mean</th> <th>against_ground mean</th> <th>against_ice mean</th> <th>against_normal mean</th> <th>against_poison mean</th> <th>against_psychic mean</th> <th>against_rock mean</th> <th>against_steel mean</th> <th>against_water mean</th> <th>attack mean</th> <th>base_egg_steps mean</th> <th>base_happiness mean</th> <th>classfication mean</th> <th>defense mean</th> <th>experience_growth mean</th> <th>height_m mean</th> <th>hp mean</th> <th>japanese_name mean</th> <th>percentage_male mean</th> <th>sp_attack mean</th> <th>sp_defense mean</th> <th>speed mean</th> <th>weight_kg mean</th>\n",
       "        </tr>\n",
       "    </thead>\n",
       "    <tbody>\n",
       "        <tr>\n",
       "            <td>1         </td> <td>         </td> <td>76                 </td> <td>          </td> <td>          </td> <td>              </td> <td>0.0331126        </td> <td>416.252        </td> <td>                 </td> <td>0.905629        </td> <td>1.06623          </td> <td>0.980132           </td> <td>1.15894              </td> <td>0.917219          </td> <td>0.953642          </td> <td>1.03642          </td> <td>1.16887            </td> <td>0.966887          </td> <td>1.14735           </td> <td>1.16887            </td> <td>1.1606          </td> <td>0.937086           </td> <td>0.899007           </td> <td>1.21854             </td> <td>1.27152          </td> <td>0.937086          </td> <td>1.10927           </td> <td>74.5298    </td> <td>5933.77            </td> <td>69.7351            </td> <td>                  </td> <td>70.0795     </td> <td>1.05228e+06           </td> <td>nan          </td> <td>64.3444</td> <td>                  </td> <td>nan                 </td> <td>69.404        </td> <td>67.7417        </td> <td>70.1523   </td> <td>nan           </td>\n",
       "        </tr>\n",
       "        <tr>\n",
       "            <td>2         </td> <td>         </td> <td>201.5              </td> <td>          </td> <td>          </td> <td>              </td> <td>0.06             </td> <td>413.18         </td> <td>                 </td> <td>0.99            </td> <td>1.025            </td> <td>0.91               </td> <td>1.125                </td> <td>1                 </td> <td>1.095             </td> <td>1.1325           </td> <td>1.13               </td> <td>0.92              </td> <td>1.1075            </td> <td>1.025              </td> <td>1.205           </td> <td>0.935              </td> <td>1.04               </td> <td>0.94                </td> <td>1.3725           </td> <td>0.985             </td> <td>1.1425            </td> <td>69.96      </td> <td>6528               </td> <td>66.1               </td> <td>                  </td> <td>71.79       </td> <td>1.02587e+06           </td> <td>1.163        </td> <td>70.98  </td> <td>                  </td> <td>nan                 </td> <td>65.4          </td> <td>73.44          </td> <td>61.61     </td> <td>49.105        </td>\n",
       "        </tr>\n",
       "        <tr>\n",
       "            <td>3         </td> <td>         </td> <td>319                </td> <td>          </td> <td>          </td> <td>              </td> <td>0.0740741        </td> <td>420.022        </td> <td>                 </td> <td>1.14259         </td> <td>1.08889          </td> <td>1                  </td> <td>1.05556              </td> <td>1.11111           </td> <td>1.13889           </td> <td>1.08704          </td> <td>1.18704            </td> <td>1.01852           </td> <td>1.11296           </td> <td>1.07778            </td> <td>1.20556         </td> <td>0.883333           </td> <td>0.955556           </td> <td>0.907407            </td> <td>1.17778          </td> <td>0.966667          </td> <td>1.01667           </td> <td>77.1852    </td> <td>7054.22            </td> <td>61.963             </td> <td>                  </td> <td>72.637      </td> <td>1.05886e+06           </td> <td>1.22963      </td> <td>65.6667</td> <td>                  </td> <td>nan                 </td> <td>71.563        </td> <td>69.3926        </td> <td>63.5778   </td> <td>67.0778       </td>\n",
       "        </tr>\n",
       "        <tr>\n",
       "            <td>4         </td> <td>         </td> <td>440                </td> <td>          </td> <td>          </td> <td>              </td> <td>0.121495         </td> <td>451.178        </td> <td>                 </td> <td>0.997664        </td> <td>1.07009          </td> <td>0.985981           </td> <td>1.04673              </td> <td>1.03972           </td> <td>1.16589           </td> <td>1.21729          </td> <td>1.18224            </td> <td>0.962617          </td> <td>0.971963          </td> <td>1.16121            </td> <td>1.26636         </td> <td>0.852804           </td> <td>0.904206           </td> <td>0.971963            </td> <td>1.20794          </td> <td>0.964953          </td> <td>1.03505           </td> <td>82.6729    </td> <td>7895.33            </td> <td>68.0374            </td> <td>                  </td> <td>76.1682     </td> <td>1.05566e+06           </td> <td>1.13364      </td> <td>73.1028</td> <td>                  </td> <td>nan                 </td> <td>74.6355       </td> <td>74.5234        </td> <td>70.0748   </td> <td>76.885        </td>\n",
       "        </tr>\n",
       "        <tr>\n",
       "            <td>5         </td> <td>         </td> <td>571.5              </td> <td>          </td> <td>          </td> <td>              </td> <td>0.0833333        </td> <td>427.038        </td> <td>                 </td> <td>1.03205         </td> <td>1.05128          </td> <td>1.01282            </td> <td>1.01442              </td> <td>1.16667           </td> <td>1.12179           </td> <td>1.23878          </td> <td>1.22436            </td> <td>0.987179          </td> <td>0.948718          </td> <td>1.04327            </td> <td>1.19231         </td> <td>0.871795           </td> <td>0.945513           </td> <td>0.942308            </td> <td>1.24679          </td> <td>0.939103          </td> <td>1.0641            </td> <td>80.5577    </td> <td>7228.72            </td> <td>65.609             </td> <td>                  </td> <td>71.9615     </td> <td>1.06156e+06           </td> <td>1.03205      </td> <td>70.3141</td> <td>                  </td> <td>nan                 </td> <td>69.9744       </td> <td>67.7115        </td> <td>66.5192   </td> <td>52.4026       </td>\n",
       "        </tr>\n",
       "        <tr>\n",
       "            <td>6         </td> <td>         </td> <td>685.5              </td> <td>          </td> <td>          </td> <td>              </td> <td>0.0833333        </td> <td>437.611        </td> <td>                 </td> <td>0.940972        </td> <td>1.04514          </td> <td>0.923611           </td> <td>1.05556              </td> <td>1.15972           </td> <td>1.01736           </td> <td>1.04514          </td> <td>1.13194            </td> <td>1.04861           </td> <td>0.979167          </td> <td>1.13194            </td> <td>1.24653         </td> <td>0.826389           </td> <td>1.07639            </td> <td>0.944444            </td> <td>1.28472          </td> <td>1.21181           </td> <td>1.02083           </td> <td>76.5278    </td> <td>7200               </td> <td>66.4583            </td> <td>                  </td> <td>73.5556     </td> <td>1.05053e+06           </td> <td>nan          </td> <td>71.1111</td> <td>                  </td> <td>nan                 </td> <td>76.5694       </td> <td>73.1944        </td> <td>66.6528   </td> <td>nan           </td>\n",
       "        </tr>\n",
       "        <tr>\n",
       "            <td>7         </td> <td>         </td> <td>761.5              </td> <td>          </td> <td>          </td> <td>              </td> <td>0.2125           </td> <td>448.163        </td> <td>                 </td> <td>0.90625         </td> <td>1.03125          </td> <td>0.9                </td> <td>1.05                 </td> <td>1.1375            </td> <td>0.915625          </td> <td>1.17813          </td> <td>1.33438            </td> <td>1.0125            </td> <td>0.89375           </td> <td>1.08125            </td> <td>1.225           </td> <td>0.86875            </td> <td>1.13437            </td> <td>1.07187             </td> <td>1.2125           </td> <td>1.00313           </td> <td>0.98125           </td> <td>84.6375    </td> <td>9600               </td> <td>56.875             </td> <td>                  </td> <td>78.0125     </td> <td>1.08035e+06           </td> <td>nan          </td> <td>70.575 </td> <td>                  </td> <td>nan                 </td> <td>75.25         </td> <td>75.65          </td> <td>64.0375   </td> <td>nan           </td>\n",
       "        </tr>\n",
       "    </tbody>\n",
       "</table>"
      ],
      "text/plain": [
       "generation | name mean | pokedex_number mean | type1 mean | type2 mean | abilities mean | is_legendary mean | base_total mean | capture_rate mean | against_bug mean | against_dark mean | against_dragon mean | against_electric mean | against_fairy mean | against_fight mean | against_fire mean | against_flying mean | against_ghost mean | against_grass mean | against_ground mean | against_ice mean | against_normal mean | against_poison mean | against_psychic mean | against_rock mean | against_steel mean | against_water mean | attack mean | base_egg_steps mean | base_happiness mean | classfication mean | defense mean | experience_growth mean | height_m mean | hp mean | japanese_name mean | percentage_male mean | sp_attack mean | sp_defense mean | speed mean | weight_kg mean\n",
       "1          |           | 76                  |            |            |                | 0.0331126         | 416.252         |                   | 0.905629         | 1.06623           | 0.980132            | 1.15894               | 0.917219           | 0.953642           | 1.03642           | 1.16887             | 0.966887           | 1.14735            | 1.16887             | 1.1606           | 0.937086            | 0.899007            | 1.21854              | 1.27152           | 0.937086           | 1.10927            | 74.5298     | 5933.77             | 69.7351             |                    | 70.0795      | 1.05228e+06            | nan           | 64.3444 |                    | nan                  | 69.404         | 67.7417         | 70.1523    | nan\n",
       "2          |           | 201.5               |            |            |                | 0.06              | 413.18          |                   | 0.99             | 1.025             | 0.91                | 1.125                 | 1                  | 1.095              | 1.1325            | 1.13                | 0.92               | 1.1075             | 1.025               | 1.205            | 0.935               | 1.04                | 0.94                 | 1.3725            | 0.985              | 1.1425             | 69.96       | 6528                | 66.1                |                    | 71.79        | 1.02587e+06            | 1.163         | 70.98   |                    | nan                  | 65.4           | 73.44           | 61.61      | 49.105\n",
       "3          |           | 319                 |            |            |                | 0.0740741         | 420.022         |                   | 1.14259          | 1.08889           | 1                   | 1.05556               | 1.11111            | 1.13889            | 1.08704           | 1.18704             | 1.01852            | 1.11296            | 1.07778             | 1.20556          | 0.883333            | 0.955556            | 0.907407             | 1.17778           | 0.966667           | 1.01667            | 77.1852     | 7054.22             | 61.963              |                    | 72.637       | 1.05886e+06            | 1.22963       | 65.6667 |                    | nan                  | 71.563         | 69.3926         | 63.5778    | 67.0778\n",
       "4          |           | 440                 |            |            |                | 0.121495          | 451.178         |                   | 0.997664         | 1.07009           | 0.985981            | 1.04673               | 1.03972            | 1.16589            | 1.21729           | 1.18224             | 0.962617           | 0.971963           | 1.16121             | 1.26636          | 0.852804            | 0.904206            | 0.971963             | 1.20794           | 0.964953           | 1.03505            | 82.6729     | 7895.33             | 68.0374             |                    | 76.1682      | 1.05566e+06            | 1.13364       | 73.1028 |                    | nan                  | 74.6355        | 74.5234         | 70.0748    | 76.885\n",
       "5          |           | 571.5               |            |            |                | 0.0833333         | 427.038         |                   | 1.03205          | 1.05128           | 1.01282             | 1.01442               | 1.16667            | 1.12179            | 1.23878           | 1.22436             | 0.987179           | 0.948718           | 1.04327             | 1.19231          | 0.871795            | 0.945513            | 0.942308             | 1.24679           | 0.939103           | 1.0641             | 80.5577     | 7228.72             | 65.609              |                    | 71.9615      | 1.06156e+06            | 1.03205       | 70.3141 |                    | nan                  | 69.9744        | 67.7115         | 66.5192    | 52.4026\n",
       "6          |           | 685.5               |            |            |                | 0.0833333         | 437.611         |                   | 0.940972         | 1.04514           | 0.923611            | 1.05556               | 1.15972            | 1.01736            | 1.04514           | 1.13194             | 1.04861            | 0.979167           | 1.13194             | 1.24653          | 0.826389            | 1.07639             | 0.944444             | 1.28472           | 1.21181            | 1.02083            | 76.5278     | 7200                | 66.4583             |                    | 73.5556      | 1.05053e+06            | nan           | 71.1111 |                    | nan                  | 76.5694        | 73.1944         | 66.6528    | nan\n",
       "7          |           | 761.5               |            |            |                | 0.2125            | 448.163         |                   | 0.90625          | 1.03125           | 0.9                 | 1.05                  | 1.1375             | 0.915625           | 1.17813           | 1.33438             | 1.0125             | 0.89375            | 1.08125             | 1.225            | 0.86875             | 1.13437             | 1.07187              | 1.2125            | 1.00313            | 0.98125            | 84.6375     | 9600                | 56.875              |                    | 78.0125      | 1.08035e+06            | nan           | 70.575  |                    | nan                  | 75.25          | 75.65           | 64.0375    | nan"
      ]
     },
     "execution_count": 9,
     "metadata": {},
     "output_type": "execute_result"
    }
   ],
   "source": [
    "pokemon_table.group('generation',np.mean)"
   ]
  },
  {
   "cell_type": "code",
   "execution_count": 10,
   "metadata": {},
   "outputs": [
    {
     "data": {
      "text/html": [
       "<table border=\"1\" class=\"dataframe\">\n",
       "    <thead>\n",
       "        <tr>\n",
       "            <th>Major</th> <th>Sleep</th> <th>GPA</th>\n",
       "        </tr>\n",
       "    </thead>\n",
       "    <tbody>\n",
       "        <tr>\n",
       "            <td>CS   </td> <td>3    </td> <td>3.3 </td>\n",
       "        </tr>\n",
       "        <tr>\n",
       "            <td>CS   </td> <td>9    </td> <td>1.2 </td>\n",
       "        </tr>\n",
       "        <tr>\n",
       "            <td>Econ </td> <td>10   </td> <td>2.3 </td>\n",
       "        </tr>\n",
       "        <tr>\n",
       "            <td>CS   </td> <td>9    </td> <td>2.7 </td>\n",
       "        </tr>\n",
       "    </tbody>\n",
       "</table>"
      ],
      "text/plain": [
       "Major | Sleep | GPA\n",
       "CS    | 3     | 3.3\n",
       "CS    | 9     | 1.2\n",
       "Econ  | 10    | 2.3\n",
       "CS    | 9     | 2.7"
      ]
     },
     "execution_count": 10,
     "metadata": {},
     "output_type": "execute_result"
    }
   ],
   "source": [
    "data = Table().with_columns('Major',['CS','CS','Econ','CS'],'Sleep',[3,9,10,9],'GPA',[3.3,1.2,2.3,2.7])\n",
    "data"
   ]
  },
  {
   "cell_type": "code",
   "execution_count": 11,
   "metadata": {},
   "outputs": [
    {
     "data": {
      "text/html": [
       "<table border=\"1\" class=\"dataframe\">\n",
       "    <thead>\n",
       "        <tr>\n",
       "            <th>Major</th> <th>count</th>\n",
       "        </tr>\n",
       "    </thead>\n",
       "    <tbody>\n",
       "        <tr>\n",
       "            <td>CS   </td> <td>3    </td>\n",
       "        </tr>\n",
       "        <tr>\n",
       "            <td>Econ </td> <td>1    </td>\n",
       "        </tr>\n",
       "    </tbody>\n",
       "</table>"
      ],
      "text/plain": [
       "Major | count\n",
       "CS    | 3\n",
       "Econ  | 1"
      ]
     },
     "execution_count": 11,
     "metadata": {},
     "output_type": "execute_result"
    }
   ],
   "source": [
    "data.group('Major')"
   ]
  },
  {
   "cell_type": "code",
   "execution_count": 12,
   "metadata": {},
   "outputs": [
    {
     "data": {
      "text/html": [
       "<table border=\"1\" class=\"dataframe\">\n",
       "    <thead>\n",
       "        <tr>\n",
       "            <th>Subject</th> <th>Year</th>\n",
       "        </tr>\n",
       "    </thead>\n",
       "    <tbody>\n",
       "        <tr>\n",
       "            <td>CS     </td> <td>1   </td>\n",
       "        </tr>\n",
       "        <tr>\n",
       "            <td>Econ   </td> <td>2   </td>\n",
       "        </tr>\n",
       "        <tr>\n",
       "            <td>Math   </td> <td>1   </td>\n",
       "        </tr>\n",
       "        <tr>\n",
       "            <td>CS     </td> <td>2   </td>\n",
       "        </tr>\n",
       "    </tbody>\n",
       "</table>"
      ],
      "text/plain": [
       "Subject | Year\n",
       "CS      | 1\n",
       "Econ    | 2\n",
       "Math    | 1\n",
       "CS      | 2"
      ]
     },
     "execution_count": 12,
     "metadata": {},
     "output_type": "execute_result"
    }
   ],
   "source": [
    "year = Table().with_columns('Subject',['CS','Econ','Math','CS'],'Year',[1,2,1,2])\n",
    "year"
   ]
  },
  {
   "cell_type": "code",
   "execution_count": 15,
   "metadata": {},
   "outputs": [
    {
     "data": {
      "text/html": [
       "<table border=\"1\" class=\"dataframe\">\n",
       "    <thead>\n",
       "        <tr>\n",
       "            <th>Major</th> <th>Sleep</th> <th>GPA</th> <th>Year</th>\n",
       "        </tr>\n",
       "    </thead>\n",
       "    <tbody>\n",
       "        <tr>\n",
       "            <td>CS   </td> <td>3    </td> <td>3.3 </td> <td>1   </td>\n",
       "        </tr>\n",
       "        <tr>\n",
       "            <td>CS   </td> <td>3    </td> <td>3.3 </td> <td>2   </td>\n",
       "        </tr>\n",
       "        <tr>\n",
       "            <td>CS   </td> <td>9    </td> <td>1.2 </td> <td>1   </td>\n",
       "        </tr>\n",
       "        <tr>\n",
       "            <td>CS   </td> <td>9    </td> <td>1.2 </td> <td>2   </td>\n",
       "        </tr>\n",
       "        <tr>\n",
       "            <td>CS   </td> <td>9    </td> <td>2.7 </td> <td>1   </td>\n",
       "        </tr>\n",
       "        <tr>\n",
       "            <td>CS   </td> <td>9    </td> <td>2.7 </td> <td>2   </td>\n",
       "        </tr>\n",
       "        <tr>\n",
       "            <td>Econ </td> <td>10   </td> <td>2.3 </td> <td>2   </td>\n",
       "        </tr>\n",
       "    </tbody>\n",
       "</table>"
      ],
      "text/plain": [
       "Major | Sleep | GPA  | Year\n",
       "CS    | 3     | 3.3  | 1\n",
       "CS    | 3     | 3.3  | 2\n",
       "CS    | 9     | 1.2  | 1\n",
       "CS    | 9     | 1.2  | 2\n",
       "CS    | 9     | 2.7  | 1\n",
       "CS    | 9     | 2.7  | 2\n",
       "Econ  | 10    | 2.3  | 2"
      ]
     },
     "execution_count": 15,
     "metadata": {},
     "output_type": "execute_result"
    }
   ],
   "source": [
    "new_data = data.join('Major',year,'Subject')\n",
    "new_data"
   ]
  },
  {
   "cell_type": "code",
   "execution_count": 20,
   "metadata": {},
   "outputs": [
    {
     "data": {
      "text/html": [
       "<table border=\"1\" class=\"dataframe\">\n",
       "    <thead>\n",
       "        <tr>\n",
       "            <th>Year</th> <th>CS</th> <th>Econ</th>\n",
       "        </tr>\n",
       "    </thead>\n",
       "    <tbody>\n",
       "        <tr>\n",
       "            <td>1   </td> <td>3   </td> <td>0   </td>\n",
       "        </tr>\n",
       "        <tr>\n",
       "            <td>2   </td> <td>3   </td> <td>1   </td>\n",
       "        </tr>\n",
       "    </tbody>\n",
       "</table>"
      ],
      "text/plain": [
       "Year | CS   | Econ\n",
       "1    | 3    | 0\n",
       "2    | 3    | 1"
      ]
     },
     "execution_count": 20,
     "metadata": {},
     "output_type": "execute_result"
    }
   ],
   "source": [
    "new_data.pivot('Major','Year')"
   ]
  },
  {
   "cell_type": "code",
   "execution_count": 21,
   "metadata": {},
   "outputs": [
    {
     "data": {
      "text/html": [
       "<table border=\"1\" class=\"dataframe\">\n",
       "    <thead>\n",
       "        <tr>\n",
       "            <th>Year</th> <th>CS</th> <th>Econ</th>\n",
       "        </tr>\n",
       "    </thead>\n",
       "    <tbody>\n",
       "        <tr>\n",
       "            <td>1   </td> <td>2.4 </td> <td>0   </td>\n",
       "        </tr>\n",
       "        <tr>\n",
       "            <td>2   </td> <td>2.4 </td> <td>2.3 </td>\n",
       "        </tr>\n",
       "    </tbody>\n",
       "</table>"
      ],
      "text/plain": [
       "Year | CS   | Econ\n",
       "1    | 2.4  | 0\n",
       "2    | 2.4  | 2.3"
      ]
     },
     "execution_count": 21,
     "metadata": {},
     "output_type": "execute_result"
    }
   ],
   "source": [
    "new_data.pivot('Major','Year',values='GPA',collect=np.mean)"
   ]
  }
 ],
 "metadata": {
  "kernelspec": {
   "display_name": "Python 3",
   "language": "python",
   "name": "python3"
  },
  "language_info": {
   "codemirror_mode": {
    "name": "ipython",
    "version": 3
   },
   "file_extension": ".py",
   "mimetype": "text/x-python",
   "name": "python",
   "nbconvert_exporter": "python",
   "pygments_lexer": "ipython3",
   "version": "3.6.9"
  }
 },
 "nbformat": 4,
 "nbformat_minor": 2
}
